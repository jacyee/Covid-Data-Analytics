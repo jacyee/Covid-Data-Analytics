{
 "cells": [
  {
   "cell_type": "code",
   "execution_count": 1,
   "metadata": {},
   "outputs": [],
   "source": [
    "import pandas as pd\n",
    "import numpy as np\n",
    "import matplotlib.pyplot as plt\n",
    "import seaborn as sns\n",
    "import numpy as np\n",
    "from datetime import datetime, date,timedelta"
   ]
  },
  {
   "cell_type": "code",
   "execution_count": 2,
   "metadata": {
    "scrolled": true
   },
   "outputs": [
    {
     "data": {
      "text/html": [
       "<div>\n",
       "<style scoped>\n",
       "    .dataframe tbody tr th:only-of-type {\n",
       "        vertical-align: middle;\n",
       "    }\n",
       "\n",
       "    .dataframe tbody tr th {\n",
       "        vertical-align: top;\n",
       "    }\n",
       "\n",
       "    .dataframe thead th {\n",
       "        text-align: right;\n",
       "    }\n",
       "</style>\n",
       "<table border=\"1\" class=\"dataframe\">\n",
       "  <thead>\n",
       "    <tr style=\"text-align: right;\">\n",
       "      <th></th>\n",
       "      <th>Consumer ID</th>\n",
       "      <th>Order ID</th>\n",
       "      <th>Month</th>\n",
       "      <th>Year</th>\n",
       "      <th>Period</th>\n",
       "      <th>Total order value</th>\n",
       "      <th>Discount</th>\n",
       "      <th>Line Value (net discount)</th>\n",
       "      <th>Line SKU Production Cost</th>\n",
       "      <th>Line Category</th>\n",
       "      <th>Line SKU</th>\n",
       "      <th>Average Time between Purchases</th>\n",
       "    </tr>\n",
       "  </thead>\n",
       "  <tbody>\n",
       "    <tr>\n",
       "      <th>0</th>\n",
       "      <td>13121938</td>\n",
       "      <td>13121938B</td>\n",
       "      <td>3</td>\n",
       "      <td>2020</td>\n",
       "      <td>3/1/2020</td>\n",
       "      <td>168 €</td>\n",
       "      <td>0 €</td>\n",
       "      <td>168 €</td>\n",
       "      <td>25 €</td>\n",
       "      <td>Small leather goods</td>\n",
       "      <td>SMA4</td>\n",
       "      <td>NaN</td>\n",
       "    </tr>\n",
       "    <tr>\n",
       "      <th>1</th>\n",
       "      <td>13121938</td>\n",
       "      <td>13121938C</td>\n",
       "      <td>5</td>\n",
       "      <td>2020</td>\n",
       "      <td>5/1/2020</td>\n",
       "      <td>220 €</td>\n",
       "      <td>0 €</td>\n",
       "      <td>220 €</td>\n",
       "      <td>40 €</td>\n",
       "      <td>Fragrances</td>\n",
       "      <td>FRA4</td>\n",
       "      <td>2.0</td>\n",
       "    </tr>\n",
       "    <tr>\n",
       "      <th>2</th>\n",
       "      <td>13121938</td>\n",
       "      <td>13121938D</td>\n",
       "      <td>7</td>\n",
       "      <td>2020</td>\n",
       "      <td>7/1/2020</td>\n",
       "      <td>240 €</td>\n",
       "      <td>0 €</td>\n",
       "      <td>240 €</td>\n",
       "      <td>43 €</td>\n",
       "      <td>Fragrances</td>\n",
       "      <td>FRA5</td>\n",
       "      <td>2.0</td>\n",
       "    </tr>\n",
       "    <tr>\n",
       "      <th>3</th>\n",
       "      <td>13139819</td>\n",
       "      <td>13139819A</td>\n",
       "      <td>1</td>\n",
       "      <td>2020</td>\n",
       "      <td>1/1/2020</td>\n",
       "      <td>313 €</td>\n",
       "      <td>63 €</td>\n",
       "      <td>250 €</td>\n",
       "      <td>94 €</td>\n",
       "      <td>Accessories</td>\n",
       "      <td>ACC4</td>\n",
       "      <td>NaN</td>\n",
       "    </tr>\n",
       "    <tr>\n",
       "      <th>4</th>\n",
       "      <td>13139819</td>\n",
       "      <td>13139819B</td>\n",
       "      <td>9</td>\n",
       "      <td>2020</td>\n",
       "      <td>9/1/2020</td>\n",
       "      <td>951 €</td>\n",
       "      <td>0 €</td>\n",
       "      <td>951 €</td>\n",
       "      <td>247 €</td>\n",
       "      <td>Mini bags</td>\n",
       "      <td>MIN3</td>\n",
       "      <td>8.0</td>\n",
       "    </tr>\n",
       "  </tbody>\n",
       "</table>\n",
       "</div>"
      ],
      "text/plain": [
       "   Consumer ID   Order ID  Month  Year    Period Total order value Discount  \\\n",
       "0     13121938  13121938B      3  2020  3/1/2020             168 €      0 €   \n",
       "1     13121938  13121938C      5  2020  5/1/2020             220 €      0 €   \n",
       "2     13121938  13121938D      7  2020  7/1/2020             240 €      0 €   \n",
       "3     13139819  13139819A      1  2020  1/1/2020             313 €     63 €   \n",
       "4     13139819  13139819B      9  2020  9/1/2020             951 €      0 €   \n",
       "\n",
       "  Line Value (net discount) Line SKU Production Cost        Line Category  \\\n",
       "0                     168 €                     25 €  Small leather goods   \n",
       "1                     220 €                     40 €           Fragrances   \n",
       "2                     240 €                     43 €           Fragrances   \n",
       "3                     250 €                     94 €          Accessories   \n",
       "4                     951 €                    247 €            Mini bags   \n",
       "\n",
       "  Line SKU  Average Time between Purchases  \n",
       "0     SMA4                             NaN  \n",
       "1     FRA4                             2.0  \n",
       "2     FRA5                             2.0  \n",
       "3     ACC4                             NaN  \n",
       "4     MIN3                             8.0  "
      ]
     },
     "execution_count": 2,
     "metadata": {},
     "output_type": "execute_result"
    }
   ],
   "source": [
    "trans_data = pd.read_csv('transaction.csv')\n",
    "trans_data.head()"
   ]
  },
  {
   "cell_type": "code",
   "execution_count": 3,
   "metadata": {},
   "outputs": [
    {
     "data": {
      "text/html": [
       "<div>\n",
       "<style scoped>\n",
       "    .dataframe tbody tr th:only-of-type {\n",
       "        vertical-align: middle;\n",
       "    }\n",
       "\n",
       "    .dataframe tbody tr th {\n",
       "        vertical-align: top;\n",
       "    }\n",
       "\n",
       "    .dataframe thead th {\n",
       "        text-align: right;\n",
       "    }\n",
       "</style>\n",
       "<table border=\"1\" class=\"dataframe\">\n",
       "  <thead>\n",
       "    <tr style=\"text-align: right;\">\n",
       "      <th></th>\n",
       "      <th>Consumer ID</th>\n",
       "      <th>Gender</th>\n",
       "      <th>Country</th>\n",
       "      <th>Age Range</th>\n",
       "      <th>Month</th>\n",
       "      <th>Year</th>\n",
       "      <th>Marketing optin</th>\n",
       "      <th>Status</th>\n",
       "      <th>Number of orders</th>\n",
       "      <th>New active</th>\n",
       "      <th>New repeaters</th>\n",
       "      <th>Consumer LTV</th>\n",
       "    </tr>\n",
       "  </thead>\n",
       "  <tbody>\n",
       "    <tr>\n",
       "      <th>0</th>\n",
       "      <td>13139819</td>\n",
       "      <td>F</td>\n",
       "      <td>Italy</td>\n",
       "      <td>25-29</td>\n",
       "      <td>1</td>\n",
       "      <td>2020</td>\n",
       "      <td>0</td>\n",
       "      <td>Active</td>\n",
       "      <td>4</td>\n",
       "      <td>0</td>\n",
       "      <td>1</td>\n",
       "      <td>3160</td>\n",
       "    </tr>\n",
       "    <tr>\n",
       "      <th>1</th>\n",
       "      <td>13139919</td>\n",
       "      <td>F</td>\n",
       "      <td>Italy</td>\n",
       "      <td>30-34</td>\n",
       "      <td>1</td>\n",
       "      <td>2020</td>\n",
       "      <td>0</td>\n",
       "      <td>Active</td>\n",
       "      <td>4</td>\n",
       "      <td>0</td>\n",
       "      <td>1</td>\n",
       "      <td>4794</td>\n",
       "    </tr>\n",
       "    <tr>\n",
       "      <th>2</th>\n",
       "      <td>13010119</td>\n",
       "      <td>F</td>\n",
       "      <td>Italy</td>\n",
       "      <td>18-24</td>\n",
       "      <td>1</td>\n",
       "      <td>2020</td>\n",
       "      <td>0</td>\n",
       "      <td>Active</td>\n",
       "      <td>4</td>\n",
       "      <td>0</td>\n",
       "      <td>1</td>\n",
       "      <td>2063</td>\n",
       "    </tr>\n",
       "    <tr>\n",
       "      <th>3</th>\n",
       "      <td>13110119</td>\n",
       "      <td>F</td>\n",
       "      <td>Italy</td>\n",
       "      <td>30-34</td>\n",
       "      <td>1</td>\n",
       "      <td>2020</td>\n",
       "      <td>1</td>\n",
       "      <td>Active</td>\n",
       "      <td>4</td>\n",
       "      <td>0</td>\n",
       "      <td>1</td>\n",
       "      <td>2058</td>\n",
       "    </tr>\n",
       "    <tr>\n",
       "      <th>4</th>\n",
       "      <td>13132319</td>\n",
       "      <td>F</td>\n",
       "      <td>Italy</td>\n",
       "      <td>18-24</td>\n",
       "      <td>1</td>\n",
       "      <td>2020</td>\n",
       "      <td>1</td>\n",
       "      <td>Active</td>\n",
       "      <td>4</td>\n",
       "      <td>0</td>\n",
       "      <td>1</td>\n",
       "      <td>1648</td>\n",
       "    </tr>\n",
       "  </tbody>\n",
       "</table>\n",
       "</div>"
      ],
      "text/plain": [
       "   Consumer ID Gender Country Age Range  Month  Year  Marketing optin  Status  \\\n",
       "0     13139819      F   Italy     25-29      1  2020                0  Active   \n",
       "1     13139919      F   Italy     30-34      1  2020                0  Active   \n",
       "2     13010119      F   Italy     18-24      1  2020                0  Active   \n",
       "3     13110119      F   Italy     30-34      1  2020                1  Active   \n",
       "4     13132319      F   Italy     18-24      1  2020                1  Active   \n",
       "\n",
       "   Number of orders  New active  New repeaters  Consumer LTV  \n",
       "0                 4           0              1          3160  \n",
       "1                 4           0              1          4794  \n",
       "2                 4           0              1          2063  \n",
       "3                 4           0              1          2058  \n",
       "4                 4           0              1          1648  "
      ]
     },
     "execution_count": 3,
     "metadata": {},
     "output_type": "execute_result"
    }
   ],
   "source": [
    "cust_data = pd.read_csv('customer.csv')\n",
    "cust_data.head()"
   ]
  },
  {
   "cell_type": "code",
   "execution_count": 4,
   "metadata": {},
   "outputs": [
    {
     "data": {
      "text/plain": [
       "(3678, 12)"
      ]
     },
     "execution_count": 4,
     "metadata": {},
     "output_type": "execute_result"
    }
   ],
   "source": [
    "# dimension of transactions\n",
    "trans_data.shape"
   ]
  },
  {
   "cell_type": "code",
   "execution_count": 5,
   "metadata": {},
   "outputs": [
    {
     "data": {
      "text/plain": [
       "(3187, 12)"
      ]
     },
     "execution_count": 5,
     "metadata": {},
     "output_type": "execute_result"
    }
   ],
   "source": [
    "# dimension of customer\n",
    "cust_data.shape"
   ]
  },
  {
   "cell_type": "code",
   "execution_count": 6,
   "metadata": {},
   "outputs": [
    {
     "data": {
      "text/html": [
       "<div>\n",
       "<style scoped>\n",
       "    .dataframe tbody tr th:only-of-type {\n",
       "        vertical-align: middle;\n",
       "    }\n",
       "\n",
       "    .dataframe tbody tr th {\n",
       "        vertical-align: top;\n",
       "    }\n",
       "\n",
       "    .dataframe thead th {\n",
       "        text-align: right;\n",
       "    }\n",
       "</style>\n",
       "<table border=\"1\" class=\"dataframe\">\n",
       "  <thead>\n",
       "    <tr style=\"text-align: right;\">\n",
       "      <th></th>\n",
       "      <th>consumer_id</th>\n",
       "      <th>order_id</th>\n",
       "      <th>month</th>\n",
       "      <th>year</th>\n",
       "      <th>period</th>\n",
       "      <th>total_order_value</th>\n",
       "      <th>discount</th>\n",
       "      <th>line_value</th>\n",
       "      <th>line_sku_production_cost</th>\n",
       "      <th>line_category</th>\n",
       "      <th>line_sku</th>\n",
       "      <th>average_time_between_purchases</th>\n",
       "    </tr>\n",
       "  </thead>\n",
       "  <tbody>\n",
       "    <tr>\n",
       "      <th>0</th>\n",
       "      <td>13121938</td>\n",
       "      <td>13121938B</td>\n",
       "      <td>3</td>\n",
       "      <td>2020</td>\n",
       "      <td>3/1/2020</td>\n",
       "      <td>168 €</td>\n",
       "      <td>0 €</td>\n",
       "      <td>168 €</td>\n",
       "      <td>25 €</td>\n",
       "      <td>Small leather goods</td>\n",
       "      <td>SMA4</td>\n",
       "      <td>NaN</td>\n",
       "    </tr>\n",
       "    <tr>\n",
       "      <th>1</th>\n",
       "      <td>13121938</td>\n",
       "      <td>13121938C</td>\n",
       "      <td>5</td>\n",
       "      <td>2020</td>\n",
       "      <td>5/1/2020</td>\n",
       "      <td>220 €</td>\n",
       "      <td>0 €</td>\n",
       "      <td>220 €</td>\n",
       "      <td>40 €</td>\n",
       "      <td>Fragrances</td>\n",
       "      <td>FRA4</td>\n",
       "      <td>2.0</td>\n",
       "    </tr>\n",
       "    <tr>\n",
       "      <th>2</th>\n",
       "      <td>13121938</td>\n",
       "      <td>13121938D</td>\n",
       "      <td>7</td>\n",
       "      <td>2020</td>\n",
       "      <td>7/1/2020</td>\n",
       "      <td>240 €</td>\n",
       "      <td>0 €</td>\n",
       "      <td>240 €</td>\n",
       "      <td>43 €</td>\n",
       "      <td>Fragrances</td>\n",
       "      <td>FRA5</td>\n",
       "      <td>2.0</td>\n",
       "    </tr>\n",
       "    <tr>\n",
       "      <th>3</th>\n",
       "      <td>13139819</td>\n",
       "      <td>13139819A</td>\n",
       "      <td>1</td>\n",
       "      <td>2020</td>\n",
       "      <td>1/1/2020</td>\n",
       "      <td>313 €</td>\n",
       "      <td>63 €</td>\n",
       "      <td>250 €</td>\n",
       "      <td>94 €</td>\n",
       "      <td>Accessories</td>\n",
       "      <td>ACC4</td>\n",
       "      <td>NaN</td>\n",
       "    </tr>\n",
       "    <tr>\n",
       "      <th>4</th>\n",
       "      <td>13139819</td>\n",
       "      <td>13139819B</td>\n",
       "      <td>9</td>\n",
       "      <td>2020</td>\n",
       "      <td>9/1/2020</td>\n",
       "      <td>951 €</td>\n",
       "      <td>0 €</td>\n",
       "      <td>951 €</td>\n",
       "      <td>247 €</td>\n",
       "      <td>Mini bags</td>\n",
       "      <td>MIN3</td>\n",
       "      <td>8.0</td>\n",
       "    </tr>\n",
       "  </tbody>\n",
       "</table>\n",
       "</div>"
      ],
      "text/plain": [
       "   consumer_id   order_id  month  year    period total_order_value discount  \\\n",
       "0     13121938  13121938B      3  2020  3/1/2020             168 €      0 €   \n",
       "1     13121938  13121938C      5  2020  5/1/2020             220 €      0 €   \n",
       "2     13121938  13121938D      7  2020  7/1/2020             240 €      0 €   \n",
       "3     13139819  13139819A      1  2020  1/1/2020             313 €     63 €   \n",
       "4     13139819  13139819B      9  2020  9/1/2020             951 €      0 €   \n",
       "\n",
       "  line_value line_sku_production_cost        line_category line_sku  \\\n",
       "0      168 €                     25 €  Small leather goods     SMA4   \n",
       "1      220 €                     40 €           Fragrances     FRA4   \n",
       "2      240 €                     43 €           Fragrances     FRA5   \n",
       "3      250 €                     94 €          Accessories     ACC4   \n",
       "4      951 €                    247 €            Mini bags     MIN3   \n",
       "\n",
       "   average_time_between_purchases  \n",
       "0                             NaN  \n",
       "1                             2.0  \n",
       "2                             2.0  \n",
       "3                             NaN  \n",
       "4                             8.0  "
      ]
     },
     "execution_count": 6,
     "metadata": {},
     "output_type": "execute_result"
    }
   ],
   "source": [
    "# col rename for transaction\n",
    "trans_data.rename(columns={'Consumer ID':'consumer_id','Order ID':'order_id','Month':'month','Year':'year','Period':'period','Total order value':'total_order_value',\n",
    "                                        'Line Value (net discount)':'line_value','Line SKU Production Cost':'line_sku_production_cost',\n",
    "                                        'Line Category':'line_category','Line SKU':'line_sku',\n",
    "                                        'Average Time between Purchases':'average_time_between_purchases','Discount':'discount'},inplace = True)\n",
    "trans_data.head()"
   ]
  },
  {
   "cell_type": "code",
   "execution_count": 7,
   "metadata": {},
   "outputs": [
    {
     "data": {
      "text/html": [
       "<div>\n",
       "<style scoped>\n",
       "    .dataframe tbody tr th:only-of-type {\n",
       "        vertical-align: middle;\n",
       "    }\n",
       "\n",
       "    .dataframe tbody tr th {\n",
       "        vertical-align: top;\n",
       "    }\n",
       "\n",
       "    .dataframe thead th {\n",
       "        text-align: right;\n",
       "    }\n",
       "</style>\n",
       "<table border=\"1\" class=\"dataframe\">\n",
       "  <thead>\n",
       "    <tr style=\"text-align: right;\">\n",
       "      <th></th>\n",
       "      <th>consumer_id</th>\n",
       "      <th>gender</th>\n",
       "      <th>country</th>\n",
       "      <th>age_range</th>\n",
       "      <th>month</th>\n",
       "      <th>year</th>\n",
       "      <th>marketing_option</th>\n",
       "      <th>status</th>\n",
       "      <th>num_of_orders</th>\n",
       "      <th>new_active</th>\n",
       "      <th>new_repeaters</th>\n",
       "      <th>consumer_ltv</th>\n",
       "    </tr>\n",
       "  </thead>\n",
       "  <tbody>\n",
       "    <tr>\n",
       "      <th>0</th>\n",
       "      <td>13139819</td>\n",
       "      <td>F</td>\n",
       "      <td>Italy</td>\n",
       "      <td>25-29</td>\n",
       "      <td>1</td>\n",
       "      <td>2020</td>\n",
       "      <td>0</td>\n",
       "      <td>Active</td>\n",
       "      <td>4</td>\n",
       "      <td>0</td>\n",
       "      <td>1</td>\n",
       "      <td>3160</td>\n",
       "    </tr>\n",
       "    <tr>\n",
       "      <th>1</th>\n",
       "      <td>13139919</td>\n",
       "      <td>F</td>\n",
       "      <td>Italy</td>\n",
       "      <td>30-34</td>\n",
       "      <td>1</td>\n",
       "      <td>2020</td>\n",
       "      <td>0</td>\n",
       "      <td>Active</td>\n",
       "      <td>4</td>\n",
       "      <td>0</td>\n",
       "      <td>1</td>\n",
       "      <td>4794</td>\n",
       "    </tr>\n",
       "    <tr>\n",
       "      <th>2</th>\n",
       "      <td>13010119</td>\n",
       "      <td>F</td>\n",
       "      <td>Italy</td>\n",
       "      <td>18-24</td>\n",
       "      <td>1</td>\n",
       "      <td>2020</td>\n",
       "      <td>0</td>\n",
       "      <td>Active</td>\n",
       "      <td>4</td>\n",
       "      <td>0</td>\n",
       "      <td>1</td>\n",
       "      <td>2063</td>\n",
       "    </tr>\n",
       "    <tr>\n",
       "      <th>3</th>\n",
       "      <td>13110119</td>\n",
       "      <td>F</td>\n",
       "      <td>Italy</td>\n",
       "      <td>30-34</td>\n",
       "      <td>1</td>\n",
       "      <td>2020</td>\n",
       "      <td>1</td>\n",
       "      <td>Active</td>\n",
       "      <td>4</td>\n",
       "      <td>0</td>\n",
       "      <td>1</td>\n",
       "      <td>2058</td>\n",
       "    </tr>\n",
       "    <tr>\n",
       "      <th>4</th>\n",
       "      <td>13132319</td>\n",
       "      <td>F</td>\n",
       "      <td>Italy</td>\n",
       "      <td>18-24</td>\n",
       "      <td>1</td>\n",
       "      <td>2020</td>\n",
       "      <td>1</td>\n",
       "      <td>Active</td>\n",
       "      <td>4</td>\n",
       "      <td>0</td>\n",
       "      <td>1</td>\n",
       "      <td>1648</td>\n",
       "    </tr>\n",
       "  </tbody>\n",
       "</table>\n",
       "</div>"
      ],
      "text/plain": [
       "   consumer_id gender country age_range  month  year  marketing_option  \\\n",
       "0     13139819      F   Italy     25-29      1  2020                 0   \n",
       "1     13139919      F   Italy     30-34      1  2020                 0   \n",
       "2     13010119      F   Italy     18-24      1  2020                 0   \n",
       "3     13110119      F   Italy     30-34      1  2020                 1   \n",
       "4     13132319      F   Italy     18-24      1  2020                 1   \n",
       "\n",
       "   status  num_of_orders  new_active  new_repeaters  consumer_ltv  \n",
       "0  Active              4           0              1          3160  \n",
       "1  Active              4           0              1          4794  \n",
       "2  Active              4           0              1          2063  \n",
       "3  Active              4           0              1          2058  \n",
       "4  Active              4           0              1          1648  "
      ]
     },
     "execution_count": 7,
     "metadata": {},
     "output_type": "execute_result"
    }
   ],
   "source": [
    "# col rename for cust\n",
    "cust_data.rename(columns={'Consumer ID':'consumer_id','Age Range':'age_range','Marketing optin':'marketing_option',\n",
    "                          'Number of orders':'num_of_orders','New active':'new_active',\n",
    "                          'New repeaters':'new_repeaters','Consumer LTV':'consumer_ltv',\n",
    "                          'Gender':'gender','Month':'month','Year':'year','Status':'status','Country':'country'},inplace = True)\n",
    "cust_data.head()"
   ]
  },
  {
   "cell_type": "code",
   "execution_count": 8,
   "metadata": {},
   "outputs": [
    {
     "data": {
      "text/html": [
       "<div>\n",
       "<style scoped>\n",
       "    .dataframe tbody tr th:only-of-type {\n",
       "        vertical-align: middle;\n",
       "    }\n",
       "\n",
       "    .dataframe tbody tr th {\n",
       "        vertical-align: top;\n",
       "    }\n",
       "\n",
       "    .dataframe thead th {\n",
       "        text-align: right;\n",
       "    }\n",
       "</style>\n",
       "<table border=\"1\" class=\"dataframe\">\n",
       "  <thead>\n",
       "    <tr style=\"text-align: right;\">\n",
       "      <th></th>\n",
       "      <th>consumer_id</th>\n",
       "      <th>order_id</th>\n",
       "      <th>month</th>\n",
       "      <th>year</th>\n",
       "      <th>period</th>\n",
       "      <th>total_order_value</th>\n",
       "      <th>discount</th>\n",
       "      <th>line_value</th>\n",
       "      <th>line_sku_production_cost</th>\n",
       "      <th>line_category</th>\n",
       "      <th>line_sku</th>\n",
       "      <th>average_time_between_purchases</th>\n",
       "    </tr>\n",
       "  </thead>\n",
       "  <tbody>\n",
       "    <tr>\n",
       "      <th>0</th>\n",
       "      <td>13121938</td>\n",
       "      <td>13121938B</td>\n",
       "      <td>3</td>\n",
       "      <td>2020</td>\n",
       "      <td>3/1/2020</td>\n",
       "      <td>168 €</td>\n",
       "      <td>0 €</td>\n",
       "      <td>168 €</td>\n",
       "      <td>25 €</td>\n",
       "      <td>Small leather goods</td>\n",
       "      <td>SMA4</td>\n",
       "      <td>NaN</td>\n",
       "    </tr>\n",
       "    <tr>\n",
       "      <th>1</th>\n",
       "      <td>13121938</td>\n",
       "      <td>13121938C</td>\n",
       "      <td>5</td>\n",
       "      <td>2020</td>\n",
       "      <td>5/1/2020</td>\n",
       "      <td>220 €</td>\n",
       "      <td>0 €</td>\n",
       "      <td>220 €</td>\n",
       "      <td>40 €</td>\n",
       "      <td>Fragrances</td>\n",
       "      <td>FRA4</td>\n",
       "      <td>2.0</td>\n",
       "    </tr>\n",
       "    <tr>\n",
       "      <th>2</th>\n",
       "      <td>13121938</td>\n",
       "      <td>13121938D</td>\n",
       "      <td>7</td>\n",
       "      <td>2020</td>\n",
       "      <td>7/1/2020</td>\n",
       "      <td>240 €</td>\n",
       "      <td>0 €</td>\n",
       "      <td>240 €</td>\n",
       "      <td>43 €</td>\n",
       "      <td>Fragrances</td>\n",
       "      <td>FRA5</td>\n",
       "      <td>2.0</td>\n",
       "    </tr>\n",
       "    <tr>\n",
       "      <th>3</th>\n",
       "      <td>13139819</td>\n",
       "      <td>13139819A</td>\n",
       "      <td>1</td>\n",
       "      <td>2020</td>\n",
       "      <td>1/1/2020</td>\n",
       "      <td>313 €</td>\n",
       "      <td>63 €</td>\n",
       "      <td>250 €</td>\n",
       "      <td>94 €</td>\n",
       "      <td>Accessories</td>\n",
       "      <td>ACC4</td>\n",
       "      <td>NaN</td>\n",
       "    </tr>\n",
       "    <tr>\n",
       "      <th>4</th>\n",
       "      <td>13139819</td>\n",
       "      <td>13139819B</td>\n",
       "      <td>9</td>\n",
       "      <td>2020</td>\n",
       "      <td>9/1/2020</td>\n",
       "      <td>951 €</td>\n",
       "      <td>0 €</td>\n",
       "      <td>951 €</td>\n",
       "      <td>247 €</td>\n",
       "      <td>Mini bags</td>\n",
       "      <td>MIN3</td>\n",
       "      <td>8.0</td>\n",
       "    </tr>\n",
       "    <tr>\n",
       "      <th>...</th>\n",
       "      <td>...</td>\n",
       "      <td>...</td>\n",
       "      <td>...</td>\n",
       "      <td>...</td>\n",
       "      <td>...</td>\n",
       "      <td>...</td>\n",
       "      <td>...</td>\n",
       "      <td>...</td>\n",
       "      <td>...</td>\n",
       "      <td>...</td>\n",
       "      <td>...</td>\n",
       "      <td>...</td>\n",
       "    </tr>\n",
       "    <tr>\n",
       "      <th>3673</th>\n",
       "      <td>55010719</td>\n",
       "      <td>55010719A</td>\n",
       "      <td>10</td>\n",
       "      <td>2019</td>\n",
       "      <td>10/1/2019</td>\n",
       "      <td>240 €</td>\n",
       "      <td>48 €</td>\n",
       "      <td>192 €</td>\n",
       "      <td>43 €</td>\n",
       "      <td>Fragrances</td>\n",
       "      <td>FRA5</td>\n",
       "      <td>NaN</td>\n",
       "    </tr>\n",
       "    <tr>\n",
       "      <th>3674</th>\n",
       "      <td>55010819</td>\n",
       "      <td>55010819A</td>\n",
       "      <td>10</td>\n",
       "      <td>2019</td>\n",
       "      <td>10/1/2019</td>\n",
       "      <td>205 €</td>\n",
       "      <td>41 €</td>\n",
       "      <td>164 €</td>\n",
       "      <td>37 €</td>\n",
       "      <td>Fragrances</td>\n",
       "      <td>FRA3</td>\n",
       "      <td>NaN</td>\n",
       "    </tr>\n",
       "    <tr>\n",
       "      <th>3675</th>\n",
       "      <td>55010919</td>\n",
       "      <td>55010919A</td>\n",
       "      <td>10</td>\n",
       "      <td>2019</td>\n",
       "      <td>10/1/2019</td>\n",
       "      <td>192 €</td>\n",
       "      <td>38 €</td>\n",
       "      <td>154 €</td>\n",
       "      <td>35 €</td>\n",
       "      <td>Fragrances</td>\n",
       "      <td>FRA1</td>\n",
       "      <td>NaN</td>\n",
       "    </tr>\n",
       "    <tr>\n",
       "      <th>3676</th>\n",
       "      <td>55011019</td>\n",
       "      <td>55011019A</td>\n",
       "      <td>10</td>\n",
       "      <td>2019</td>\n",
       "      <td>10/1/2019</td>\n",
       "      <td>488 €</td>\n",
       "      <td>98 €</td>\n",
       "      <td>390 €</td>\n",
       "      <td>156 €</td>\n",
       "      <td>Sandals</td>\n",
       "      <td>SAN4</td>\n",
       "      <td>NaN</td>\n",
       "    </tr>\n",
       "    <tr>\n",
       "      <th>3677</th>\n",
       "      <td>55011119</td>\n",
       "      <td>55011119A</td>\n",
       "      <td>10</td>\n",
       "      <td>2019</td>\n",
       "      <td>10/1/2019</td>\n",
       "      <td>180 €</td>\n",
       "      <td>36 €</td>\n",
       "      <td>144 €</td>\n",
       "      <td>61 €</td>\n",
       "      <td>Sneakers</td>\n",
       "      <td>SNE3</td>\n",
       "      <td>NaN</td>\n",
       "    </tr>\n",
       "  </tbody>\n",
       "</table>\n",
       "<p>3678 rows × 12 columns</p>\n",
       "</div>"
      ],
      "text/plain": [
       "      consumer_id   order_id  month  year     period total_order_value  \\\n",
       "0        13121938  13121938B      3  2020   3/1/2020             168 €   \n",
       "1        13121938  13121938C      5  2020   5/1/2020             220 €   \n",
       "2        13121938  13121938D      7  2020   7/1/2020             240 €   \n",
       "3        13139819  13139819A      1  2020   1/1/2020             313 €   \n",
       "4        13139819  13139819B      9  2020   9/1/2020             951 €   \n",
       "...           ...        ...    ...   ...        ...               ...   \n",
       "3673     55010719  55010719A     10  2019  10/1/2019             240 €   \n",
       "3674     55010819  55010819A     10  2019  10/1/2019             205 €   \n",
       "3675     55010919  55010919A     10  2019  10/1/2019             192 €   \n",
       "3676     55011019  55011019A     10  2019  10/1/2019             488 €   \n",
       "3677     55011119  55011119A     10  2019  10/1/2019             180 €   \n",
       "\n",
       "     discount line_value line_sku_production_cost        line_category  \\\n",
       "0         0 €      168 €                     25 €  Small leather goods   \n",
       "1         0 €      220 €                     40 €           Fragrances   \n",
       "2         0 €      240 €                     43 €           Fragrances   \n",
       "3        63 €      250 €                     94 €          Accessories   \n",
       "4         0 €      951 €                    247 €            Mini bags   \n",
       "...       ...        ...                      ...                  ...   \n",
       "3673     48 €      192 €                     43 €           Fragrances   \n",
       "3674     41 €      164 €                     37 €           Fragrances   \n",
       "3675     38 €      154 €                     35 €           Fragrances   \n",
       "3676     98 €      390 €                    156 €              Sandals   \n",
       "3677     36 €      144 €                     61 €             Sneakers   \n",
       "\n",
       "     line_sku  average_time_between_purchases  \n",
       "0        SMA4                             NaN  \n",
       "1        FRA4                             2.0  \n",
       "2        FRA5                             2.0  \n",
       "3        ACC4                             NaN  \n",
       "4        MIN3                             8.0  \n",
       "...       ...                             ...  \n",
       "3673     FRA5                             NaN  \n",
       "3674     FRA3                             NaN  \n",
       "3675     FRA1                             NaN  \n",
       "3676     SAN4                             NaN  \n",
       "3677     SNE3                             NaN  \n",
       "\n",
       "[3678 rows x 12 columns]"
      ]
     },
     "execution_count": 8,
     "metadata": {},
     "output_type": "execute_result"
    }
   ],
   "source": [
    "# remove duplicate\n",
    "trans_data.drop_duplicates()"
   ]
  },
  {
   "cell_type": "code",
   "execution_count": 9,
   "metadata": {},
   "outputs": [
    {
     "data": {
      "text/html": [
       "<div>\n",
       "<style scoped>\n",
       "    .dataframe tbody tr th:only-of-type {\n",
       "        vertical-align: middle;\n",
       "    }\n",
       "\n",
       "    .dataframe tbody tr th {\n",
       "        vertical-align: top;\n",
       "    }\n",
       "\n",
       "    .dataframe thead th {\n",
       "        text-align: right;\n",
       "    }\n",
       "</style>\n",
       "<table border=\"1\" class=\"dataframe\">\n",
       "  <thead>\n",
       "    <tr style=\"text-align: right;\">\n",
       "      <th></th>\n",
       "      <th>consumer_id</th>\n",
       "      <th>gender</th>\n",
       "      <th>country</th>\n",
       "      <th>age_range</th>\n",
       "      <th>month</th>\n",
       "      <th>year</th>\n",
       "      <th>marketing_option</th>\n",
       "      <th>status</th>\n",
       "      <th>num_of_orders</th>\n",
       "      <th>new_active</th>\n",
       "      <th>new_repeaters</th>\n",
       "      <th>consumer_ltv</th>\n",
       "    </tr>\n",
       "  </thead>\n",
       "  <tbody>\n",
       "    <tr>\n",
       "      <th>0</th>\n",
       "      <td>13139819</td>\n",
       "      <td>F</td>\n",
       "      <td>Italy</td>\n",
       "      <td>25-29</td>\n",
       "      <td>1</td>\n",
       "      <td>2020</td>\n",
       "      <td>0</td>\n",
       "      <td>Active</td>\n",
       "      <td>4</td>\n",
       "      <td>0</td>\n",
       "      <td>1</td>\n",
       "      <td>3160</td>\n",
       "    </tr>\n",
       "    <tr>\n",
       "      <th>1</th>\n",
       "      <td>13139919</td>\n",
       "      <td>F</td>\n",
       "      <td>Italy</td>\n",
       "      <td>30-34</td>\n",
       "      <td>1</td>\n",
       "      <td>2020</td>\n",
       "      <td>0</td>\n",
       "      <td>Active</td>\n",
       "      <td>4</td>\n",
       "      <td>0</td>\n",
       "      <td>1</td>\n",
       "      <td>4794</td>\n",
       "    </tr>\n",
       "    <tr>\n",
       "      <th>2</th>\n",
       "      <td>13010119</td>\n",
       "      <td>F</td>\n",
       "      <td>Italy</td>\n",
       "      <td>18-24</td>\n",
       "      <td>1</td>\n",
       "      <td>2020</td>\n",
       "      <td>0</td>\n",
       "      <td>Active</td>\n",
       "      <td>4</td>\n",
       "      <td>0</td>\n",
       "      <td>1</td>\n",
       "      <td>2063</td>\n",
       "    </tr>\n",
       "    <tr>\n",
       "      <th>3</th>\n",
       "      <td>13110119</td>\n",
       "      <td>F</td>\n",
       "      <td>Italy</td>\n",
       "      <td>30-34</td>\n",
       "      <td>1</td>\n",
       "      <td>2020</td>\n",
       "      <td>1</td>\n",
       "      <td>Active</td>\n",
       "      <td>4</td>\n",
       "      <td>0</td>\n",
       "      <td>1</td>\n",
       "      <td>2058</td>\n",
       "    </tr>\n",
       "    <tr>\n",
       "      <th>4</th>\n",
       "      <td>13132319</td>\n",
       "      <td>F</td>\n",
       "      <td>Italy</td>\n",
       "      <td>18-24</td>\n",
       "      <td>1</td>\n",
       "      <td>2020</td>\n",
       "      <td>1</td>\n",
       "      <td>Active</td>\n",
       "      <td>4</td>\n",
       "      <td>0</td>\n",
       "      <td>1</td>\n",
       "      <td>1648</td>\n",
       "    </tr>\n",
       "    <tr>\n",
       "      <th>...</th>\n",
       "      <td>...</td>\n",
       "      <td>...</td>\n",
       "      <td>...</td>\n",
       "      <td>...</td>\n",
       "      <td>...</td>\n",
       "      <td>...</td>\n",
       "      <td>...</td>\n",
       "      <td>...</td>\n",
       "      <td>...</td>\n",
       "      <td>...</td>\n",
       "      <td>...</td>\n",
       "      <td>...</td>\n",
       "    </tr>\n",
       "    <tr>\n",
       "      <th>3182</th>\n",
       "      <td>12740209</td>\n",
       "      <td>F</td>\n",
       "      <td>Saudi Arabia</td>\n",
       "      <td>35-39</td>\n",
       "      <td>1</td>\n",
       "      <td>2020</td>\n",
       "      <td>1</td>\n",
       "      <td>Active</td>\n",
       "      <td>1</td>\n",
       "      <td>1</td>\n",
       "      <td>0</td>\n",
       "      <td>168</td>\n",
       "    </tr>\n",
       "    <tr>\n",
       "      <th>3183</th>\n",
       "      <td>12740210</td>\n",
       "      <td>M</td>\n",
       "      <td>Italy</td>\n",
       "      <td>18-24</td>\n",
       "      <td>1</td>\n",
       "      <td>2020</td>\n",
       "      <td>0</td>\n",
       "      <td>Active</td>\n",
       "      <td>1</td>\n",
       "      <td>1</td>\n",
       "      <td>0</td>\n",
       "      <td>387</td>\n",
       "    </tr>\n",
       "    <tr>\n",
       "      <th>3184</th>\n",
       "      <td>12740211</td>\n",
       "      <td>F</td>\n",
       "      <td>Italy</td>\n",
       "      <td>18-24</td>\n",
       "      <td>1</td>\n",
       "      <td>2020</td>\n",
       "      <td>1</td>\n",
       "      <td>Active</td>\n",
       "      <td>1</td>\n",
       "      <td>1</td>\n",
       "      <td>0</td>\n",
       "      <td>579</td>\n",
       "    </tr>\n",
       "    <tr>\n",
       "      <th>3185</th>\n",
       "      <td>12740212</td>\n",
       "      <td>M</td>\n",
       "      <td>Italy</td>\n",
       "      <td>25-29</td>\n",
       "      <td>1</td>\n",
       "      <td>2020</td>\n",
       "      <td>0</td>\n",
       "      <td>Active</td>\n",
       "      <td>2</td>\n",
       "      <td>0</td>\n",
       "      <td>1</td>\n",
       "      <td>724</td>\n",
       "    </tr>\n",
       "    <tr>\n",
       "      <th>3186</th>\n",
       "      <td>12740301</td>\n",
       "      <td>F</td>\n",
       "      <td>Saudi Arabia</td>\n",
       "      <td>18-24</td>\n",
       "      <td>1</td>\n",
       "      <td>2020</td>\n",
       "      <td>0</td>\n",
       "      <td>Active</td>\n",
       "      <td>1</td>\n",
       "      <td>1</td>\n",
       "      <td>0</td>\n",
       "      <td>317</td>\n",
       "    </tr>\n",
       "  </tbody>\n",
       "</table>\n",
       "<p>3187 rows × 12 columns</p>\n",
       "</div>"
      ],
      "text/plain": [
       "      consumer_id gender       country age_range  month  year  \\\n",
       "0        13139819      F         Italy     25-29      1  2020   \n",
       "1        13139919      F         Italy     30-34      1  2020   \n",
       "2        13010119      F         Italy     18-24      1  2020   \n",
       "3        13110119      F         Italy     30-34      1  2020   \n",
       "4        13132319      F         Italy     18-24      1  2020   \n",
       "...           ...    ...           ...       ...    ...   ...   \n",
       "3182     12740209      F  Saudi Arabia     35-39      1  2020   \n",
       "3183     12740210      M         Italy     18-24      1  2020   \n",
       "3184     12740211      F         Italy     18-24      1  2020   \n",
       "3185     12740212      M         Italy     25-29      1  2020   \n",
       "3186     12740301      F  Saudi Arabia     18-24      1  2020   \n",
       "\n",
       "      marketing_option  status  num_of_orders  new_active  new_repeaters  \\\n",
       "0                    0  Active              4           0              1   \n",
       "1                    0  Active              4           0              1   \n",
       "2                    0  Active              4           0              1   \n",
       "3                    1  Active              4           0              1   \n",
       "4                    1  Active              4           0              1   \n",
       "...                ...     ...            ...         ...            ...   \n",
       "3182                 1  Active              1           1              0   \n",
       "3183                 0  Active              1           1              0   \n",
       "3184                 1  Active              1           1              0   \n",
       "3185                 0  Active              2           0              1   \n",
       "3186                 0  Active              1           1              0   \n",
       "\n",
       "      consumer_ltv  \n",
       "0             3160  \n",
       "1             4794  \n",
       "2             2063  \n",
       "3             2058  \n",
       "4             1648  \n",
       "...            ...  \n",
       "3182           168  \n",
       "3183           387  \n",
       "3184           579  \n",
       "3185           724  \n",
       "3186           317  \n",
       "\n",
       "[3187 rows x 12 columns]"
      ]
     },
     "execution_count": 9,
     "metadata": {},
     "output_type": "execute_result"
    }
   ],
   "source": [
    "# remove duplicate\n",
    "cust_data.drop_duplicates()"
   ]
  },
  {
   "cell_type": "code",
   "execution_count": 10,
   "metadata": {},
   "outputs": [
    {
     "data": {
      "text/plain": [
       "3187"
      ]
     },
     "execution_count": 10,
     "metadata": {},
     "output_type": "execute_result"
    }
   ],
   "source": [
    "# custid unique key \n",
    "cust_data.consumer_id.nunique()"
   ]
  },
  {
   "cell_type": "code",
   "execution_count": 11,
   "metadata": {},
   "outputs": [
    {
     "data": {
      "text/plain": [
       "3190"
      ]
     },
     "execution_count": 11,
     "metadata": {},
     "output_type": "execute_result"
    }
   ],
   "source": [
    "# check null rows\n",
    "trans_data.isnull().sum().sum()"
   ]
  },
  {
   "cell_type": "code",
   "execution_count": 12,
   "metadata": {},
   "outputs": [
    {
     "data": {
      "text/plain": [
       "0"
      ]
     },
     "execution_count": 12,
     "metadata": {},
     "output_type": "execute_result"
    }
   ],
   "source": [
    "# check null row\n",
    "cust_data.isnull().sum().sum()"
   ]
  },
  {
   "cell_type": "code",
   "execution_count": 13,
   "metadata": {},
   "outputs": [
    {
     "data": {
      "text/plain": [
       "consumer_id                          0\n",
       "order_id                             2\n",
       "month                                0\n",
       "year                                 0\n",
       "period                               0\n",
       "total_order_value                    0\n",
       "discount                             0\n",
       "line_value                           0\n",
       "line_sku_production_cost             0\n",
       "line_category                        0\n",
       "line_sku                             0\n",
       "average_time_between_purchases    3188\n",
       "dtype: int64"
      ]
     },
     "execution_count": 13,
     "metadata": {},
     "output_type": "execute_result"
    }
   ],
   "source": [
    "# check null values\n",
    "trans_data.isnull().sum()"
   ]
  },
  {
   "cell_type": "code",
   "execution_count": 14,
   "metadata": {},
   "outputs": [
    {
     "data": {
      "text/plain": [
       "consumer_id         0\n",
       "gender              0\n",
       "country             0\n",
       "age_range           0\n",
       "month               0\n",
       "year                0\n",
       "marketing_option    0\n",
       "status              0\n",
       "num_of_orders       0\n",
       "new_active          0\n",
       "new_repeaters       0\n",
       "consumer_ltv        0\n",
       "dtype: int64"
      ]
     },
     "execution_count": 14,
     "metadata": {},
     "output_type": "execute_result"
    }
   ],
   "source": [
    "# check null values\n",
    "cust_data.isnull().sum()"
   ]
  },
  {
   "cell_type": "code",
   "execution_count": 15,
   "metadata": {},
   "outputs": [
    {
     "data": {
      "text/plain": [
       "consumer_id                          0\n",
       "order_id                             2\n",
       "month                                0\n",
       "year                                 0\n",
       "period                               0\n",
       "total_order_value                    0\n",
       "discount                             0\n",
       "line_value                           0\n",
       "line_sku_production_cost             0\n",
       "line_category                        0\n",
       "line_sku                             0\n",
       "average_time_between_purchases    3188\n",
       "dtype: int64"
      ]
     },
     "execution_count": 15,
     "metadata": {},
     "output_type": "execute_result"
    }
   ],
   "source": [
    "# check na values\n",
    "trans_data.isna().sum()"
   ]
  },
  {
   "cell_type": "code",
   "execution_count": 16,
   "metadata": {},
   "outputs": [
    {
     "data": {
      "text/plain": [
       "consumer_id         0\n",
       "gender              0\n",
       "country             0\n",
       "age_range           0\n",
       "month               0\n",
       "year                0\n",
       "marketing_option    0\n",
       "status              0\n",
       "num_of_orders       0\n",
       "new_active          0\n",
       "new_repeaters       0\n",
       "consumer_ltv        0\n",
       "dtype: int64"
      ]
     },
     "execution_count": 16,
     "metadata": {},
     "output_type": "execute_result"
    }
   ],
   "source": [
    "# check na values\n",
    "cust_data.isna().sum()"
   ]
  },
  {
   "cell_type": "code",
   "execution_count": 17,
   "metadata": {},
   "outputs": [
    {
     "data": {
      "text/html": [
       "<div>\n",
       "<style scoped>\n",
       "    .dataframe tbody tr th:only-of-type {\n",
       "        vertical-align: middle;\n",
       "    }\n",
       "\n",
       "    .dataframe tbody tr th {\n",
       "        vertical-align: top;\n",
       "    }\n",
       "\n",
       "    .dataframe thead th {\n",
       "        text-align: right;\n",
       "    }\n",
       "</style>\n",
       "<table border=\"1\" class=\"dataframe\">\n",
       "  <thead>\n",
       "    <tr style=\"text-align: right;\">\n",
       "      <th></th>\n",
       "      <th>consumer_id</th>\n",
       "      <th>order_id</th>\n",
       "      <th>month</th>\n",
       "      <th>year</th>\n",
       "      <th>period</th>\n",
       "      <th>total_order_value</th>\n",
       "      <th>discount</th>\n",
       "      <th>line_value</th>\n",
       "      <th>line_sku_production_cost</th>\n",
       "      <th>line_category</th>\n",
       "      <th>line_sku</th>\n",
       "      <th>average_time_between_purchases</th>\n",
       "    </tr>\n",
       "  </thead>\n",
       "  <tbody>\n",
       "    <tr>\n",
       "      <th>98</th>\n",
       "      <td>13134019</td>\n",
       "      <td>NaN</td>\n",
       "      <td>3</td>\n",
       "      <td>2020</td>\n",
       "      <td>3/1/2020</td>\n",
       "      <td>447 €</td>\n",
       "      <td>67 €</td>\n",
       "      <td>380 €</td>\n",
       "      <td>156 €</td>\n",
       "      <td>Apparel</td>\n",
       "      <td>APP3</td>\n",
       "      <td>0.0</td>\n",
       "    </tr>\n",
       "    <tr>\n",
       "      <th>99</th>\n",
       "      <td>13134019</td>\n",
       "      <td>NaN</td>\n",
       "      <td>3</td>\n",
       "      <td>2020</td>\n",
       "      <td>3/1/2020</td>\n",
       "      <td>345 €</td>\n",
       "      <td>52 €</td>\n",
       "      <td>293 €</td>\n",
       "      <td>107 €</td>\n",
       "      <td>Apparel</td>\n",
       "      <td>APP2</td>\n",
       "      <td>0.0</td>\n",
       "    </tr>\n",
       "  </tbody>\n",
       "</table>\n",
       "</div>"
      ],
      "text/plain": [
       "    consumer_id order_id  month  year    period total_order_value discount  \\\n",
       "98     13134019      NaN      3  2020  3/1/2020             447 €     67 €   \n",
       "99     13134019      NaN      3  2020  3/1/2020             345 €     52 €   \n",
       "\n",
       "   line_value line_sku_production_cost line_category line_sku  \\\n",
       "98      380 €                    156 €       Apparel     APP3   \n",
       "99      293 €                    107 €       Apparel     APP2   \n",
       "\n",
       "    average_time_between_purchases  \n",
       "98                             0.0  \n",
       "99                             0.0  "
      ]
     },
     "execution_count": 17,
     "metadata": {},
     "output_type": "execute_result"
    }
   ],
   "source": [
    "# filter record for transaction null orderid\n",
    "trans_data[trans_data.order_id.isnull()]"
   ]
  },
  {
   "cell_type": "code",
   "execution_count": 18,
   "metadata": {},
   "outputs": [
    {
     "data": {
      "text/html": [
       "<div>\n",
       "<style scoped>\n",
       "    .dataframe tbody tr th:only-of-type {\n",
       "        vertical-align: middle;\n",
       "    }\n",
       "\n",
       "    .dataframe tbody tr th {\n",
       "        vertical-align: top;\n",
       "    }\n",
       "\n",
       "    .dataframe thead th {\n",
       "        text-align: right;\n",
       "    }\n",
       "</style>\n",
       "<table border=\"1\" class=\"dataframe\">\n",
       "  <thead>\n",
       "    <tr style=\"text-align: right;\">\n",
       "      <th></th>\n",
       "      <th>consumer_id</th>\n",
       "      <th>order_id</th>\n",
       "      <th>month</th>\n",
       "      <th>year</th>\n",
       "      <th>period</th>\n",
       "      <th>total_order_value</th>\n",
       "      <th>discount</th>\n",
       "      <th>line_value</th>\n",
       "      <th>line_sku_production_cost</th>\n",
       "      <th>line_category</th>\n",
       "      <th>line_sku</th>\n",
       "      <th>average_time_between_purchases</th>\n",
       "    </tr>\n",
       "  </thead>\n",
       "  <tbody>\n",
       "    <tr>\n",
       "      <th>98</th>\n",
       "      <td>13134019</td>\n",
       "      <td>NaN</td>\n",
       "      <td>3</td>\n",
       "      <td>2020</td>\n",
       "      <td>3/1/2020</td>\n",
       "      <td>447 €</td>\n",
       "      <td>67 €</td>\n",
       "      <td>380 €</td>\n",
       "      <td>156 €</td>\n",
       "      <td>Apparel</td>\n",
       "      <td>APP3</td>\n",
       "      <td>0.0</td>\n",
       "    </tr>\n",
       "    <tr>\n",
       "      <th>99</th>\n",
       "      <td>13134019</td>\n",
       "      <td>NaN</td>\n",
       "      <td>3</td>\n",
       "      <td>2020</td>\n",
       "      <td>3/1/2020</td>\n",
       "      <td>345 €</td>\n",
       "      <td>52 €</td>\n",
       "      <td>293 €</td>\n",
       "      <td>107 €</td>\n",
       "      <td>Apparel</td>\n",
       "      <td>APP2</td>\n",
       "      <td>0.0</td>\n",
       "    </tr>\n",
       "  </tbody>\n",
       "</table>\n",
       "</div>"
      ],
      "text/plain": [
       "    consumer_id order_id  month  year    period total_order_value discount  \\\n",
       "98     13134019      NaN      3  2020  3/1/2020             447 €     67 €   \n",
       "99     13134019      NaN      3  2020  3/1/2020             345 €     52 €   \n",
       "\n",
       "   line_value line_sku_production_cost line_category line_sku  \\\n",
       "98      380 €                    156 €       Apparel     APP3   \n",
       "99      293 €                    107 €       Apparel     APP2   \n",
       "\n",
       "    average_time_between_purchases  \n",
       "98                             0.0  \n",
       "99                             0.0  "
      ]
     },
     "execution_count": 18,
     "metadata": {},
     "output_type": "execute_result"
    }
   ],
   "source": [
    "#filter record for transaction nan orderid\n",
    "trans_data[trans_data.order_id.isna()]"
   ]
  },
  {
   "cell_type": "code",
   "execution_count": 19,
   "metadata": {},
   "outputs": [
    {
     "data": {
      "text/plain": [
       "3676"
      ]
     },
     "execution_count": 19,
     "metadata": {},
     "output_type": "execute_result"
    }
   ],
   "source": [
    "# drop na rows\n",
    "trans_data.dropna(axis=0,how='any',subset=['order_id'], inplace = True)\n",
    "len(trans_data)"
   ]
  },
  {
   "cell_type": "code",
   "execution_count": 20,
   "metadata": {},
   "outputs": [
    {
     "data": {
      "text/plain": [
       "3187"
      ]
     },
     "execution_count": 20,
     "metadata": {},
     "output_type": "execute_result"
    }
   ],
   "source": [
    "# drop na rows\n",
    "cust_data.dropna()\n",
    "len(cust_data)"
   ]
  },
  {
   "cell_type": "code",
   "execution_count": 21,
   "metadata": {},
   "outputs": [
    {
     "data": {
      "text/plain": [
       "Index(['consumer_id', 'order_id', 'month', 'year', 'period',\n",
       "       'total_order_value', 'discount', 'line_value',\n",
       "       'line_sku_production_cost', 'line_category', 'line_sku',\n",
       "       'average_time_between_purchases'],\n",
       "      dtype='object')"
      ]
     },
     "execution_count": 21,
     "metadata": {},
     "output_type": "execute_result"
    }
   ],
   "source": [
    "trans_data.columns"
   ]
  },
  {
   "cell_type": "code",
   "execution_count": 22,
   "metadata": {},
   "outputs": [],
   "source": [
    "# reorder columns\n",
    "trans_data = trans_data[['order_id','consumer_id', 'month', 'year', 'period',\n",
    "       'total_order_value', 'discount', 'line_value',\n",
    "       'line_sku_production_cost', 'line_category', 'line_sku',\n",
    "       'average_time_between_purchases'\n",
    "]]"
   ]
  },
  {
   "cell_type": "code",
   "execution_count": 23,
   "metadata": {},
   "outputs": [
    {
     "data": {
      "text/html": [
       "<div>\n",
       "<style scoped>\n",
       "    .dataframe tbody tr th:only-of-type {\n",
       "        vertical-align: middle;\n",
       "    }\n",
       "\n",
       "    .dataframe tbody tr th {\n",
       "        vertical-align: top;\n",
       "    }\n",
       "\n",
       "    .dataframe thead th {\n",
       "        text-align: right;\n",
       "    }\n",
       "</style>\n",
       "<table border=\"1\" class=\"dataframe\">\n",
       "  <thead>\n",
       "    <tr style=\"text-align: right;\">\n",
       "      <th></th>\n",
       "      <th>order_id</th>\n",
       "      <th>consumer_id</th>\n",
       "      <th>month</th>\n",
       "      <th>year</th>\n",
       "      <th>period</th>\n",
       "      <th>total_order_value</th>\n",
       "      <th>discount</th>\n",
       "      <th>line_value</th>\n",
       "      <th>line_sku_production_cost</th>\n",
       "      <th>line_category</th>\n",
       "      <th>line_sku</th>\n",
       "      <th>average_time_between_purchases</th>\n",
       "    </tr>\n",
       "  </thead>\n",
       "  <tbody>\n",
       "    <tr>\n",
       "      <th>0</th>\n",
       "      <td>13121938B</td>\n",
       "      <td>13121938</td>\n",
       "      <td>3</td>\n",
       "      <td>2020</td>\n",
       "      <td>3/1/2020</td>\n",
       "      <td>168 €</td>\n",
       "      <td>0 €</td>\n",
       "      <td>168 €</td>\n",
       "      <td>25 €</td>\n",
       "      <td>Small leather goods</td>\n",
       "      <td>SMA4</td>\n",
       "      <td>NaN</td>\n",
       "    </tr>\n",
       "    <tr>\n",
       "      <th>1</th>\n",
       "      <td>13121938C</td>\n",
       "      <td>13121938</td>\n",
       "      <td>5</td>\n",
       "      <td>2020</td>\n",
       "      <td>5/1/2020</td>\n",
       "      <td>220 €</td>\n",
       "      <td>0 €</td>\n",
       "      <td>220 €</td>\n",
       "      <td>40 €</td>\n",
       "      <td>Fragrances</td>\n",
       "      <td>FRA4</td>\n",
       "      <td>2.0</td>\n",
       "    </tr>\n",
       "    <tr>\n",
       "      <th>2</th>\n",
       "      <td>13121938D</td>\n",
       "      <td>13121938</td>\n",
       "      <td>7</td>\n",
       "      <td>2020</td>\n",
       "      <td>7/1/2020</td>\n",
       "      <td>240 €</td>\n",
       "      <td>0 €</td>\n",
       "      <td>240 €</td>\n",
       "      <td>43 €</td>\n",
       "      <td>Fragrances</td>\n",
       "      <td>FRA5</td>\n",
       "      <td>2.0</td>\n",
       "    </tr>\n",
       "    <tr>\n",
       "      <th>3</th>\n",
       "      <td>13139819A</td>\n",
       "      <td>13139819</td>\n",
       "      <td>1</td>\n",
       "      <td>2020</td>\n",
       "      <td>1/1/2020</td>\n",
       "      <td>313 €</td>\n",
       "      <td>63 €</td>\n",
       "      <td>250 €</td>\n",
       "      <td>94 €</td>\n",
       "      <td>Accessories</td>\n",
       "      <td>ACC4</td>\n",
       "      <td>NaN</td>\n",
       "    </tr>\n",
       "    <tr>\n",
       "      <th>4</th>\n",
       "      <td>13139819B</td>\n",
       "      <td>13139819</td>\n",
       "      <td>9</td>\n",
       "      <td>2020</td>\n",
       "      <td>9/1/2020</td>\n",
       "      <td>951 €</td>\n",
       "      <td>0 €</td>\n",
       "      <td>951 €</td>\n",
       "      <td>247 €</td>\n",
       "      <td>Mini bags</td>\n",
       "      <td>MIN3</td>\n",
       "      <td>8.0</td>\n",
       "    </tr>\n",
       "  </tbody>\n",
       "</table>\n",
       "</div>"
      ],
      "text/plain": [
       "    order_id  consumer_id  month  year    period total_order_value discount  \\\n",
       "0  13121938B     13121938      3  2020  3/1/2020             168 €      0 €   \n",
       "1  13121938C     13121938      5  2020  5/1/2020             220 €      0 €   \n",
       "2  13121938D     13121938      7  2020  7/1/2020             240 €      0 €   \n",
       "3  13139819A     13139819      1  2020  1/1/2020             313 €     63 €   \n",
       "4  13139819B     13139819      9  2020  9/1/2020             951 €      0 €   \n",
       "\n",
       "  line_value line_sku_production_cost        line_category line_sku  \\\n",
       "0      168 €                     25 €  Small leather goods     SMA4   \n",
       "1      220 €                     40 €           Fragrances     FRA4   \n",
       "2      240 €                     43 €           Fragrances     FRA5   \n",
       "3      250 €                     94 €          Accessories     ACC4   \n",
       "4      951 €                    247 €            Mini bags     MIN3   \n",
       "\n",
       "   average_time_between_purchases  \n",
       "0                             NaN  \n",
       "1                             2.0  \n",
       "2                             2.0  \n",
       "3                             NaN  \n",
       "4                             8.0  "
      ]
     },
     "execution_count": 23,
     "metadata": {},
     "output_type": "execute_result"
    }
   ],
   "source": [
    "trans_data.head()"
   ]
  },
  {
   "cell_type": "code",
   "execution_count": 24,
   "metadata": {},
   "outputs": [
    {
     "data": {
      "text/html": [
       "<div>\n",
       "<style scoped>\n",
       "    .dataframe tbody tr th:only-of-type {\n",
       "        vertical-align: middle;\n",
       "    }\n",
       "\n",
       "    .dataframe tbody tr th {\n",
       "        vertical-align: top;\n",
       "    }\n",
       "\n",
       "    .dataframe thead th {\n",
       "        text-align: right;\n",
       "    }\n",
       "</style>\n",
       "<table border=\"1\" class=\"dataframe\">\n",
       "  <thead>\n",
       "    <tr style=\"text-align: right;\">\n",
       "      <th></th>\n",
       "      <th>order_id</th>\n",
       "      <th>consumer_id</th>\n",
       "      <th>month</th>\n",
       "      <th>year</th>\n",
       "      <th>period</th>\n",
       "      <th>total_order_value</th>\n",
       "      <th>discount</th>\n",
       "      <th>line_value</th>\n",
       "      <th>line_sku_production_cost</th>\n",
       "      <th>line_category</th>\n",
       "      <th>line_sku</th>\n",
       "      <th>average_time_between_purchases</th>\n",
       "    </tr>\n",
       "  </thead>\n",
       "  <tbody>\n",
       "    <tr>\n",
       "      <th>0</th>\n",
       "      <td>13121938B</td>\n",
       "      <td>13121938</td>\n",
       "      <td>3</td>\n",
       "      <td>2020</td>\n",
       "      <td>3/1/2020</td>\n",
       "      <td>168 €</td>\n",
       "      <td>0 €</td>\n",
       "      <td>168 €</td>\n",
       "      <td>25 €</td>\n",
       "      <td>Small leather goods</td>\n",
       "      <td>SMA4</td>\n",
       "      <td>NaN</td>\n",
       "    </tr>\n",
       "    <tr>\n",
       "      <th>1</th>\n",
       "      <td>13121938C</td>\n",
       "      <td>13121938</td>\n",
       "      <td>5</td>\n",
       "      <td>2020</td>\n",
       "      <td>5/1/2020</td>\n",
       "      <td>220 €</td>\n",
       "      <td>0 €</td>\n",
       "      <td>220 €</td>\n",
       "      <td>40 €</td>\n",
       "      <td>Fragrances</td>\n",
       "      <td>FRA4</td>\n",
       "      <td>2.0</td>\n",
       "    </tr>\n",
       "    <tr>\n",
       "      <th>2</th>\n",
       "      <td>13121938D</td>\n",
       "      <td>13121938</td>\n",
       "      <td>7</td>\n",
       "      <td>2020</td>\n",
       "      <td>7/1/2020</td>\n",
       "      <td>240 €</td>\n",
       "      <td>0 €</td>\n",
       "      <td>240 €</td>\n",
       "      <td>43 €</td>\n",
       "      <td>Fragrances</td>\n",
       "      <td>FRA5</td>\n",
       "      <td>2.0</td>\n",
       "    </tr>\n",
       "    <tr>\n",
       "      <th>3</th>\n",
       "      <td>13139819A</td>\n",
       "      <td>13139819</td>\n",
       "      <td>1</td>\n",
       "      <td>2020</td>\n",
       "      <td>1/1/2020</td>\n",
       "      <td>313 €</td>\n",
       "      <td>63 €</td>\n",
       "      <td>250 €</td>\n",
       "      <td>94 €</td>\n",
       "      <td>Accessories</td>\n",
       "      <td>ACC4</td>\n",
       "      <td>NaN</td>\n",
       "    </tr>\n",
       "    <tr>\n",
       "      <th>4</th>\n",
       "      <td>13139819B</td>\n",
       "      <td>13139819</td>\n",
       "      <td>9</td>\n",
       "      <td>2020</td>\n",
       "      <td>9/1/2020</td>\n",
       "      <td>951 €</td>\n",
       "      <td>0 €</td>\n",
       "      <td>951 €</td>\n",
       "      <td>247 €</td>\n",
       "      <td>Mini bags</td>\n",
       "      <td>MIN3</td>\n",
       "      <td>8.0</td>\n",
       "    </tr>\n",
       "  </tbody>\n",
       "</table>\n",
       "</div>"
      ],
      "text/plain": [
       "    order_id  consumer_id  month  year    period total_order_value discount  \\\n",
       "0  13121938B     13121938      3  2020  3/1/2020             168 €      0 €   \n",
       "1  13121938C     13121938      5  2020  5/1/2020             220 €      0 €   \n",
       "2  13121938D     13121938      7  2020  7/1/2020             240 €      0 €   \n",
       "3  13139819A     13139819      1  2020  1/1/2020             313 €     63 €   \n",
       "4  13139819B     13139819      9  2020  9/1/2020             951 €      0 €   \n",
       "\n",
       "  line_value line_sku_production_cost        line_category line_sku  \\\n",
       "0      168 €                     25 €  Small leather goods     SMA4   \n",
       "1      220 €                     40 €           Fragrances     FRA4   \n",
       "2      240 €                     43 €           Fragrances     FRA5   \n",
       "3      250 €                     94 €          Accessories     ACC4   \n",
       "4      951 €                    247 €            Mini bags     MIN3   \n",
       "\n",
       "   average_time_between_purchases  \n",
       "0                             NaN  \n",
       "1                             2.0  \n",
       "2                             2.0  \n",
       "3                             NaN  \n",
       "4                             8.0  "
      ]
     },
     "execution_count": 24,
     "metadata": {},
     "output_type": "execute_result"
    }
   ],
   "source": [
    "# set index\n",
    "trans_data.set_index('order_id')\n",
    "trans_data.head()"
   ]
  },
  {
   "cell_type": "code",
   "execution_count": 25,
   "metadata": {},
   "outputs": [
    {
     "name": "stdout",
     "output_type": "stream",
     "text": [
      "<class 'pandas.core.frame.DataFrame'>\n",
      "Int64Index: 3676 entries, 0 to 3677\n",
      "Data columns (total 12 columns):\n",
      " #   Column                          Non-Null Count  Dtype  \n",
      "---  ------                          --------------  -----  \n",
      " 0   order_id                        3676 non-null   object \n",
      " 1   consumer_id                     3676 non-null   int64  \n",
      " 2   month                           3676 non-null   int64  \n",
      " 3   year                            3676 non-null   int64  \n",
      " 4   period                          3676 non-null   object \n",
      " 5   total_order_value               3676 non-null   object \n",
      " 6   discount                        3676 non-null   object \n",
      " 7   line_value                      3676 non-null   object \n",
      " 8   line_sku_production_cost        3676 non-null   object \n",
      " 9   line_category                   3676 non-null   object \n",
      " 10  line_sku                        3676 non-null   object \n",
      " 11  average_time_between_purchases  488 non-null    float64\n",
      "dtypes: float64(1), int64(3), object(8)\n",
      "memory usage: 373.3+ KB\n"
     ]
    }
   ],
   "source": [
    "trans_data.info()"
   ]
  },
  {
   "cell_type": "code",
   "execution_count": 26,
   "metadata": {},
   "outputs": [
    {
     "data": {
      "text/plain": [
       "order_id                           object\n",
       "consumer_id                         int64\n",
       "month                               int64\n",
       "year                                int64\n",
       "period                             object\n",
       "total_order_value                  object\n",
       "discount                           object\n",
       "line_value                         object\n",
       "line_sku_production_cost           object\n",
       "line_category                      object\n",
       "line_sku                           object\n",
       "average_time_between_purchases    float64\n",
       "dtype: object"
      ]
     },
     "execution_count": 26,
     "metadata": {},
     "output_type": "execute_result"
    }
   ],
   "source": [
    "trans_data.dtypes"
   ]
  },
  {
   "cell_type": "code",
   "execution_count": 27,
   "metadata": {},
   "outputs": [
    {
     "data": {
      "text/plain": [
       "consumer_id          int64\n",
       "gender              object\n",
       "country             object\n",
       "age_range           object\n",
       "month                int64\n",
       "year                 int64\n",
       "marketing_option     int64\n",
       "status              object\n",
       "num_of_orders        int64\n",
       "new_active           int64\n",
       "new_repeaters        int64\n",
       "consumer_ltv         int64\n",
       "dtype: object"
      ]
     },
     "execution_count": 27,
     "metadata": {},
     "output_type": "execute_result"
    }
   ],
   "source": [
    "cust_data.dtypes"
   ]
  },
  {
   "cell_type": "markdown",
   "metadata": {},
   "source": [
    "### Customer Data Analysis"
   ]
  },
  {
   "cell_type": "code",
   "execution_count": 28,
   "metadata": {},
   "outputs": [
    {
     "data": {
      "text/plain": [
       "18-24    1355\n",
       "30-34     550\n",
       "25-29     549\n",
       "35-39     523\n",
       "40+       210\n",
       "Name: age_range, dtype: int64"
      ]
     },
     "execution_count": 28,
     "metadata": {},
     "output_type": "execute_result"
    }
   ],
   "source": [
    "# examine field values\n",
    "cust_data.age_range.value_counts()"
   ]
  },
  {
   "cell_type": "code",
   "execution_count": 29,
   "metadata": {},
   "outputs": [
    {
     "data": {
      "text/plain": [
       "486"
      ]
     },
     "execution_count": 29,
     "metadata": {},
     "output_type": "execute_result"
    }
   ],
   "source": [
    "len(cust_data[cust_data.status=='Lost'])"
   ]
  },
  {
   "cell_type": "code",
   "execution_count": 30,
   "metadata": {},
   "outputs": [],
   "source": [
    "# remove inactive customers\n",
    "cust_data = cust_data.drop(labels=cust_data.loc[cust_data.status=='Lost'].index,axis=0)"
   ]
  },
  {
   "cell_type": "code",
   "execution_count": 31,
   "metadata": {},
   "outputs": [],
   "source": [
    "# manipulate customer data, split age group\n",
    "age_list = cust_data['age_range'].str.rsplit(n=2,pat=\"-\",expand=True)"
   ]
  },
  {
   "cell_type": "code",
   "execution_count": 32,
   "metadata": {},
   "outputs": [],
   "source": [
    "cust_data = pd.concat([cust_data, age_list], axis=1)"
   ]
  },
  {
   "cell_type": "code",
   "execution_count": 33,
   "metadata": {},
   "outputs": [
    {
     "data": {
      "text/plain": [
       "consumer_id          int64\n",
       "gender              object\n",
       "country             object\n",
       "age_range           object\n",
       "month                int64\n",
       "year                 int64\n",
       "marketing_option     int64\n",
       "status              object\n",
       "num_of_orders        int64\n",
       "new_active           int64\n",
       "new_repeaters        int64\n",
       "consumer_ltv         int64\n",
       "lower_age           object\n",
       "upper_age           object\n",
       "dtype: object"
      ]
     },
     "execution_count": 33,
     "metadata": {},
     "output_type": "execute_result"
    }
   ],
   "source": [
    "cust_data = cust_data.rename(columns = {0:\"lower_age\",1:\"upper_age\"})\n",
    "cust_data.dtypes"
   ]
  },
  {
   "cell_type": "code",
   "execution_count": 34,
   "metadata": {},
   "outputs": [
    {
     "data": {
      "text/plain": [
       "array(['Italy', 'Czech Republic', 'Austria', 'Hungary', 'Germany',\n",
       "       'Spain', 'Saudi Arabia', 'Greece', 'France', 'USA'], dtype=object)"
      ]
     },
     "execution_count": 34,
     "metadata": {},
     "output_type": "execute_result"
    }
   ],
   "source": [
    "cust_data['country'].unique()"
   ]
  },
  {
   "cell_type": "code",
   "execution_count": 35,
   "metadata": {},
   "outputs": [
    {
     "name": "stderr",
     "output_type": "stream",
     "text": [
      "C:\\Users\\JC\\AppData\\Local\\Programs\\Python\\Python38\\lib\\site-packages\\seaborn\\axisgrid.py:643: UserWarning: Using the barplot function without specifying `order` is likely to produce an incorrect plot.\n",
      "  warnings.warn(warning)\n"
     ]
    },
    {
     "data": {
      "text/plain": [
       "<seaborn.axisgrid.FacetGrid at 0x22dda85bc10>"
      ]
     },
     "execution_count": 35,
     "metadata": {},
     "output_type": "execute_result"
    },
    {
     "data": {
      "image/png": "[encoded data removed]",
      "text/plain": [
       "<Figure size 728x3600 with 20 Axes>"
      ]
     },
     "metadata": {
      "needs_background": "light"
     },
     "output_type": "display_data"
    }
   ],
   "source": [
    "# segment by multi-plot grid by gender, age, country\n",
    "g = sns.FacetGrid(cust_data, row=\"country\", col=\"gender\",height=5, aspect=1)\n",
    "g.map(sns.barplot,\"age_range\", \"num_of_orders\",alpha=.5)\n",
    "g.add_legend()"
   ]
  },
  {
   "cell_type": "code",
   "execution_count": 36,
   "metadata": {
    "scrolled": false
   },
   "outputs": [
    {
     "name": "stderr",
     "output_type": "stream",
     "text": [
      "C:\\Users\\JC\\AppData\\Local\\Programs\\Python\\Python38\\lib\\site-packages\\seaborn\\axisgrid.py:643: UserWarning: Using the barplot function without specifying `order` is likely to produce an incorrect plot.\n",
      "  warnings.warn(warning)\n"
     ]
    },
    {
     "data": {
      "text/plain": [
       "<seaborn.axisgrid.FacetGrid at 0x22ddfac1640>"
      ]
     },
     "execution_count": 36,
     "metadata": {},
     "output_type": "execute_result"
    },
    {
     "data": {
      "image/png": "[encoded data removed]",
      "text/plain": [
       "<Figure size 216x2160 with 10 Axes>"
      ]
     },
     "metadata": {
      "needs_background": "light"
     },
     "output_type": "display_data"
    }
   ],
   "source": [
    "# Segment by gender & country\n",
    "g = sns.FacetGrid(cust_data, row=\"country\")\n",
    "g.map(sns.barplot,\"gender\",\"num_of_orders\")"
   ]
  },
  {
   "cell_type": "code",
   "execution_count": 37,
   "metadata": {},
   "outputs": [
    {
     "name": "stderr",
     "output_type": "stream",
     "text": [
      "C:\\Users\\JC\\AppData\\Local\\Programs\\Python\\Python38\\lib\\site-packages\\seaborn\\axisgrid.py:643: UserWarning: Using the barplot function without specifying `order` is likely to produce an incorrect plot.\n",
      "  warnings.warn(warning)\n"
     ]
    },
    {
     "data": {
      "text/plain": [
       "<seaborn.axisgrid.FacetGrid at 0x22dde161d00>"
      ]
     },
     "execution_count": 37,
     "metadata": {},
     "output_type": "execute_result"
    },
    {
     "data": {
      "image/png": "[encoded data removed]",
      "text/plain": [
       "<Figure size 216x1080 with 5 Axes>"
      ]
     },
     "metadata": {
      "needs_background": "light"
     },
     "output_type": "display_data"
    }
   ],
   "source": [
    "# Segment by gender & age_range\n",
    "g = sns.FacetGrid(cust_data, row=\"age_range\")\n",
    "g.map(sns.barplot,\"gender\",\"num_of_orders\")"
   ]
  },
  {
   "cell_type": "code",
   "execution_count": 38,
   "metadata": {
    "scrolled": false
   },
   "outputs": [
    {
     "data": {
      "text/plain": [
       "<seaborn.axisgrid.PairGrid at 0x22dde518190>"
      ]
     },
     "execution_count": 38,
     "metadata": {},
     "output_type": "execute_result"
    },
    {
     "data": {
      "image/png": "[encoded data removed]",
      "text/plain": [
       "<Figure size 368x360 with 6 Axes>"
      ]
     },
     "metadata": {
      "needs_background": "light"
     },
     "output_type": "display_data"
    }
   ],
   "source": [
    "## pair grid for num of orders & consumer ltv value correlation using hist & scatter plot\n",
    "g = sns.PairGrid(cust_data, vars=['num_of_orders','consumer_ltv'])\n",
    "g.map_diag(sns.histplot, hue=None, color=\".3\")\n",
    "g.map_offdiag(sns.scatterplot)\n",
    "g.add_legend()"
   ]
  },
  {
   "cell_type": "code",
   "execution_count": 39,
   "metadata": {},
   "outputs": [
    {
     "data": {
      "text/plain": [
       "<seaborn.axisgrid.JointGrid at 0x22ddf31bb80>"
      ]
     },
     "execution_count": 39,
     "metadata": {},
     "output_type": "execute_result"
    },
    {
     "data": {
      "image/png": "[encoded data removed]",
      "text/plain": [
       "<Figure size 432x432 with 3 Axes>"
      ]
     },
     "metadata": {
      "needs_background": "light"
     },
     "output_type": "display_data"
    }
   ],
   "source": [
    "# dist joint plot bivariate\n",
    "sns.jointplot(data=cust_data, x=\"num_of_orders\", y=\"consumer_ltv\", hue='country',kind=\"kde\")"
   ]
  },
  {
   "cell_type": "code",
   "execution_count": 40,
   "metadata": {},
   "outputs": [
    {
     "data": {
      "text/plain": [
       "<seaborn.axisgrid.JointGrid at 0x22ddf4138b0>"
      ]
     },
     "execution_count": 40,
     "metadata": {},
     "output_type": "execute_result"
    },
    {
     "data": {
      "image/png": "[encoded data removed]",
      "text/plain": [
       "<Figure size 432x432 with 3 Axes>"
      ]
     },
     "metadata": {
      "needs_background": "light"
     },
     "output_type": "display_data"
    }
   ],
   "source": [
    "# dist joint plot bivariate\n",
    "sns.jointplot(data=cust_data, x=\"num_of_orders\", y=\"consumer_ltv\", hue='age_range',kind=\"kde\")"
   ]
  },
  {
   "cell_type": "code",
   "execution_count": 41,
   "metadata": {},
   "outputs": [
    {
     "data": {
      "text/plain": [
       "([<matplotlib.patches.Wedge at 0x22ddf82a700>,\n",
       "  <matplotlib.patches.Wedge at 0x22ddf82aac0>,\n",
       "  <matplotlib.patches.Wedge at 0x22ddf82afa0>,\n",
       "  <matplotlib.patches.Wedge at 0x22ddf8354c0>,\n",
       "  <matplotlib.patches.Wedge at 0x22ddf8359a0>,\n",
       "  <matplotlib.patches.Wedge at 0x22ddf835e80>,\n",
       "  <matplotlib.patches.Wedge at 0x22ddf8423a0>,\n",
       "  <matplotlib.patches.Wedge at 0x22ddf842880>,\n",
       "  <matplotlib.patches.Wedge at 0x22ddf842d60>,\n",
       "  <matplotlib.patches.Wedge at 0x22ddf851280>],\n",
       " [Text(0.8438119400385032, 0.7056779788603706, 'Saudi Arabia'),\n",
       "  Text(-0.33681666651822684, 1.0471649980569202, 'Italy'),\n",
       "  Text(-1.0420589957742576, 0.3522968199202851, 'Germany'),\n",
       "  Text(-0.9859584640807842, -0.48773548887430884, 'Spain'),\n",
       "  Text(-0.5593842380434401, -0.9471479684972989, 'Austria'),\n",
       "  Text(-0.08142904247361066, -1.0969819100795741, 'Greece'),\n",
       "  Text(0.39825976700272886, -1.0253726922377697, 'Czech Republic'),\n",
       "  Text(0.7892579560164323, -0.7662061595058888, 'Hungary'),\n",
       "  Text(1.006660165846238, -0.4434358020034299, 'France'),\n",
       "  Text(1.0902314061497982, -0.1462719420963366, 'USA')])"
      ]
     },
     "execution_count": 41,
     "metadata": {},
     "output_type": "execute_result"
    },
    {
     "data": {
      "image/png": "[encoded data removed]",
      "text/plain": [
       "<Figure size 720x1440 with 2 Axes>"
      ]
     },
     "metadata": {},
     "output_type": "display_data"
    }
   ],
   "source": [
    "# Top Countries by Gender\n",
    "fig, (ax1, ax2) = plt.subplots(1, 2,figsize=(10, 20))\n",
    "\n",
    "df_f = cust_data[cust_data.gender=='F'].country.value_counts().sort_values(ascending=False)\n",
    "f_list =  cust_data[cust_data.gender=='F'].country.value_counts().sort_values(ascending=False).index\n",
    "ax1.set_title('Female Top Countries')\n",
    "ax1.pie(df_f,labels=f_list)\n",
    "\n",
    "df_m = cust_data[cust_data.gender=='M'].country.value_counts().sort_values(ascending=False)\n",
    "m_list =  cust_data[cust_data.gender=='M'].country.value_counts().sort_values(ascending=False).index\n",
    "ax2.set_title('Male Top Countries')\n",
    "ax2.pie(df_m,labels=m_list)"
   ]
  },
  {
   "cell_type": "code",
   "execution_count": 42,
   "metadata": {},
   "outputs": [
    {
     "data": {
      "image/png": "[encoded data removed]",
      "text/plain": [
       "<Figure size 432x288 with 1 Axes>"
      ]
     },
     "metadata": {
      "needs_background": "light"
     },
     "output_type": "display_data"
    }
   ],
   "source": [
    "# Age distribution of Num of Orders for top countries\n",
    "\n",
    "top_country_list=['Italy','Saudi Arabia','Germany','Spain']\n",
    "cust_data[cust_data.country.isin(top_country_list)].groupby(by='age_range').num_of_orders.sum().sort_values(ascending=False).plot(kind = 'bar',title='Age distribution of Num of Orders for top countries')\n",
    "\n",
    "a = cust_data[cust_data.country.isin(top_country_list)].groupby(by='age_range').num_of_orders.sum().sort_values(ascending=False)"
   ]
  },
  {
   "cell_type": "code",
   "execution_count": 43,
   "metadata": {},
   "outputs": [
    {
     "data": {
      "image/png": "[encoded data removed]",
      "text/plain": [
       "<Figure size 432x288 with 1 Axes>"
      ]
     },
     "metadata": {
      "needs_background": "light"
     },
     "output_type": "display_data"
    }
   ],
   "source": [
    "# Age distribution of Customer Lifetime Value CLV for top countries\n",
    "\n",
    "top_country_list=['Italy','Saudi Arabia','Germany','Spain']\n",
    "cust_data[cust_data.country.isin(top_country_list)].groupby(by='age_range').consumer_ltv.sum().sort_values(ascending=False).plot(kind = 'bar',title='Age distribution of CLV for top countries')\n",
    "\n",
    "b = cust_data[cust_data.country.isin(top_country_list)].groupby(by='age_range').consumer_ltv.sum().sort_values(ascending=False)"
   ]
  },
  {
   "cell_type": "code",
   "execution_count": 44,
   "metadata": {},
   "outputs": [
    {
     "data": {
      "image/png": "[encoded data removed]",
      "text/plain": [
       "<Figure size 432x288 with 1 Axes>"
      ]
     },
     "metadata": {
      "needs_background": "light"
     },
     "output_type": "display_data"
    },
    {
     "data": {
      "text/plain": [
       "<Figure size 720x720 with 0 Axes>"
      ]
     },
     "metadata": {},
     "output_type": "display_data"
    }
   ],
   "source": [
    "# stacking customer LTV and orders by agegroup\n",
    "\n",
    "aa=pd.DataFrame(a)\n",
    "df = aa.join(b)\n",
    "\n",
    "df.plot.bar(rot=10,stacked=True)\n",
    "f = plt.figure(figsize=(10, 10))"
   ]
  },
  {
   "cell_type": "markdown",
   "metadata": {},
   "source": [
    "### Transaction data analysis"
   ]
  },
  {
   "cell_type": "code",
   "execution_count": 46,
   "metadata": {},
   "outputs": [],
   "source": [
    "# convert period to datetime\n",
    "trans_data['period']=pd.to_datetime(trans_data['period'])"
   ]
  },
  {
   "cell_type": "code",
   "execution_count": 47,
   "metadata": {},
   "outputs": [
    {
     "data": {
      "text/plain": [
       "order_id                                  object\n",
       "consumer_id                                int64\n",
       "month                                      int64\n",
       "year                                       int64\n",
       "period                            datetime64[ns]\n",
       "total_order_value                         object\n",
       "discount                                  object\n",
       "line_value                                object\n",
       "line_sku_production_cost                  object\n",
       "line_category                             object\n",
       "line_sku                                  object\n",
       "average_time_between_purchases           float64\n",
       "dtype: object"
      ]
     },
     "execution_count": 47,
     "metadata": {},
     "output_type": "execute_result"
    }
   ],
   "source": [
    "trans_data.dtypes"
   ]
  },
  {
   "cell_type": "code",
   "execution_count": 48,
   "metadata": {},
   "outputs": [
    {
     "data": {
      "text/html": [
       "<div>\n",
       "<style scoped>\n",
       "    .dataframe tbody tr th:only-of-type {\n",
       "        vertical-align: middle;\n",
       "    }\n",
       "\n",
       "    .dataframe tbody tr th {\n",
       "        vertical-align: top;\n",
       "    }\n",
       "\n",
       "    .dataframe thead th {\n",
       "        text-align: right;\n",
       "    }\n",
       "</style>\n",
       "<table border=\"1\" class=\"dataframe\">\n",
       "  <thead>\n",
       "    <tr style=\"text-align: right;\">\n",
       "      <th></th>\n",
       "      <th>order_id</th>\n",
       "      <th>consumer_id</th>\n",
       "      <th>month</th>\n",
       "      <th>year</th>\n",
       "      <th>period</th>\n",
       "      <th>total_order_value</th>\n",
       "      <th>discount</th>\n",
       "      <th>line_value</th>\n",
       "      <th>line_sku_production_cost</th>\n",
       "      <th>line_category</th>\n",
       "      <th>line_sku</th>\n",
       "      <th>average_time_between_purchases</th>\n",
       "    </tr>\n",
       "  </thead>\n",
       "  <tbody>\n",
       "    <tr>\n",
       "      <th>0</th>\n",
       "      <td>13121938B</td>\n",
       "      <td>13121938</td>\n",
       "      <td>3</td>\n",
       "      <td>2020</td>\n",
       "      <td>2020-03-01</td>\n",
       "      <td>168 €</td>\n",
       "      <td>0 €</td>\n",
       "      <td>168 €</td>\n",
       "      <td>25 €</td>\n",
       "      <td>Small leather goods</td>\n",
       "      <td>SMA4</td>\n",
       "      <td>NaN</td>\n",
       "    </tr>\n",
       "    <tr>\n",
       "      <th>1</th>\n",
       "      <td>13121938C</td>\n",
       "      <td>13121938</td>\n",
       "      <td>5</td>\n",
       "      <td>2020</td>\n",
       "      <td>2020-05-01</td>\n",
       "      <td>220 €</td>\n",
       "      <td>0 €</td>\n",
       "      <td>220 €</td>\n",
       "      <td>40 €</td>\n",
       "      <td>Fragrances</td>\n",
       "      <td>FRA4</td>\n",
       "      <td>2.0</td>\n",
       "    </tr>\n",
       "    <tr>\n",
       "      <th>2</th>\n",
       "      <td>13121938D</td>\n",
       "      <td>13121938</td>\n",
       "      <td>7</td>\n",
       "      <td>2020</td>\n",
       "      <td>2020-07-01</td>\n",
       "      <td>240 €</td>\n",
       "      <td>0 €</td>\n",
       "      <td>240 €</td>\n",
       "      <td>43 €</td>\n",
       "      <td>Fragrances</td>\n",
       "      <td>FRA5</td>\n",
       "      <td>2.0</td>\n",
       "    </tr>\n",
       "    <tr>\n",
       "      <th>4</th>\n",
       "      <td>13139819B</td>\n",
       "      <td>13139819</td>\n",
       "      <td>9</td>\n",
       "      <td>2020</td>\n",
       "      <td>2020-09-01</td>\n",
       "      <td>951 €</td>\n",
       "      <td>0 €</td>\n",
       "      <td>951 €</td>\n",
       "      <td>247 €</td>\n",
       "      <td>Mini bags</td>\n",
       "      <td>MIN3</td>\n",
       "      <td>8.0</td>\n",
       "    </tr>\n",
       "    <tr>\n",
       "      <th>5</th>\n",
       "      <td>13139819C</td>\n",
       "      <td>13139819</td>\n",
       "      <td>5</td>\n",
       "      <td>2020</td>\n",
       "      <td>2020-05-01</td>\n",
       "      <td>948 €</td>\n",
       "      <td>142 €</td>\n",
       "      <td>806 €</td>\n",
       "      <td>303 €</td>\n",
       "      <td>Bags</td>\n",
       "      <td>BAG4</td>\n",
       "      <td>4.0</td>\n",
       "    </tr>\n",
       "    <tr>\n",
       "      <th>...</th>\n",
       "      <td>...</td>\n",
       "      <td>...</td>\n",
       "      <td>...</td>\n",
       "      <td>...</td>\n",
       "      <td>...</td>\n",
       "      <td>...</td>\n",
       "      <td>...</td>\n",
       "      <td>...</td>\n",
       "      <td>...</td>\n",
       "      <td>...</td>\n",
       "      <td>...</td>\n",
       "      <td>...</td>\n",
       "    </tr>\n",
       "    <tr>\n",
       "      <th>3603</th>\n",
       "      <td>62035119D</td>\n",
       "      <td>62035119</td>\n",
       "      <td>9</td>\n",
       "      <td>2020</td>\n",
       "      <td>2020-09-01</td>\n",
       "      <td>205 €</td>\n",
       "      <td>0 €</td>\n",
       "      <td>205 €</td>\n",
       "      <td>37 €</td>\n",
       "      <td>Fragrances</td>\n",
       "      <td>FRA3</td>\n",
       "      <td>0.0</td>\n",
       "    </tr>\n",
       "    <tr>\n",
       "      <th>3607</th>\n",
       "      <td>62035419B</td>\n",
       "      <td>62035419</td>\n",
       "      <td>10</td>\n",
       "      <td>2020</td>\n",
       "      <td>2020-10-01</td>\n",
       "      <td>313 €</td>\n",
       "      <td>0 €</td>\n",
       "      <td>313 €</td>\n",
       "      <td>94 €</td>\n",
       "      <td>Accessories</td>\n",
       "      <td>ACC4</td>\n",
       "      <td>11.0</td>\n",
       "    </tr>\n",
       "    <tr>\n",
       "      <th>3611</th>\n",
       "      <td>62035719B</td>\n",
       "      <td>62035719</td>\n",
       "      <td>3</td>\n",
       "      <td>2020</td>\n",
       "      <td>2020-03-01</td>\n",
       "      <td>805 €</td>\n",
       "      <td>0 €</td>\n",
       "      <td>805 €</td>\n",
       "      <td>250 €</td>\n",
       "      <td>Mini bags</td>\n",
       "      <td>MIN7</td>\n",
       "      <td>4.0</td>\n",
       "    </tr>\n",
       "    <tr>\n",
       "      <th>3613</th>\n",
       "      <td>62035819B</td>\n",
       "      <td>62035819</td>\n",
       "      <td>5</td>\n",
       "      <td>2020</td>\n",
       "      <td>2020-05-01</td>\n",
       "      <td>805 €</td>\n",
       "      <td>0 €</td>\n",
       "      <td>805 €</td>\n",
       "      <td>250 €</td>\n",
       "      <td>Mini bags</td>\n",
       "      <td>MIN7</td>\n",
       "      <td>6.0</td>\n",
       "    </tr>\n",
       "    <tr>\n",
       "      <th>3615</th>\n",
       "      <td>62035919B</td>\n",
       "      <td>62035919</td>\n",
       "      <td>3</td>\n",
       "      <td>2020</td>\n",
       "      <td>2020-03-01</td>\n",
       "      <td>1,491 €</td>\n",
       "      <td>0 €</td>\n",
       "      <td>1,491 €</td>\n",
       "      <td>507 €</td>\n",
       "      <td>Bags</td>\n",
       "      <td>BAG2</td>\n",
       "      <td>4.0</td>\n",
       "    </tr>\n",
       "  </tbody>\n",
       "</table>\n",
       "<p>2362 rows × 12 columns</p>\n",
       "</div>"
      ],
      "text/plain": [
       "       order_id  consumer_id  month  year     period total_order_value  \\\n",
       "0     13121938B     13121938      3  2020 2020-03-01             168 €   \n",
       "1     13121938C     13121938      5  2020 2020-05-01             220 €   \n",
       "2     13121938D     13121938      7  2020 2020-07-01             240 €   \n",
       "4     13139819B     13139819      9  2020 2020-09-01             951 €   \n",
       "5     13139819C     13139819      5  2020 2020-05-01             948 €   \n",
       "...         ...          ...    ...   ...        ...               ...   \n",
       "3603  62035119D     62035119      9  2020 2020-09-01             205 €   \n",
       "3607  62035419B     62035419     10  2020 2020-10-01             313 €   \n",
       "3611  62035719B     62035719      3  2020 2020-03-01             805 €   \n",
       "3613  62035819B     62035819      5  2020 2020-05-01             805 €   \n",
       "3615  62035919B     62035919      3  2020 2020-03-01           1,491 €   \n",
       "\n",
       "     discount line_value line_sku_production_cost        line_category  \\\n",
       "0         0 €      168 €                     25 €  Small leather goods   \n",
       "1         0 €      220 €                     40 €           Fragrances   \n",
       "2         0 €      240 €                     43 €           Fragrances   \n",
       "4         0 €      951 €                    247 €            Mini bags   \n",
       "5       142 €      806 €                    303 €                 Bags   \n",
       "...       ...        ...                      ...                  ...   \n",
       "3603      0 €      205 €                     37 €           Fragrances   \n",
       "3607      0 €      313 €                     94 €          Accessories   \n",
       "3611      0 €      805 €                    250 €            Mini bags   \n",
       "3613      0 €      805 €                    250 €            Mini bags   \n",
       "3615      0 €    1,491 €                    507 €                 Bags   \n",
       "\n",
       "     line_sku  average_time_between_purchases  \n",
       "0        SMA4                             NaN  \n",
       "1        FRA4                             2.0  \n",
       "2        FRA5                             2.0  \n",
       "4        MIN3                             8.0  \n",
       "5        BAG4                             4.0  \n",
       "...       ...                             ...  \n",
       "3603     FRA3                             0.0  \n",
       "3607     ACC4                            11.0  \n",
       "3611     MIN7                             4.0  \n",
       "3613     MIN7                             6.0  \n",
       "3615     BAG2                             4.0  \n",
       "\n",
       "[2362 rows x 12 columns]"
      ]
     },
     "execution_count": 48,
     "metadata": {},
     "output_type": "execute_result"
    }
   ],
   "source": [
    "# testing date filter\n",
    "trans_data[trans_data.period >='2020-03-01']"
   ]
  },
  {
   "cell_type": "code",
   "execution_count": 49,
   "metadata": {},
   "outputs": [
    {
     "data": {
      "text/plain": [
       "Index(['order_id', 'consumer_id', 'month', 'year', 'period',\n",
       "       'total_order_value', 'discount', 'line_value',\n",
       "       'line_sku_production_cost', 'line_category', 'line_sku',\n",
       "       'average_time_between_purchases'],\n",
       "      dtype='object')"
      ]
     },
     "execution_count": 49,
     "metadata": {},
     "output_type": "execute_result"
    }
   ],
   "source": [
    "trans_data.columns"
   ]
  },
  {
   "cell_type": "code",
   "execution_count": 50,
   "metadata": {},
   "outputs": [
    {
     "data": {
      "text/html": [
       "<div>\n",
       "<style scoped>\n",
       "    .dataframe tbody tr th:only-of-type {\n",
       "        vertical-align: middle;\n",
       "    }\n",
       "\n",
       "    .dataframe tbody tr th {\n",
       "        vertical-align: top;\n",
       "    }\n",
       "\n",
       "    .dataframe thead th {\n",
       "        text-align: right;\n",
       "    }\n",
       "</style>\n",
       "<table border=\"1\" class=\"dataframe\">\n",
       "  <thead>\n",
       "    <tr style=\"text-align: right;\">\n",
       "      <th></th>\n",
       "      <th>order_id</th>\n",
       "      <th>consumer_id</th>\n",
       "      <th>month</th>\n",
       "      <th>year</th>\n",
       "      <th>period</th>\n",
       "      <th>total_order_value</th>\n",
       "      <th>discount</th>\n",
       "      <th>line_value</th>\n",
       "      <th>line_sku_production_cost</th>\n",
       "      <th>line_category</th>\n",
       "      <th>line_sku</th>\n",
       "      <th>average_time_between_purchases</th>\n",
       "    </tr>\n",
       "  </thead>\n",
       "  <tbody>\n",
       "    <tr>\n",
       "      <th>0</th>\n",
       "      <td>13121938B</td>\n",
       "      <td>13121938</td>\n",
       "      <td>3</td>\n",
       "      <td>2020</td>\n",
       "      <td>2020-03-01</td>\n",
       "      <td>168</td>\n",
       "      <td>0</td>\n",
       "      <td>168</td>\n",
       "      <td>25</td>\n",
       "      <td>Small leather goods</td>\n",
       "      <td>SMA4</td>\n",
       "      <td>NaN</td>\n",
       "    </tr>\n",
       "    <tr>\n",
       "      <th>1</th>\n",
       "      <td>13121938C</td>\n",
       "      <td>13121938</td>\n",
       "      <td>5</td>\n",
       "      <td>2020</td>\n",
       "      <td>2020-05-01</td>\n",
       "      <td>220</td>\n",
       "      <td>0</td>\n",
       "      <td>220</td>\n",
       "      <td>40</td>\n",
       "      <td>Fragrances</td>\n",
       "      <td>FRA4</td>\n",
       "      <td>2.0</td>\n",
       "    </tr>\n",
       "    <tr>\n",
       "      <th>2</th>\n",
       "      <td>13121938D</td>\n",
       "      <td>13121938</td>\n",
       "      <td>7</td>\n",
       "      <td>2020</td>\n",
       "      <td>2020-07-01</td>\n",
       "      <td>240</td>\n",
       "      <td>0</td>\n",
       "      <td>240</td>\n",
       "      <td>43</td>\n",
       "      <td>Fragrances</td>\n",
       "      <td>FRA5</td>\n",
       "      <td>2.0</td>\n",
       "    </tr>\n",
       "    <tr>\n",
       "      <th>3</th>\n",
       "      <td>13139819A</td>\n",
       "      <td>13139819</td>\n",
       "      <td>1</td>\n",
       "      <td>2020</td>\n",
       "      <td>2020-01-01</td>\n",
       "      <td>313</td>\n",
       "      <td>63</td>\n",
       "      <td>250</td>\n",
       "      <td>94</td>\n",
       "      <td>Accessories</td>\n",
       "      <td>ACC4</td>\n",
       "      <td>NaN</td>\n",
       "    </tr>\n",
       "    <tr>\n",
       "      <th>4</th>\n",
       "      <td>13139819B</td>\n",
       "      <td>13139819</td>\n",
       "      <td>9</td>\n",
       "      <td>2020</td>\n",
       "      <td>2020-09-01</td>\n",
       "      <td>951</td>\n",
       "      <td>0</td>\n",
       "      <td>951</td>\n",
       "      <td>247</td>\n",
       "      <td>Mini bags</td>\n",
       "      <td>MIN3</td>\n",
       "      <td>8.0</td>\n",
       "    </tr>\n",
       "  </tbody>\n",
       "</table>\n",
       "</div>"
      ],
      "text/plain": [
       "    order_id  consumer_id  month  year     period total_order_value discount  \\\n",
       "0  13121938B     13121938      3  2020 2020-03-01              168        0    \n",
       "1  13121938C     13121938      5  2020 2020-05-01              220        0    \n",
       "2  13121938D     13121938      7  2020 2020-07-01              240        0    \n",
       "3  13139819A     13139819      1  2020 2020-01-01              313       63    \n",
       "4  13139819B     13139819      9  2020 2020-09-01              951        0    \n",
       "\n",
       "  line_value line_sku_production_cost        line_category line_sku  \\\n",
       "0       168                       25   Small leather goods     SMA4   \n",
       "1       220                       40            Fragrances     FRA4   \n",
       "2       240                       43            Fragrances     FRA5   \n",
       "3       250                       94           Accessories     ACC4   \n",
       "4       951                      247             Mini bags     MIN3   \n",
       "\n",
       "   average_time_between_purchases  \n",
       "0                             NaN  \n",
       "1                             2.0  \n",
       "2                             2.0  \n",
       "3                             NaN  \n",
       "4                             8.0  "
      ]
     },
     "execution_count": 50,
     "metadata": {},
     "output_type": "execute_result"
    }
   ],
   "source": [
    "# remove EUR sign\n",
    "trans_data[['total_order_value', 'discount', 'line_value','line_sku_production_cost']] = trans_data[['total_order_value', 'discount', 'line_value',\n",
    "       'line_sku_production_cost']].apply(lambda x: x.str[:-1])\n",
    "trans_data.head()"
   ]
  },
  {
   "cell_type": "code",
   "execution_count": 51,
   "metadata": {},
   "outputs": [],
   "source": [
    "# convert line order values to float type\n",
    "def convert_to_float(x):\n",
    "    trans_data[x]= trans_data[x].apply(lambda x:x.replace(',',''))\n",
    "    trans_data[x]= trans_data[x].apply(lambda x:x.strip())\n",
    "    trans_data[x] = trans_data[x].apply(lambda x:pd.to_numeric(x,downcast='float'))"
   ]
  },
  {
   "cell_type": "code",
   "execution_count": 52,
   "metadata": {},
   "outputs": [
    {
     "data": {
      "text/html": [
       "<div>\n",
       "<style scoped>\n",
       "    .dataframe tbody tr th:only-of-type {\n",
       "        vertical-align: middle;\n",
       "    }\n",
       "\n",
       "    .dataframe tbody tr th {\n",
       "        vertical-align: top;\n",
       "    }\n",
       "\n",
       "    .dataframe thead th {\n",
       "        text-align: right;\n",
       "    }\n",
       "</style>\n",
       "<table border=\"1\" class=\"dataframe\">\n",
       "  <thead>\n",
       "    <tr style=\"text-align: right;\">\n",
       "      <th></th>\n",
       "      <th>order_id</th>\n",
       "      <th>consumer_id</th>\n",
       "      <th>month</th>\n",
       "      <th>year</th>\n",
       "      <th>period</th>\n",
       "      <th>total_order_value</th>\n",
       "      <th>discount</th>\n",
       "      <th>line_value</th>\n",
       "      <th>line_sku_production_cost</th>\n",
       "      <th>line_category</th>\n",
       "      <th>line_sku</th>\n",
       "      <th>average_time_between_purchases</th>\n",
       "    </tr>\n",
       "  </thead>\n",
       "  <tbody>\n",
       "    <tr>\n",
       "      <th>0</th>\n",
       "      <td>13121938B</td>\n",
       "      <td>13121938</td>\n",
       "      <td>3</td>\n",
       "      <td>2020</td>\n",
       "      <td>2020-03-01</td>\n",
       "      <td>168.0</td>\n",
       "      <td>0.0</td>\n",
       "      <td>168.0</td>\n",
       "      <td>25.0</td>\n",
       "      <td>Small leather goods</td>\n",
       "      <td>SMA4</td>\n",
       "      <td>NaN</td>\n",
       "    </tr>\n",
       "    <tr>\n",
       "      <th>1</th>\n",
       "      <td>13121938C</td>\n",
       "      <td>13121938</td>\n",
       "      <td>5</td>\n",
       "      <td>2020</td>\n",
       "      <td>2020-05-01</td>\n",
       "      <td>220.0</td>\n",
       "      <td>0.0</td>\n",
       "      <td>220.0</td>\n",
       "      <td>40.0</td>\n",
       "      <td>Fragrances</td>\n",
       "      <td>FRA4</td>\n",
       "      <td>2.0</td>\n",
       "    </tr>\n",
       "    <tr>\n",
       "      <th>2</th>\n",
       "      <td>13121938D</td>\n",
       "      <td>13121938</td>\n",
       "      <td>7</td>\n",
       "      <td>2020</td>\n",
       "      <td>2020-07-01</td>\n",
       "      <td>240.0</td>\n",
       "      <td>0.0</td>\n",
       "      <td>240.0</td>\n",
       "      <td>43.0</td>\n",
       "      <td>Fragrances</td>\n",
       "      <td>FRA5</td>\n",
       "      <td>2.0</td>\n",
       "    </tr>\n",
       "    <tr>\n",
       "      <th>3</th>\n",
       "      <td>13139819A</td>\n",
       "      <td>13139819</td>\n",
       "      <td>1</td>\n",
       "      <td>2020</td>\n",
       "      <td>2020-01-01</td>\n",
       "      <td>313.0</td>\n",
       "      <td>63.0</td>\n",
       "      <td>250.0</td>\n",
       "      <td>94.0</td>\n",
       "      <td>Accessories</td>\n",
       "      <td>ACC4</td>\n",
       "      <td>NaN</td>\n",
       "    </tr>\n",
       "    <tr>\n",
       "      <th>4</th>\n",
       "      <td>13139819B</td>\n",
       "      <td>13139819</td>\n",
       "      <td>9</td>\n",
       "      <td>2020</td>\n",
       "      <td>2020-09-01</td>\n",
       "      <td>951.0</td>\n",
       "      <td>0.0</td>\n",
       "      <td>951.0</td>\n",
       "      <td>247.0</td>\n",
       "      <td>Mini bags</td>\n",
       "      <td>MIN3</td>\n",
       "      <td>8.0</td>\n",
       "    </tr>\n",
       "  </tbody>\n",
       "</table>\n",
       "</div>"
      ],
      "text/plain": [
       "    order_id  consumer_id  month  year     period  total_order_value  \\\n",
       "0  13121938B     13121938      3  2020 2020-03-01              168.0   \n",
       "1  13121938C     13121938      5  2020 2020-05-01              220.0   \n",
       "2  13121938D     13121938      7  2020 2020-07-01              240.0   \n",
       "3  13139819A     13139819      1  2020 2020-01-01              313.0   \n",
       "4  13139819B     13139819      9  2020 2020-09-01              951.0   \n",
       "\n",
       "   discount  line_value  line_sku_production_cost        line_category  \\\n",
       "0       0.0       168.0                      25.0  Small leather goods   \n",
       "1       0.0       220.0                      40.0           Fragrances   \n",
       "2       0.0       240.0                      43.0           Fragrances   \n",
       "3      63.0       250.0                      94.0          Accessories   \n",
       "4       0.0       951.0                     247.0            Mini bags   \n",
       "\n",
       "  line_sku  average_time_between_purchases  \n",
       "0     SMA4                             NaN  \n",
       "1     FRA4                             2.0  \n",
       "2     FRA5                             2.0  \n",
       "3     ACC4                             NaN  \n",
       "4     MIN3                             8.0  "
      ]
     },
     "execution_count": 52,
     "metadata": {},
     "output_type": "execute_result"
    }
   ],
   "source": [
    "for i in ['total_order_value', 'discount', 'line_value','line_sku_production_cost']:\n",
    "   convert_to_float(i)\n",
    "trans_data.head()"
   ]
  },
  {
   "cell_type": "code",
   "execution_count": 53,
   "metadata": {},
   "outputs": [
    {
     "data": {
      "text/html": [
       "<div>\n",
       "<style scoped>\n",
       "    .dataframe tbody tr th:only-of-type {\n",
       "        vertical-align: middle;\n",
       "    }\n",
       "\n",
       "    .dataframe tbody tr th {\n",
       "        vertical-align: top;\n",
       "    }\n",
       "\n",
       "    .dataframe thead th {\n",
       "        text-align: right;\n",
       "    }\n",
       "</style>\n",
       "<table border=\"1\" class=\"dataframe\">\n",
       "  <thead>\n",
       "    <tr style=\"text-align: right;\">\n",
       "      <th></th>\n",
       "      <th>total_order_value</th>\n",
       "      <th>discount</th>\n",
       "      <th>line_value</th>\n",
       "      <th>line_sku_production_cost</th>\n",
       "    </tr>\n",
       "  </thead>\n",
       "  <tbody>\n",
       "    <tr>\n",
       "      <th>count</th>\n",
       "      <td>3676.000000</td>\n",
       "      <td>3676.000000</td>\n",
       "      <td>3676.000000</td>\n",
       "      <td>3676.000000</td>\n",
       "    </tr>\n",
       "    <tr>\n",
       "      <th>mean</th>\n",
       "      <td>387.623776</td>\n",
       "      <td>24.100925</td>\n",
       "      <td>363.531284</td>\n",
       "      <td>116.843580</td>\n",
       "    </tr>\n",
       "    <tr>\n",
       "      <th>std</th>\n",
       "      <td>276.320403</td>\n",
       "      <td>41.102525</td>\n",
       "      <td>265.846880</td>\n",
       "      <td>94.708991</td>\n",
       "    </tr>\n",
       "    <tr>\n",
       "      <th>min</th>\n",
       "      <td>144.000000</td>\n",
       "      <td>0.000000</td>\n",
       "      <td>115.000000</td>\n",
       "      <td>25.000000</td>\n",
       "    </tr>\n",
       "    <tr>\n",
       "      <th>25%</th>\n",
       "      <td>210.000000</td>\n",
       "      <td>0.000000</td>\n",
       "      <td>204.000000</td>\n",
       "      <td>61.000000</td>\n",
       "    </tr>\n",
       "    <tr>\n",
       "      <th>50%</th>\n",
       "      <td>313.000000</td>\n",
       "      <td>0.000000</td>\n",
       "      <td>278.000000</td>\n",
       "      <td>94.000000</td>\n",
       "    </tr>\n",
       "    <tr>\n",
       "      <th>75%</th>\n",
       "      <td>447.000000</td>\n",
       "      <td>41.000000</td>\n",
       "      <td>418.000000</td>\n",
       "      <td>147.000000</td>\n",
       "    </tr>\n",
       "    <tr>\n",
       "      <th>max</th>\n",
       "      <td>1576.000000</td>\n",
       "      <td>315.000000</td>\n",
       "      <td>1576.000000</td>\n",
       "      <td>520.000000</td>\n",
       "    </tr>\n",
       "  </tbody>\n",
       "</table>\n",
       "</div>"
      ],
      "text/plain": [
       "       total_order_value     discount   line_value  line_sku_production_cost\n",
       "count        3676.000000  3676.000000  3676.000000               3676.000000\n",
       "mean          387.623776    24.100925   363.531284                116.843580\n",
       "std           276.320403    41.102525   265.846880                 94.708991\n",
       "min           144.000000     0.000000   115.000000                 25.000000\n",
       "25%           210.000000     0.000000   204.000000                 61.000000\n",
       "50%           313.000000     0.000000   278.000000                 94.000000\n",
       "75%           447.000000    41.000000   418.000000                147.000000\n",
       "max          1576.000000   315.000000  1576.000000                520.000000"
      ]
     },
     "execution_count": 53,
     "metadata": {},
     "output_type": "execute_result"
    }
   ],
   "source": [
    "trans_data[['total_order_value', 'discount', 'line_value','line_sku_production_cost']].describe()"
   ]
  },
  {
   "cell_type": "code",
   "execution_count": 54,
   "metadata": {},
   "outputs": [
    {
     "data": {
      "text/plain": [
       "order_id                                  object\n",
       "consumer_id                                int64\n",
       "month                                      int64\n",
       "year                                       int64\n",
       "period                            datetime64[ns]\n",
       "total_order_value                        float64\n",
       "discount                                 float64\n",
       "line_value                               float64\n",
       "line_sku_production_cost                 float64\n",
       "line_category                             object\n",
       "line_sku                                  object\n",
       "average_time_between_purchases           float64\n",
       "dtype: object"
      ]
     },
     "execution_count": 54,
     "metadata": {},
     "output_type": "execute_result"
    }
   ],
   "source": [
    "trans_data.dtypes"
   ]
  },
  {
   "cell_type": "code",
   "execution_count": 55,
   "metadata": {},
   "outputs": [
    {
     "data": {
      "text/plain": [
       "total_order_value           1424905.0\n",
       "discount                      88595.0\n",
       "line_value                  1336341.0\n",
       "line_sku_production_cost     429517.0\n",
       "dtype: float64"
      ]
     },
     "execution_count": 55,
     "metadata": {},
     "output_type": "execute_result"
    }
   ],
   "source": [
    "# testing float values\n",
    "trans_data[['total_order_value', 'discount', 'line_value','line_sku_production_cost']].sum()"
   ]
  },
  {
   "cell_type": "code",
   "execution_count": 56,
   "metadata": {},
   "outputs": [
    {
     "data": {
      "text/html": [
       "<div>\n",
       "<style scoped>\n",
       "    .dataframe tbody tr th:only-of-type {\n",
       "        vertical-align: middle;\n",
       "    }\n",
       "\n",
       "    .dataframe tbody tr th {\n",
       "        vertical-align: top;\n",
       "    }\n",
       "\n",
       "    .dataframe thead th {\n",
       "        text-align: right;\n",
       "    }\n",
       "</style>\n",
       "<table border=\"1\" class=\"dataframe\">\n",
       "  <thead>\n",
       "    <tr style=\"text-align: right;\">\n",
       "      <th></th>\n",
       "      <th>order_id</th>\n",
       "      <th>consumer_id</th>\n",
       "      <th>month</th>\n",
       "      <th>year</th>\n",
       "      <th>period</th>\n",
       "      <th>total_order_value</th>\n",
       "      <th>discount</th>\n",
       "      <th>line_value</th>\n",
       "      <th>line_sku_production_cost</th>\n",
       "      <th>line_category</th>\n",
       "      <th>line_sku</th>\n",
       "      <th>average_time_between_purchases</th>\n",
       "      <th>profit</th>\n",
       "    </tr>\n",
       "  </thead>\n",
       "  <tbody>\n",
       "    <tr>\n",
       "      <th>1979</th>\n",
       "      <td>59013919A</td>\n",
       "      <td>59013919</td>\n",
       "      <td>6</td>\n",
       "      <td>2020</td>\n",
       "      <td>2020-06-01</td>\n",
       "      <td>1576.0</td>\n",
       "      <td>0.0</td>\n",
       "      <td>1576.0</td>\n",
       "      <td>520.0</td>\n",
       "      <td>Bags</td>\n",
       "      <td>BAG3</td>\n",
       "      <td>NaN</td>\n",
       "      <td>1056.0</td>\n",
       "    </tr>\n",
       "    <tr>\n",
       "      <th>1854</th>\n",
       "      <td>79014719A</td>\n",
       "      <td>79014719</td>\n",
       "      <td>7</td>\n",
       "      <td>2020</td>\n",
       "      <td>2020-07-01</td>\n",
       "      <td>1576.0</td>\n",
       "      <td>0.0</td>\n",
       "      <td>1576.0</td>\n",
       "      <td>520.0</td>\n",
       "      <td>Bags</td>\n",
       "      <td>BAG3</td>\n",
       "      <td>NaN</td>\n",
       "      <td>1056.0</td>\n",
       "    </tr>\n",
       "    <tr>\n",
       "      <th>1129</th>\n",
       "      <td>99030619A</td>\n",
       "      <td>99030619</td>\n",
       "      <td>9</td>\n",
       "      <td>2020</td>\n",
       "      <td>2020-09-01</td>\n",
       "      <td>1576.0</td>\n",
       "      <td>0.0</td>\n",
       "      <td>1576.0</td>\n",
       "      <td>520.0</td>\n",
       "      <td>Bags</td>\n",
       "      <td>BAG3</td>\n",
       "      <td>NaN</td>\n",
       "      <td>1056.0</td>\n",
       "    </tr>\n",
       "    <tr>\n",
       "      <th>2809</th>\n",
       "      <td>30119589A</td>\n",
       "      <td>30119589</td>\n",
       "      <td>3</td>\n",
       "      <td>2020</td>\n",
       "      <td>2020-03-01</td>\n",
       "      <td>1576.0</td>\n",
       "      <td>0.0</td>\n",
       "      <td>1576.0</td>\n",
       "      <td>520.0</td>\n",
       "      <td>Bags</td>\n",
       "      <td>BAG3</td>\n",
       "      <td>NaN</td>\n",
       "      <td>1056.0</td>\n",
       "    </tr>\n",
       "    <tr>\n",
       "      <th>1989</th>\n",
       "      <td>59014919A</td>\n",
       "      <td>59014919</td>\n",
       "      <td>6</td>\n",
       "      <td>2020</td>\n",
       "      <td>2020-06-01</td>\n",
       "      <td>1576.0</td>\n",
       "      <td>0.0</td>\n",
       "      <td>1576.0</td>\n",
       "      <td>520.0</td>\n",
       "      <td>Bags</td>\n",
       "      <td>BAG3</td>\n",
       "      <td>NaN</td>\n",
       "      <td>1056.0</td>\n",
       "    </tr>\n",
       "    <tr>\n",
       "      <th>...</th>\n",
       "      <td>...</td>\n",
       "      <td>...</td>\n",
       "      <td>...</td>\n",
       "      <td>...</td>\n",
       "      <td>...</td>\n",
       "      <td>...</td>\n",
       "      <td>...</td>\n",
       "      <td>...</td>\n",
       "      <td>...</td>\n",
       "      <td>...</td>\n",
       "      <td>...</td>\n",
       "      <td>...</td>\n",
       "      <td>...</td>\n",
       "    </tr>\n",
       "    <tr>\n",
       "      <th>60</th>\n",
       "      <td>13133419A</td>\n",
       "      <td>13133419</td>\n",
       "      <td>1</td>\n",
       "      <td>2020</td>\n",
       "      <td>2020-01-01</td>\n",
       "      <td>144.0</td>\n",
       "      <td>29.0</td>\n",
       "      <td>115.0</td>\n",
       "      <td>66.0</td>\n",
       "      <td>Small leather goods</td>\n",
       "      <td>SMA3</td>\n",
       "      <td>NaN</td>\n",
       "      <td>49.0</td>\n",
       "    </tr>\n",
       "    <tr>\n",
       "      <th>3544</th>\n",
       "      <td>62032219A</td>\n",
       "      <td>62032219</td>\n",
       "      <td>11</td>\n",
       "      <td>2019</td>\n",
       "      <td>2019-11-01</td>\n",
       "      <td>144.0</td>\n",
       "      <td>29.0</td>\n",
       "      <td>115.0</td>\n",
       "      <td>66.0</td>\n",
       "      <td>Small leather goods</td>\n",
       "      <td>SMA3</td>\n",
       "      <td>NaN</td>\n",
       "      <td>49.0</td>\n",
       "    </tr>\n",
       "    <tr>\n",
       "      <th>3626</th>\n",
       "      <td>62037219A</td>\n",
       "      <td>62037219</td>\n",
       "      <td>11</td>\n",
       "      <td>2019</td>\n",
       "      <td>2019-11-01</td>\n",
       "      <td>144.0</td>\n",
       "      <td>29.0</td>\n",
       "      <td>115.0</td>\n",
       "      <td>66.0</td>\n",
       "      <td>Small leather goods</td>\n",
       "      <td>SMA3</td>\n",
       "      <td>NaN</td>\n",
       "      <td>49.0</td>\n",
       "    </tr>\n",
       "    <tr>\n",
       "      <th>3581</th>\n",
       "      <td>62034219A</td>\n",
       "      <td>62034219</td>\n",
       "      <td>11</td>\n",
       "      <td>2019</td>\n",
       "      <td>2019-11-01</td>\n",
       "      <td>144.0</td>\n",
       "      <td>29.0</td>\n",
       "      <td>115.0</td>\n",
       "      <td>66.0</td>\n",
       "      <td>Small leather goods</td>\n",
       "      <td>SMA3</td>\n",
       "      <td>NaN</td>\n",
       "      <td>49.0</td>\n",
       "    </tr>\n",
       "    <tr>\n",
       "      <th>3439</th>\n",
       "      <td>20133619A</td>\n",
       "      <td>20133619</td>\n",
       "      <td>12</td>\n",
       "      <td>2019</td>\n",
       "      <td>2019-12-01</td>\n",
       "      <td>144.0</td>\n",
       "      <td>29.0</td>\n",
       "      <td>115.0</td>\n",
       "      <td>66.0</td>\n",
       "      <td>Small leather goods</td>\n",
       "      <td>SMA3</td>\n",
       "      <td>NaN</td>\n",
       "      <td>49.0</td>\n",
       "    </tr>\n",
       "  </tbody>\n",
       "</table>\n",
       "<p>3676 rows × 13 columns</p>\n",
       "</div>"
      ],
      "text/plain": [
       "       order_id  consumer_id  month  year     period  total_order_value  \\\n",
       "1979  59013919A     59013919      6  2020 2020-06-01             1576.0   \n",
       "1854  79014719A     79014719      7  2020 2020-07-01             1576.0   \n",
       "1129  99030619A     99030619      9  2020 2020-09-01             1576.0   \n",
       "2809  30119589A     30119589      3  2020 2020-03-01             1576.0   \n",
       "1989  59014919A     59014919      6  2020 2020-06-01             1576.0   \n",
       "...         ...          ...    ...   ...        ...                ...   \n",
       "60    13133419A     13133419      1  2020 2020-01-01              144.0   \n",
       "3544  62032219A     62032219     11  2019 2019-11-01              144.0   \n",
       "3626  62037219A     62037219     11  2019 2019-11-01              144.0   \n",
       "3581  62034219A     62034219     11  2019 2019-11-01              144.0   \n",
       "3439  20133619A     20133619     12  2019 2019-12-01              144.0   \n",
       "\n",
       "      discount  line_value  line_sku_production_cost        line_category  \\\n",
       "1979       0.0      1576.0                     520.0                 Bags   \n",
       "1854       0.0      1576.0                     520.0                 Bags   \n",
       "1129       0.0      1576.0                     520.0                 Bags   \n",
       "2809       0.0      1576.0                     520.0                 Bags   \n",
       "1989       0.0      1576.0                     520.0                 Bags   \n",
       "...        ...         ...                       ...                  ...   \n",
       "60        29.0       115.0                      66.0  Small leather goods   \n",
       "3544      29.0       115.0                      66.0  Small leather goods   \n",
       "3626      29.0       115.0                      66.0  Small leather goods   \n",
       "3581      29.0       115.0                      66.0  Small leather goods   \n",
       "3439      29.0       115.0                      66.0  Small leather goods   \n",
       "\n",
       "     line_sku  average_time_between_purchases  profit  \n",
       "1979     BAG3                             NaN  1056.0  \n",
       "1854     BAG3                             NaN  1056.0  \n",
       "1129     BAG3                             NaN  1056.0  \n",
       "2809     BAG3                             NaN  1056.0  \n",
       "1989     BAG3                             NaN  1056.0  \n",
       "...       ...                             ...     ...  \n",
       "60       SMA3                             NaN    49.0  \n",
       "3544     SMA3                             NaN    49.0  \n",
       "3626     SMA3                             NaN    49.0  \n",
       "3581     SMA3                             NaN    49.0  \n",
       "3439     SMA3                             NaN    49.0  \n",
       "\n",
       "[3676 rows x 13 columns]"
      ]
     },
     "execution_count": 56,
     "metadata": {},
     "output_type": "execute_result"
    }
   ],
   "source": [
    "# create Profit field for transaction\n",
    "trans_data['profit'] = trans_data['line_value']-trans_data['line_sku_production_cost']\n",
    "trans_data.sort_values(by='profit',ascending=False)\n"
   ]
  },
  {
   "cell_type": "code",
   "execution_count": 57,
   "metadata": {},
   "outputs": [
    {
     "data": {
      "text/plain": [
       "0"
      ]
     },
     "execution_count": 57,
     "metadata": {},
     "output_type": "execute_result"
    }
   ],
   "source": [
    "# check null profit\n",
    "trans_data.profit.isnull().sum()"
   ]
  },
  {
   "cell_type": "code",
   "execution_count": 58,
   "metadata": {},
   "outputs": [
    {
     "data": {
      "text/plain": [
       "<AxesSubplot:>"
      ]
     },
     "execution_count": 58,
     "metadata": {},
     "output_type": "execute_result"
    },
    {
     "data": {
      "image/png": "[encoded data removed]",
      "text/plain": [
       "<Figure size 720x720 with 1 Axes>"
      ]
     },
     "metadata": {
      "needs_background": "light"
     },
     "output_type": "display_data"
    }
   ],
   "source": [
    "# check profit distribution \n",
    "trans_data.profit.plot(kind = 'box',figsize=[10,10])"
   ]
  },
  {
   "cell_type": "code",
   "execution_count": 59,
   "metadata": {},
   "outputs": [
    {
     "data": {
      "text/plain": [
       "0.1191512513601741"
      ]
     },
     "execution_count": 59,
     "metadata": {},
     "output_type": "execute_result"
    }
   ],
   "source": [
    "# orders with profit more than 400\n",
    "len(trans_data['profit'].loc[trans_data.profit>400])/len(trans_data['total_order_value'])"
   ]
  },
  {
   "cell_type": "code",
   "execution_count": 60,
   "metadata": {},
   "outputs": [
    {
     "data": {
      "text/plain": [
       "<AxesSubplot:title={'center':'profit against time'}, xlabel='period'>"
      ]
     },
     "execution_count": 60,
     "metadata": {},
     "output_type": "execute_result"
    },
    {
     "data": {
      "image/png": "[encoded data removed]",
      "text/plain": [
       "<Figure size 432x288 with 1 Axes>"
      ]
     },
     "metadata": {
      "needs_background": "light"
     },
     "output_type": "display_data"
    }
   ],
   "source": [
    "# time trend of profit\n",
    "trans_data.groupby(by='period').profit.mean().plot(kind='line',title='profit against time')"
   ]
  },
  {
   "cell_type": "code",
   "execution_count": 61,
   "metadata": {},
   "outputs": [
    {
     "data": {
      "text/plain": [
       "<AxesSubplot:title={'center':'profit per line category'}, xlabel='line_category'>"
      ]
     },
     "execution_count": 61,
     "metadata": {},
     "output_type": "execute_result"
    },
    {
     "data": {
      "image/png": "[encoded data removed]",
      "text/plain": [
       "<Figure size 432x288 with 1 Axes>"
      ]
     },
     "metadata": {
      "needs_background": "light"
     },
     "output_type": "display_data"
    }
   ],
   "source": [
    "# group Profit by line category\n",
    "trans_data.groupby(by='line_category').profit.sum().sort_values(ascending=False).plot(kind='bar',title='profit per line category')"
   ]
  },
  {
   "cell_type": "markdown",
   "metadata": {},
   "source": [
    "## Transaction & Customer Analysis"
   ]
  },
  {
   "cell_type": "code",
   "execution_count": 62,
   "metadata": {},
   "outputs": [
    {
     "data": {
      "text/html": [
       "<div>\n",
       "<style scoped>\n",
       "    .dataframe tbody tr th:only-of-type {\n",
       "        vertical-align: middle;\n",
       "    }\n",
       "\n",
       "    .dataframe tbody tr th {\n",
       "        vertical-align: top;\n",
       "    }\n",
       "\n",
       "    .dataframe thead th {\n",
       "        text-align: right;\n",
       "    }\n",
       "</style>\n",
       "<table border=\"1\" class=\"dataframe\">\n",
       "  <thead>\n",
       "    <tr style=\"text-align: right;\">\n",
       "      <th></th>\n",
       "      <th>order_id</th>\n",
       "      <th>consumer_id</th>\n",
       "      <th>month_x</th>\n",
       "      <th>year_x</th>\n",
       "      <th>period</th>\n",
       "      <th>total_order_value</th>\n",
       "      <th>discount</th>\n",
       "      <th>line_value</th>\n",
       "      <th>line_sku_production_cost</th>\n",
       "      <th>line_category</th>\n",
       "      <th>...</th>\n",
       "      <th>month_y</th>\n",
       "      <th>year_y</th>\n",
       "      <th>marketing_option</th>\n",
       "      <th>status</th>\n",
       "      <th>num_of_orders</th>\n",
       "      <th>new_active</th>\n",
       "      <th>new_repeaters</th>\n",
       "      <th>consumer_ltv</th>\n",
       "      <th>lower_age</th>\n",
       "      <th>upper_age</th>\n",
       "    </tr>\n",
       "  </thead>\n",
       "  <tbody>\n",
       "    <tr>\n",
       "      <th>0</th>\n",
       "      <td>13139819A</td>\n",
       "      <td>13139819</td>\n",
       "      <td>1</td>\n",
       "      <td>2020</td>\n",
       "      <td>2020-01-01</td>\n",
       "      <td>313.0</td>\n",
       "      <td>63.0</td>\n",
       "      <td>250.0</td>\n",
       "      <td>94.0</td>\n",
       "      <td>Accessories</td>\n",
       "      <td>...</td>\n",
       "      <td>1</td>\n",
       "      <td>2020</td>\n",
       "      <td>0</td>\n",
       "      <td>Active</td>\n",
       "      <td>4</td>\n",
       "      <td>0</td>\n",
       "      <td>1</td>\n",
       "      <td>3160</td>\n",
       "      <td>25</td>\n",
       "      <td>29</td>\n",
       "    </tr>\n",
       "    <tr>\n",
       "      <th>1</th>\n",
       "      <td>13139819B</td>\n",
       "      <td>13139819</td>\n",
       "      <td>9</td>\n",
       "      <td>2020</td>\n",
       "      <td>2020-09-01</td>\n",
       "      <td>951.0</td>\n",
       "      <td>0.0</td>\n",
       "      <td>951.0</td>\n",
       "      <td>247.0</td>\n",
       "      <td>Mini bags</td>\n",
       "      <td>...</td>\n",
       "      <td>1</td>\n",
       "      <td>2020</td>\n",
       "      <td>0</td>\n",
       "      <td>Active</td>\n",
       "      <td>4</td>\n",
       "      <td>0</td>\n",
       "      <td>1</td>\n",
       "      <td>3160</td>\n",
       "      <td>25</td>\n",
       "      <td>29</td>\n",
       "    </tr>\n",
       "    <tr>\n",
       "      <th>2</th>\n",
       "      <td>13139819C</td>\n",
       "      <td>13139819</td>\n",
       "      <td>5</td>\n",
       "      <td>2020</td>\n",
       "      <td>2020-05-01</td>\n",
       "      <td>948.0</td>\n",
       "      <td>142.0</td>\n",
       "      <td>806.0</td>\n",
       "      <td>303.0</td>\n",
       "      <td>Bags</td>\n",
       "      <td>...</td>\n",
       "      <td>1</td>\n",
       "      <td>2020</td>\n",
       "      <td>0</td>\n",
       "      <td>Active</td>\n",
       "      <td>4</td>\n",
       "      <td>0</td>\n",
       "      <td>1</td>\n",
       "      <td>3160</td>\n",
       "      <td>25</td>\n",
       "      <td>29</td>\n",
       "    </tr>\n",
       "    <tr>\n",
       "      <th>3</th>\n",
       "      <td>13139819D</td>\n",
       "      <td>13139819</td>\n",
       "      <td>8</td>\n",
       "      <td>2020</td>\n",
       "      <td>2020-08-01</td>\n",
       "      <td>948.0</td>\n",
       "      <td>0.0</td>\n",
       "      <td>948.0</td>\n",
       "      <td>303.0</td>\n",
       "      <td>Bags</td>\n",
       "      <td>...</td>\n",
       "      <td>1</td>\n",
       "      <td>2020</td>\n",
       "      <td>0</td>\n",
       "      <td>Active</td>\n",
       "      <td>4</td>\n",
       "      <td>0</td>\n",
       "      <td>1</td>\n",
       "      <td>3160</td>\n",
       "      <td>25</td>\n",
       "      <td>29</td>\n",
       "    </tr>\n",
       "    <tr>\n",
       "      <th>4</th>\n",
       "      <td>13139919A</td>\n",
       "      <td>13139919</td>\n",
       "      <td>1</td>\n",
       "      <td>2020</td>\n",
       "      <td>2020-01-01</td>\n",
       "      <td>1491.0</td>\n",
       "      <td>298.0</td>\n",
       "      <td>1193.0</td>\n",
       "      <td>507.0</td>\n",
       "      <td>Bags</td>\n",
       "      <td>...</td>\n",
       "      <td>1</td>\n",
       "      <td>2020</td>\n",
       "      <td>0</td>\n",
       "      <td>Active</td>\n",
       "      <td>4</td>\n",
       "      <td>0</td>\n",
       "      <td>1</td>\n",
       "      <td>4794</td>\n",
       "      <td>30</td>\n",
       "      <td>34</td>\n",
       "    </tr>\n",
       "  </tbody>\n",
       "</table>\n",
       "<p>5 rows × 26 columns</p>\n",
       "</div>"
      ],
      "text/plain": [
       "    order_id  consumer_id  month_x  year_x     period  total_order_value  \\\n",
       "0  13139819A     13139819        1    2020 2020-01-01              313.0   \n",
       "1  13139819B     13139819        9    2020 2020-09-01              951.0   \n",
       "2  13139819C     13139819        5    2020 2020-05-01              948.0   \n",
       "3  13139819D     13139819        8    2020 2020-08-01              948.0   \n",
       "4  13139919A     13139919        1    2020 2020-01-01             1491.0   \n",
       "\n",
       "   discount  line_value  line_sku_production_cost line_category  ... month_y  \\\n",
       "0      63.0       250.0                      94.0   Accessories  ...       1   \n",
       "1       0.0       951.0                     247.0     Mini bags  ...       1   \n",
       "2     142.0       806.0                     303.0          Bags  ...       1   \n",
       "3       0.0       948.0                     303.0          Bags  ...       1   \n",
       "4     298.0      1193.0                     507.0          Bags  ...       1   \n",
       "\n",
       "   year_y  marketing_option  status num_of_orders new_active  new_repeaters  \\\n",
       "0    2020                 0  Active             4          0              1   \n",
       "1    2020                 0  Active             4          0              1   \n",
       "2    2020                 0  Active             4          0              1   \n",
       "3    2020                 0  Active             4          0              1   \n",
       "4    2020                 0  Active             4          0              1   \n",
       "\n",
       "   consumer_ltv  lower_age upper_age  \n",
       "0          3160         25        29  \n",
       "1          3160         25        29  \n",
       "2          3160         25        29  \n",
       "3          3160         25        29  \n",
       "4          4794         30        34  \n",
       "\n",
       "[5 rows x 26 columns]"
      ]
     },
     "execution_count": 62,
     "metadata": {},
     "output_type": "execute_result"
    }
   ],
   "source": [
    "# inner join transaction & customer table\n",
    "tc_df = trans_data.merge(cust_data,on='consumer_id')\n",
    "tc_df.head()"
   ]
  },
  {
   "cell_type": "code",
   "execution_count": 63,
   "metadata": {},
   "outputs": [
    {
     "data": {
      "text/html": [
       "<div>\n",
       "<style scoped>\n",
       "    .dataframe tbody tr th:only-of-type {\n",
       "        vertical-align: middle;\n",
       "    }\n",
       "\n",
       "    .dataframe tbody tr th {\n",
       "        vertical-align: top;\n",
       "    }\n",
       "\n",
       "    .dataframe thead th {\n",
       "        text-align: right;\n",
       "    }\n",
       "</style>\n",
       "<table border=\"1\" class=\"dataframe\">\n",
       "  <thead>\n",
       "    <tr style=\"text-align: right;\">\n",
       "      <th></th>\n",
       "      <th>country</th>\n",
       "      <th>age_range</th>\n",
       "      <th>gender</th>\n",
       "      <th>profit</th>\n",
       "    </tr>\n",
       "    <tr>\n",
       "      <th>consumer_id</th>\n",
       "      <th></th>\n",
       "      <th></th>\n",
       "      <th></th>\n",
       "      <th></th>\n",
       "    </tr>\n",
       "  </thead>\n",
       "  <tbody>\n",
       "    <tr>\n",
       "      <th>99053019</th>\n",
       "      <td>Italy</td>\n",
       "      <td>35-39</td>\n",
       "      <td>F</td>\n",
       "      <td>4970.0</td>\n",
       "    </tr>\n",
       "    <tr>\n",
       "      <th>30119399</th>\n",
       "      <td>USA</td>\n",
       "      <td>35-39</td>\n",
       "      <td>F</td>\n",
       "      <td>4779.0</td>\n",
       "    </tr>\n",
       "    <tr>\n",
       "      <th>48012919</th>\n",
       "      <td>Italy</td>\n",
       "      <td>25-29</td>\n",
       "      <td>F</td>\n",
       "      <td>3836.0</td>\n",
       "    </tr>\n",
       "    <tr>\n",
       "      <th>13992019</th>\n",
       "      <td>Italy</td>\n",
       "      <td>35-39</td>\n",
       "      <td>F</td>\n",
       "      <td>2807.0</td>\n",
       "    </tr>\n",
       "    <tr>\n",
       "      <th>13139919</th>\n",
       "      <td>Italy</td>\n",
       "      <td>30-34</td>\n",
       "      <td>F</td>\n",
       "      <td>2801.0</td>\n",
       "    </tr>\n",
       "    <tr>\n",
       "      <th>12790167</th>\n",
       "      <td>Austria</td>\n",
       "      <td>18-24</td>\n",
       "      <td>F</td>\n",
       "      <td>2501.0</td>\n",
       "    </tr>\n",
       "    <tr>\n",
       "      <th>62034819</th>\n",
       "      <td>Italy</td>\n",
       "      <td>30-34</td>\n",
       "      <td>F</td>\n",
       "      <td>2415.0</td>\n",
       "    </tr>\n",
       "    <tr>\n",
       "      <th>30119769</th>\n",
       "      <td>Austria</td>\n",
       "      <td>18-24</td>\n",
       "      <td>F</td>\n",
       "      <td>2317.0</td>\n",
       "    </tr>\n",
       "    <tr>\n",
       "      <th>30119379</th>\n",
       "      <td>Hungary</td>\n",
       "      <td>30-34</td>\n",
       "      <td>F</td>\n",
       "      <td>2211.0</td>\n",
       "    </tr>\n",
       "    <tr>\n",
       "      <th>30119649</th>\n",
       "      <td>Greece</td>\n",
       "      <td>30-34</td>\n",
       "      <td>F</td>\n",
       "      <td>2118.0</td>\n",
       "    </tr>\n",
       "  </tbody>\n",
       "</table>\n",
       "</div>"
      ],
      "text/plain": [
       "             country age_range gender  profit\n",
       "consumer_id                                  \n",
       "99053019       Italy     35-39      F  4970.0\n",
       "30119399         USA     35-39      F  4779.0\n",
       "48012919       Italy     25-29      F  3836.0\n",
       "13992019       Italy     35-39      F  2807.0\n",
       "13139919       Italy     30-34      F  2801.0\n",
       "12790167     Austria     18-24      F  2501.0\n",
       "62034819       Italy     30-34      F  2415.0\n",
       "30119769     Austria     18-24      F  2317.0\n",
       "30119379     Hungary     30-34      F  2211.0\n",
       "30119649      Greece     30-34      F  2118.0"
      ]
     },
     "execution_count": 63,
     "metadata": {},
     "output_type": "execute_result"
    }
   ],
   "source": [
    "# top 10 customer by profit with associated demographics profile\n",
    "cu_df = tc_df.groupby(by=['consumer_id','country','age_range','gender']).profit.sum().sort_values(ascending=False)\n",
    "cu_df = cu_df.reset_index(level=[\"country\", \"age_range\", \"gender\"])\n",
    "cu_df.head(10)"
   ]
  },
  {
   "cell_type": "code",
   "execution_count": 64,
   "metadata": {},
   "outputs": [
    {
     "data": {
      "text/html": [
       "<div>\n",
       "<style scoped>\n",
       "    .dataframe tbody tr th:only-of-type {\n",
       "        vertical-align: middle;\n",
       "    }\n",
       "\n",
       "    .dataframe tbody tr th {\n",
       "        vertical-align: top;\n",
       "    }\n",
       "\n",
       "    .dataframe thead th {\n",
       "        text-align: right;\n",
       "    }\n",
       "</style>\n",
       "<table border=\"1\" class=\"dataframe\">\n",
       "  <thead>\n",
       "    <tr style=\"text-align: right;\">\n",
       "      <th></th>\n",
       "      <th>profit</th>\n",
       "    </tr>\n",
       "    <tr>\n",
       "      <th>country</th>\n",
       "      <th></th>\n",
       "    </tr>\n",
       "  </thead>\n",
       "  <tbody>\n",
       "    <tr>\n",
       "      <th>Italy</th>\n",
       "      <td>612520.0</td>\n",
       "    </tr>\n",
       "    <tr>\n",
       "      <th>Saudi Arabia</th>\n",
       "      <td>35596.0</td>\n",
       "    </tr>\n",
       "    <tr>\n",
       "      <th>Germany</th>\n",
       "      <td>20806.0</td>\n",
       "    </tr>\n",
       "    <tr>\n",
       "      <th>Austria</th>\n",
       "      <td>18799.0</td>\n",
       "    </tr>\n",
       "    <tr>\n",
       "      <th>Spain</th>\n",
       "      <td>18181.0</td>\n",
       "    </tr>\n",
       "    <tr>\n",
       "      <th>Hungary</th>\n",
       "      <td>17078.0</td>\n",
       "    </tr>\n",
       "    <tr>\n",
       "      <th>Greece</th>\n",
       "      <td>15399.0</td>\n",
       "    </tr>\n",
       "    <tr>\n",
       "      <th>USA</th>\n",
       "      <td>15044.0</td>\n",
       "    </tr>\n",
       "    <tr>\n",
       "      <th>Czech Republic</th>\n",
       "      <td>13744.0</td>\n",
       "    </tr>\n",
       "    <tr>\n",
       "      <th>France</th>\n",
       "      <td>10198.0</td>\n",
       "    </tr>\n",
       "  </tbody>\n",
       "</table>\n",
       "</div>"
      ],
      "text/plain": [
       "                  profit\n",
       "country                 \n",
       "Italy           612520.0\n",
       "Saudi Arabia     35596.0\n",
       "Germany          20806.0\n",
       "Austria          18799.0\n",
       "Spain            18181.0\n",
       "Hungary          17078.0\n",
       "Greece           15399.0\n",
       "USA              15044.0\n",
       "Czech Republic   13744.0\n",
       "France           10198.0"
      ]
     },
     "execution_count": 64,
     "metadata": {},
     "output_type": "execute_result"
    }
   ],
   "source": [
    "# top 10 countries by profit\n",
    "x = tc_df.groupby(by='country').profit.sum().sort_values(ascending=False).values\n",
    "y = tc_df.groupby(by='country').profit.sum().sort_values(ascending=False).keys()\n",
    "c_df =pd.DataFrame(x,columns=['profit'],index=y)\n",
    "\n",
    "c_df.nlargest(10,'profit')"
   ]
  },
  {
   "cell_type": "code",
   "execution_count": 65,
   "metadata": {},
   "outputs": [
    {
     "data": {
      "text/html": [
       "<div>\n",
       "<style scoped>\n",
       "    .dataframe tbody tr th:only-of-type {\n",
       "        vertical-align: middle;\n",
       "    }\n",
       "\n",
       "    .dataframe tbody tr th {\n",
       "        vertical-align: top;\n",
       "    }\n",
       "\n",
       "    .dataframe thead th {\n",
       "        text-align: right;\n",
       "    }\n",
       "</style>\n",
       "<table border=\"1\" class=\"dataframe\">\n",
       "  <thead>\n",
       "    <tr style=\"text-align: right;\">\n",
       "      <th></th>\n",
       "      <th>profit</th>\n",
       "    </tr>\n",
       "    <tr>\n",
       "      <th>age_range</th>\n",
       "      <th></th>\n",
       "    </tr>\n",
       "  </thead>\n",
       "  <tbody>\n",
       "    <tr>\n",
       "      <th>18-24</th>\n",
       "      <td>307121.0</td>\n",
       "    </tr>\n",
       "    <tr>\n",
       "      <th>25-29</th>\n",
       "      <td>144794.0</td>\n",
       "    </tr>\n",
       "    <tr>\n",
       "      <th>30-34</th>\n",
       "      <td>141539.0</td>\n",
       "    </tr>\n",
       "  </tbody>\n",
       "</table>\n",
       "</div>"
      ],
      "text/plain": [
       "             profit\n",
       "age_range          \n",
       "18-24      307121.0\n",
       "25-29      144794.0\n",
       "30-34      141539.0"
      ]
     },
     "execution_count": 65,
     "metadata": {},
     "output_type": "execute_result"
    }
   ],
   "source": [
    "# top 3 age group by profit\n",
    "x = tc_df.groupby(by='age_range').profit.sum().sort_values(ascending=False).values\n",
    "y = tc_df.groupby(by='age_range').profit.sum().sort_values(ascending=False).keys()\n",
    "a_df =pd.DataFrame(x,columns=['profit'],index=y)\n",
    "\n",
    "a_df.nlargest(3,'profit')"
   ]
  },
  {
   "cell_type": "code",
   "execution_count": 66,
   "metadata": {},
   "outputs": [
    {
     "data": {
      "text/plain": [
       "'2019-12-02'"
      ]
     },
     "execution_count": 66,
     "metadata": {},
     "output_type": "execute_result"
    }
   ],
   "source": [
    "# find year period over 365 days\n",
    "year_before = (date(2020,12,1)-timedelta(days=365)).isoformat()\n",
    "year_before"
   ]
  },
  {
   "cell_type": "code",
   "execution_count": 73,
   "metadata": {},
   "outputs": [
    {
     "data": {
      "text/plain": [
       "3.7244258872651357"
      ]
     },
     "execution_count": 73,
     "metadata": {},
     "output_type": "execute_result"
    }
   ],
   "source": [
    "# Time Between Purchases (TBP) customers over the year\n",
    "tc_df[tc_df.period>year_before].average_time_between_purchases.mean()"
   ]
  },
  {
   "cell_type": "code",
   "execution_count": 74,
   "metadata": {},
   "outputs": [
    {
     "data": {
      "text/plain": [
       "1.6419844502036283"
      ]
     },
     "execution_count": 74,
     "metadata": {},
     "output_type": "execute_result"
    }
   ],
   "source": [
    "# Purchase Frequency (PF) per customer over the year\n",
    "tc_df[tc_df.period>year_before].num_of_orders.sum()/tc_df.consumer_id.nunique()"
   ]
  },
  {
   "cell_type": "code",
   "execution_count": 75,
   "metadata": {},
   "outputs": [
    {
     "data": {
      "text/plain": [
       "0.23361717882265828"
      ]
     },
     "execution_count": 75,
     "metadata": {},
     "output_type": "execute_result"
    }
   ],
   "source": [
    "# Repeat Purchase Rate (RPR) - percentage of customer purchased more than once over the year\n",
    "tc_df[tc_df.period>year_before].new_repeaters.sum()/tc_df.consumer_id.nunique()"
   ]
  },
  {
   "cell_type": "code",
   "execution_count": 104,
   "metadata": {},
   "outputs": [
    {
     "data": {
      "text/plain": [
       "0.23361717882265828"
      ]
     },
     "execution_count": 104,
     "metadata": {},
     "output_type": "execute_result"
    }
   ],
   "source": [
    "# returning customer ratio\n",
    "len(tc_df[(tc_df.period>year_before) & (tc_df['new_repeaters']==1)])/tc_df.consumer_id.nunique()"
   ]
  },
  {
   "cell_type": "code",
   "execution_count": null,
   "metadata": {},
   "outputs": [],
   "source": []
  }
 ],
 "metadata": {
  "kernelspec": {
   "display_name": "Python 3.8.1 64-bit",
   "language": "python",
   "name": "python38164bit2c1687f2b73645c4a6a3d2d9ac2c947f"
  },
  "language_info": {
   "codemirror_mode": {
    "name": "ipython",
    "version": 3
   },
   "file_extension": ".py",
   "mimetype": "text/x-python",
   "name": "python",
   "nbconvert_exporter": "python",
   "pygments_lexer": "ipython3",
   "version": "3.8.5"
  }
 },
 "nbformat": 4,
 "nbformat_minor": 4
}
