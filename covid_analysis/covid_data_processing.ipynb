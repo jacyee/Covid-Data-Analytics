{
 "cells": [
  {
   "cell_type": "code",
   "execution_count": 6,
   "metadata": {},
   "outputs": [],
   "source": [
    "import pyodbc\n",
    "import requests\n",
    "from bs4 import BeautifulSoup as bs\n",
    "import pandas as pd\n",
    "import json"
   ]
  },
  {
   "cell_type": "code",
   "execution_count": 7,
   "metadata": {},
   "outputs": [],
   "source": [
    "r = requests.get(\"https://github.com/owid/covid-19-data/tree/master/public/data\",allow_redirects=True)\n",
    "r = r.content"
   ]
  },
  {
   "cell_type": "code",
   "execution_count": 8,
   "metadata": {},
   "outputs": [],
   "source": [
    "# create soup object\n",
    "soup = bs(r,\"html.parser\")"
   ]
  },
  {
   "cell_type": "code",
   "execution_count": 9,
   "metadata": {},
   "outputs": [],
   "source": [
    "# export html doc to file stored\n",
    "with open('response.html','wb') as file:\n",
    "    file.write(soup.prettify('utf-8'))"
   ]
  },
  {
   "cell_type": "code",
   "execution_count": 10,
   "metadata": {
    "scrolled": true
   },
   "outputs": [],
   "source": [
    "# search & navigate html tree to extract data\n",
    "links = soup.find_all('a',class_=\"js-navigation-open Link--primary\",title='owid-covid-data.csv')"
   ]
  },
  {
   "cell_type": "code",
   "execution_count": 11,
   "metadata": {},
   "outputs": [
    {
     "data": {
      "text/plain": [
       "'owid-covid-data.csv'"
      ]
     },
     "execution_count": 11,
     "metadata": {},
     "output_type": "execute_result"
    }
   ],
   "source": [
    "#extract text\n",
    "link = soup.find('a',class_=\"js-navigation-open Link--primary\",title='owid-covid-data.csv')\n",
    "link.text"
   ]
  },
  {
   "cell_type": "code",
   "execution_count": 12,
   "metadata": {},
   "outputs": [],
   "source": [
    "base_url = 'https://raw.githubusercontent.com'"
   ]
  },
  {
   "cell_type": "code",
   "execution_count": 13,
   "metadata": {},
   "outputs": [
    {
     "name": "stdout",
     "output_type": "stream",
     "text": [
      "https://raw.githubusercontent.com/owid/covid-19-data/blob/master/public/data/owid-covid-data.csv\n"
     ]
    }
   ],
   "source": [
    "# extract data from html tree to get attribute value of href file link\n",
    "for i in links:\n",
    "    r_url = repr(i.get('href'))\n",
    "    url_1 = base_url.strip(\"'\")+r_url.strip(\"'\")\n",
    "    url = url_1.strip('/blob')\n",
    "    print(url)"
   ]
  },
  {
   "cell_type": "code",
   "execution_count": 14,
   "metadata": {},
   "outputs": [
    {
     "data": {
      "text/plain": [
       "200"
      ]
     },
     "execution_count": 14,
     "metadata": {},
     "output_type": "execute_result"
    }
   ],
   "source": [
    "response= requests.get(\"https://raw.githubusercontent.com/owid/covid-19-data/master/public/data/owid-covid-data.csv\")\n",
    "response.status_code"
   ]
  },
  {
   "cell_type": "code",
   "execution_count": 15,
   "metadata": {},
   "outputs": [
    {
     "data": {
      "text/plain": [
       "42053571"
      ]
     },
     "execution_count": 15,
     "metadata": {},
     "output_type": "execute_result"
    }
   ],
   "source": [
    "open(url.rsplit('/', 1)[1], 'wb').write(response.content)"
   ]
  },
  {
   "cell_type": "code",
   "execution_count": 16,
   "metadata": {},
   "outputs": [
    {
     "data": {
      "text/plain": [
       "'owid-covid-data.csv'"
      ]
     },
     "execution_count": 16,
     "metadata": {},
     "output_type": "execute_result"
    }
   ],
   "source": [
    "url.rsplit('/', 1)[1]"
   ]
  },
  {
   "cell_type": "code",
   "execution_count": 17,
   "metadata": {},
   "outputs": [],
   "source": [
    "# r = json.loads(response.content)"
   ]
  },
  {
   "cell_type": "code",
   "execution_count": 18,
   "metadata": {},
   "outputs": [],
   "source": [
    "# covid_data=pd.DataFrame.from_dict(r,orient='index')\n",
    "# covid_data.head()"
   ]
  },
  {
   "cell_type": "code",
   "execution_count": 19,
   "metadata": {},
   "outputs": [],
   "source": [
    "covid_data = pd.read_csv('owid-covid-data.csv')"
   ]
  },
  {
   "cell_type": "code",
   "execution_count": 20,
   "metadata": {},
   "outputs": [
    {
     "data": {
      "text/plain": [
       "Index(['iso_code', 'continent', 'location', 'date', 'total_cases', 'new_cases',\n",
       "       'new_cases_smoothed', 'total_deaths', 'new_deaths',\n",
       "       'new_deaths_smoothed', 'total_cases_per_million',\n",
       "       'new_cases_per_million', 'new_cases_smoothed_per_million',\n",
       "       'total_deaths_per_million', 'new_deaths_per_million',\n",
       "       'new_deaths_smoothed_per_million', 'reproduction_rate', 'icu_patients',\n",
       "       'icu_patients_per_million', 'hosp_patients',\n",
       "       'hosp_patients_per_million', 'weekly_icu_admissions',\n",
       "       'weekly_icu_admissions_per_million', 'weekly_hosp_admissions',\n",
       "       'weekly_hosp_admissions_per_million', 'new_tests', 'total_tests',\n",
       "       'total_tests_per_thousand', 'new_tests_per_thousand',\n",
       "       'new_tests_smoothed', 'new_tests_smoothed_per_thousand',\n",
       "       'positive_rate', 'tests_per_case', 'tests_units', 'total_vaccinations',\n",
       "       'people_vaccinated', 'people_fully_vaccinated', 'total_boosters',\n",
       "       'new_vaccinations', 'new_vaccinations_smoothed',\n",
       "       'total_vaccinations_per_hundred', 'people_vaccinated_per_hundred',\n",
       "       'people_fully_vaccinated_per_hundred', 'total_boosters_per_hundred',\n",
       "       'new_vaccinations_smoothed_per_million',\n",
       "       'new_people_vaccinated_smoothed',\n",
       "       'new_people_vaccinated_smoothed_per_hundred', 'stringency_index',\n",
       "       'population', 'population_density', 'median_age', 'aged_65_older',\n",
       "       'aged_70_older', 'gdp_per_capita', 'extreme_poverty',\n",
       "       'cardiovasc_death_rate', 'diabetes_prevalence', 'female_smokers',\n",
       "       'male_smokers', 'handwashing_facilities', 'hospital_beds_per_thousand',\n",
       "       'life_expectancy', 'human_development_index',\n",
       "       'excess_mortality_cumulative_absolute', 'excess_mortality_cumulative',\n",
       "       'excess_mortality', 'excess_mortality_cumulative_per_million'],\n",
       "      dtype='object')"
      ]
     },
     "execution_count": 20,
     "metadata": {},
     "output_type": "execute_result"
    }
   ],
   "source": [
    "covid_data.columns"
   ]
  },
  {
   "cell_type": "code",
   "execution_count": 21,
   "metadata": {},
   "outputs": [
    {
     "data": {
      "text/html": [
       "<div>\n",
       "<style scoped>\n",
       "    .dataframe tbody tr th:only-of-type {\n",
       "        vertical-align: middle;\n",
       "    }\n",
       "\n",
       "    .dataframe tbody tr th {\n",
       "        vertical-align: top;\n",
       "    }\n",
       "\n",
       "    .dataframe thead th {\n",
       "        text-align: right;\n",
       "    }\n",
       "</style>\n",
       "<table border=\"1\" class=\"dataframe\">\n",
       "  <thead>\n",
       "    <tr style=\"text-align: right;\">\n",
       "      <th></th>\n",
       "      <th>iso_code</th>\n",
       "      <th>continent</th>\n",
       "      <th>location</th>\n",
       "      <th>date</th>\n",
       "      <th>total_cases</th>\n",
       "      <th>new_cases</th>\n",
       "      <th>new_cases_smoothed</th>\n",
       "      <th>total_deaths</th>\n",
       "      <th>new_deaths</th>\n",
       "      <th>new_deaths_smoothed</th>\n",
       "      <th>total_cases_per_million</th>\n",
       "      <th>new_cases_per_million</th>\n",
       "      <th>new_cases_smoothed_per_million</th>\n",
       "      <th>total_deaths_per_million</th>\n",
       "      <th>new_deaths_per_million</th>\n",
       "      <th>new_deaths_smoothed_per_million</th>\n",
       "    </tr>\n",
       "  </thead>\n",
       "  <tbody>\n",
       "    <tr>\n",
       "      <th>0</th>\n",
       "      <td>AFG</td>\n",
       "      <td>Asia</td>\n",
       "      <td>Afghanistan</td>\n",
       "      <td>2020-02-24</td>\n",
       "      <td>5.0</td>\n",
       "      <td>5.0</td>\n",
       "      <td>0.0</td>\n",
       "      <td>0.0</td>\n",
       "      <td>0.0</td>\n",
       "      <td>0.0</td>\n",
       "      <td>0.126</td>\n",
       "      <td>0.126</td>\n",
       "      <td>0.0</td>\n",
       "      <td>0.0</td>\n",
       "      <td>0.0</td>\n",
       "      <td>0.0</td>\n",
       "    </tr>\n",
       "    <tr>\n",
       "      <th>1</th>\n",
       "      <td>AFG</td>\n",
       "      <td>Asia</td>\n",
       "      <td>Afghanistan</td>\n",
       "      <td>2020-02-25</td>\n",
       "      <td>5.0</td>\n",
       "      <td>0.0</td>\n",
       "      <td>0.0</td>\n",
       "      <td>0.0</td>\n",
       "      <td>0.0</td>\n",
       "      <td>0.0</td>\n",
       "      <td>0.126</td>\n",
       "      <td>0.000</td>\n",
       "      <td>0.0</td>\n",
       "      <td>0.0</td>\n",
       "      <td>0.0</td>\n",
       "      <td>0.0</td>\n",
       "    </tr>\n",
       "    <tr>\n",
       "      <th>2</th>\n",
       "      <td>AFG</td>\n",
       "      <td>Asia</td>\n",
       "      <td>Afghanistan</td>\n",
       "      <td>2020-02-26</td>\n",
       "      <td>5.0</td>\n",
       "      <td>0.0</td>\n",
       "      <td>0.0</td>\n",
       "      <td>0.0</td>\n",
       "      <td>0.0</td>\n",
       "      <td>0.0</td>\n",
       "      <td>0.126</td>\n",
       "      <td>0.000</td>\n",
       "      <td>0.0</td>\n",
       "      <td>0.0</td>\n",
       "      <td>0.0</td>\n",
       "      <td>0.0</td>\n",
       "    </tr>\n",
       "    <tr>\n",
       "      <th>3</th>\n",
       "      <td>AFG</td>\n",
       "      <td>Asia</td>\n",
       "      <td>Afghanistan</td>\n",
       "      <td>2020-02-27</td>\n",
       "      <td>5.0</td>\n",
       "      <td>0.0</td>\n",
       "      <td>0.0</td>\n",
       "      <td>0.0</td>\n",
       "      <td>0.0</td>\n",
       "      <td>0.0</td>\n",
       "      <td>0.126</td>\n",
       "      <td>0.000</td>\n",
       "      <td>0.0</td>\n",
       "      <td>0.0</td>\n",
       "      <td>0.0</td>\n",
       "      <td>0.0</td>\n",
       "    </tr>\n",
       "    <tr>\n",
       "      <th>4</th>\n",
       "      <td>AFG</td>\n",
       "      <td>Asia</td>\n",
       "      <td>Afghanistan</td>\n",
       "      <td>2020-02-28</td>\n",
       "      <td>5.0</td>\n",
       "      <td>0.0</td>\n",
       "      <td>0.0</td>\n",
       "      <td>0.0</td>\n",
       "      <td>0.0</td>\n",
       "      <td>0.0</td>\n",
       "      <td>0.126</td>\n",
       "      <td>0.000</td>\n",
       "      <td>0.0</td>\n",
       "      <td>0.0</td>\n",
       "      <td>0.0</td>\n",
       "      <td>0.0</td>\n",
       "    </tr>\n",
       "  </tbody>\n",
       "</table>\n",
       "</div>"
      ],
      "text/plain": [
       "  iso_code continent     location        date  total_cases  new_cases  \\\n",
       "0      AFG      Asia  Afghanistan  2020-02-24          5.0        5.0   \n",
       "1      AFG      Asia  Afghanistan  2020-02-25          5.0        0.0   \n",
       "2      AFG      Asia  Afghanistan  2020-02-26          5.0        0.0   \n",
       "3      AFG      Asia  Afghanistan  2020-02-27          5.0        0.0   \n",
       "4      AFG      Asia  Afghanistan  2020-02-28          5.0        0.0   \n",
       "\n",
       "   new_cases_smoothed  total_deaths  new_deaths  new_deaths_smoothed  \\\n",
       "0                 0.0           0.0         0.0                  0.0   \n",
       "1                 0.0           0.0         0.0                  0.0   \n",
       "2                 0.0           0.0         0.0                  0.0   \n",
       "3                 0.0           0.0         0.0                  0.0   \n",
       "4                 0.0           0.0         0.0                  0.0   \n",
       "\n",
       "   total_cases_per_million  new_cases_per_million  \\\n",
       "0                    0.126                  0.126   \n",
       "1                    0.126                  0.000   \n",
       "2                    0.126                  0.000   \n",
       "3                    0.126                  0.000   \n",
       "4                    0.126                  0.000   \n",
       "\n",
       "   new_cases_smoothed_per_million  total_deaths_per_million  \\\n",
       "0                             0.0                       0.0   \n",
       "1                             0.0                       0.0   \n",
       "2                             0.0                       0.0   \n",
       "3                             0.0                       0.0   \n",
       "4                             0.0                       0.0   \n",
       "\n",
       "   new_deaths_per_million  new_deaths_smoothed_per_million  \n",
       "0                     0.0                              0.0  \n",
       "1                     0.0                              0.0  \n",
       "2                     0.0                              0.0  \n",
       "3                     0.0                              0.0  \n",
       "4                     0.0                              0.0  "
      ]
     },
     "execution_count": 21,
     "metadata": {},
     "output_type": "execute_result"
    }
   ],
   "source": [
    "covid_death = covid_data[['iso_code', 'continent', 'location', 'date', 'total_cases', 'new_cases',\n",
    "       'new_cases_smoothed', 'total_deaths', 'new_deaths',\n",
    "       'new_deaths_smoothed', 'total_cases_per_million',\n",
    "       'new_cases_per_million', 'new_cases_smoothed_per_million',\n",
    "       'total_deaths_per_million', 'new_deaths_per_million',\n",
    "       'new_deaths_smoothed_per_million']]\n",
    "covid_death = covid_death.fillna(value=0)\n",
    "covid_death.head()"
   ]
  },
  {
   "cell_type": "code",
   "execution_count": 22,
   "metadata": {},
   "outputs": [
    {
     "data": {
      "text/html": [
       "<div>\n",
       "<style scoped>\n",
       "    .dataframe tbody tr th:only-of-type {\n",
       "        vertical-align: middle;\n",
       "    }\n",
       "\n",
       "    .dataframe tbody tr th {\n",
       "        vertical-align: top;\n",
       "    }\n",
       "\n",
       "    .dataframe thead th {\n",
       "        text-align: right;\n",
       "    }\n",
       "</style>\n",
       "<table border=\"1\" class=\"dataframe\">\n",
       "  <thead>\n",
       "    <tr style=\"text-align: right;\">\n",
       "      <th></th>\n",
       "      <th>iso_code</th>\n",
       "      <th>continent</th>\n",
       "      <th>location</th>\n",
       "      <th>date</th>\n",
       "      <th>total_vaccinations</th>\n",
       "      <th>people_vaccinated</th>\n",
       "      <th>people_fully_vaccinated</th>\n",
       "      <th>total_boosters</th>\n",
       "      <th>new_vaccinations</th>\n",
       "      <th>new_vaccinations_smoothed</th>\n",
       "      <th>total_vaccinations_per_hundred</th>\n",
       "      <th>people_vaccinated_per_hundred</th>\n",
       "      <th>people_fully_vaccinated_per_hundred</th>\n",
       "      <th>total_boosters_per_hundred</th>\n",
       "      <th>new_vaccinations_smoothed_per_million</th>\n",
       "      <th>new_people_vaccinated_smoothed</th>\n",
       "      <th>new_people_vaccinated_smoothed_per_hundred</th>\n",
       "    </tr>\n",
       "  </thead>\n",
       "  <tbody>\n",
       "    <tr>\n",
       "      <th>149879</th>\n",
       "      <td>ZWE</td>\n",
       "      <td>Africa</td>\n",
       "      <td>Zimbabwe</td>\n",
       "      <td>2021-12-25</td>\n",
       "      <td>0.0</td>\n",
       "      <td>0.0</td>\n",
       "      <td>0.0</td>\n",
       "      <td>0.0</td>\n",
       "      <td>0.0</td>\n",
       "      <td>0.0</td>\n",
       "      <td>0.00</td>\n",
       "      <td>0.00</td>\n",
       "      <td>0.00</td>\n",
       "      <td>0.0</td>\n",
       "      <td>0.0</td>\n",
       "      <td>0.0</td>\n",
       "      <td>0.000</td>\n",
       "    </tr>\n",
       "    <tr>\n",
       "      <th>149878</th>\n",
       "      <td>ZWE</td>\n",
       "      <td>Africa</td>\n",
       "      <td>Zimbabwe</td>\n",
       "      <td>2021-12-24</td>\n",
       "      <td>7200776.0</td>\n",
       "      <td>4095685.0</td>\n",
       "      <td>3105091.0</td>\n",
       "      <td>0.0</td>\n",
       "      <td>12648.0</td>\n",
       "      <td>15484.0</td>\n",
       "      <td>47.71</td>\n",
       "      <td>27.14</td>\n",
       "      <td>20.57</td>\n",
       "      <td>0.0</td>\n",
       "      <td>1026.0</td>\n",
       "      <td>8135.0</td>\n",
       "      <td>0.054</td>\n",
       "    </tr>\n",
       "    <tr>\n",
       "      <th>149877</th>\n",
       "      <td>ZWE</td>\n",
       "      <td>Africa</td>\n",
       "      <td>Zimbabwe</td>\n",
       "      <td>2021-12-23</td>\n",
       "      <td>7188128.0</td>\n",
       "      <td>4089315.0</td>\n",
       "      <td>3098813.0</td>\n",
       "      <td>0.0</td>\n",
       "      <td>20518.0</td>\n",
       "      <td>18522.0</td>\n",
       "      <td>47.63</td>\n",
       "      <td>27.10</td>\n",
       "      <td>20.53</td>\n",
       "      <td>0.0</td>\n",
       "      <td>1227.0</td>\n",
       "      <td>9432.0</td>\n",
       "      <td>0.062</td>\n",
       "    </tr>\n",
       "    <tr>\n",
       "      <th>149876</th>\n",
       "      <td>ZWE</td>\n",
       "      <td>Africa</td>\n",
       "      <td>Zimbabwe</td>\n",
       "      <td>2021-12-22</td>\n",
       "      <td>7167610.0</td>\n",
       "      <td>4078945.0</td>\n",
       "      <td>3088665.0</td>\n",
       "      <td>0.0</td>\n",
       "      <td>15664.0</td>\n",
       "      <td>22030.0</td>\n",
       "      <td>47.49</td>\n",
       "      <td>27.03</td>\n",
       "      <td>20.47</td>\n",
       "      <td>0.0</td>\n",
       "      <td>1460.0</td>\n",
       "      <td>11275.0</td>\n",
       "      <td>0.075</td>\n",
       "    </tr>\n",
       "    <tr>\n",
       "      <th>149875</th>\n",
       "      <td>ZWE</td>\n",
       "      <td>Africa</td>\n",
       "      <td>Zimbabwe</td>\n",
       "      <td>2021-12-21</td>\n",
       "      <td>7151946.0</td>\n",
       "      <td>4069302.0</td>\n",
       "      <td>3082644.0</td>\n",
       "      <td>0.0</td>\n",
       "      <td>16933.0</td>\n",
       "      <td>24507.0</td>\n",
       "      <td>47.39</td>\n",
       "      <td>26.96</td>\n",
       "      <td>20.43</td>\n",
       "      <td>0.0</td>\n",
       "      <td>1624.0</td>\n",
       "      <td>12505.0</td>\n",
       "      <td>0.083</td>\n",
       "    </tr>\n",
       "  </tbody>\n",
       "</table>\n",
       "</div>"
      ],
      "text/plain": [
       "       iso_code continent  location        date  total_vaccinations  \\\n",
       "149879      ZWE    Africa  Zimbabwe  2021-12-25                 0.0   \n",
       "149878      ZWE    Africa  Zimbabwe  2021-12-24           7200776.0   \n",
       "149877      ZWE    Africa  Zimbabwe  2021-12-23           7188128.0   \n",
       "149876      ZWE    Africa  Zimbabwe  2021-12-22           7167610.0   \n",
       "149875      ZWE    Africa  Zimbabwe  2021-12-21           7151946.0   \n",
       "\n",
       "        people_vaccinated  people_fully_vaccinated  total_boosters  \\\n",
       "149879                0.0                      0.0             0.0   \n",
       "149878          4095685.0                3105091.0             0.0   \n",
       "149877          4089315.0                3098813.0             0.0   \n",
       "149876          4078945.0                3088665.0             0.0   \n",
       "149875          4069302.0                3082644.0             0.0   \n",
       "\n",
       "        new_vaccinations  new_vaccinations_smoothed  \\\n",
       "149879               0.0                        0.0   \n",
       "149878           12648.0                    15484.0   \n",
       "149877           20518.0                    18522.0   \n",
       "149876           15664.0                    22030.0   \n",
       "149875           16933.0                    24507.0   \n",
       "\n",
       "        total_vaccinations_per_hundred  people_vaccinated_per_hundred  \\\n",
       "149879                            0.00                           0.00   \n",
       "149878                           47.71                          27.14   \n",
       "149877                           47.63                          27.10   \n",
       "149876                           47.49                          27.03   \n",
       "149875                           47.39                          26.96   \n",
       "\n",
       "        people_fully_vaccinated_per_hundred  total_boosters_per_hundred  \\\n",
       "149879                                 0.00                         0.0   \n",
       "149878                                20.57                         0.0   \n",
       "149877                                20.53                         0.0   \n",
       "149876                                20.47                         0.0   \n",
       "149875                                20.43                         0.0   \n",
       "\n",
       "        new_vaccinations_smoothed_per_million  new_people_vaccinated_smoothed  \\\n",
       "149879                                    0.0                             0.0   \n",
       "149878                                 1026.0                          8135.0   \n",
       "149877                                 1227.0                          9432.0   \n",
       "149876                                 1460.0                         11275.0   \n",
       "149875                                 1624.0                         12505.0   \n",
       "\n",
       "        new_people_vaccinated_smoothed_per_hundred  \n",
       "149879                                       0.000  \n",
       "149878                                       0.054  \n",
       "149877                                       0.062  \n",
       "149876                                       0.075  \n",
       "149875                                       0.083  "
      ]
     },
     "execution_count": 22,
     "metadata": {},
     "output_type": "execute_result"
    }
   ],
   "source": [
    "covid_vaccination = covid_data[['iso_code', 'continent', 'location', 'date','total_vaccinations',\n",
    "       'people_vaccinated', 'people_fully_vaccinated', 'total_boosters',\n",
    "       'new_vaccinations', 'new_vaccinations_smoothed',\n",
    "       'total_vaccinations_per_hundred', 'people_vaccinated_per_hundred',\n",
    "       'people_fully_vaccinated_per_hundred', 'total_boosters_per_hundred',\n",
    "       'new_vaccinations_smoothed_per_million',\n",
    "       'new_people_vaccinated_smoothed',\n",
    "       'new_people_vaccinated_smoothed_per_hundred']]\n",
    "covid_vaccination = covid_vaccination.fillna(value=0)\n",
    "covid_vaccination.tail().sort_values(by='date', ascending=False)"
   ]
  },
  {
   "cell_type": "code",
   "execution_count": 23,
   "metadata": {},
   "outputs": [],
   "source": [
    "connection = pyodbc.connect('Driver={SQL Server};'\n",
    "                      'Server=LAPTOP-E28526DD\\SQLEXPRESS;'\n",
    "                      'Database=coviddata;'\n",
    "                      'Trusted_Connection=yes;')"
   ]
  },
  {
   "cell_type": "code",
   "execution_count": 24,
   "metadata": {},
   "outputs": [],
   "source": [
    "cursor = connection.cursor()"
   ]
  },
  {
   "cell_type": "code",
   "execution_count": null,
   "metadata": {},
   "outputs": [],
   "source": [
    "# cursor.execute(\"DROP TABLE IF EXISTS [covid_death$];\")\n",
    "# cursor.execute(\"DROP TABLE IF EXISTS [covid_vaccination$];\")"
   ]
  },
  {
   "cell_type": "code",
   "execution_count": null,
   "metadata": {},
   "outputs": [],
   "source": [
    "# cursor.execute(\"\"\"\n",
    "#   CREATE TABLE covid_death (\n",
    "#     id serial PRIMARY KEY,\n",
    "#     description VARCHAR NOT NULL\n",
    "#   );\n",
    "# \"\"\")"
   ]
  },
  {
   "cell_type": "code",
   "execution_count": null,
   "metadata": {},
   "outputs": [],
   "source": [
    "# initial data load\n",
    "for index, row in covid_death.iterrows():\n",
    "    cursor.execute(\"INSERT INTO [coviddata].[dbo].[covid_death$]\\\n",
    "                   (iso_code, continent, location, date, total_cases, new_cases,new_cases_smoothed, total_deaths, new_deaths\\\n",
    "                   ,new_deaths_smoothed, total_cases_per_million,new_cases_per_million, new_cases_smoothed_per_million\\\n",
    "                   ,total_deaths_per_million, new_deaths_per_million,new_deaths_smoothed_per_million) \\\n",
    "                   values(?,?,?,?,?,?,?,?,?,?,?,?,?,?,?,?)\" \\\n",
    "                   ,row.iso_code, row.continent, row.location, row.date, row.total_cases \\\n",
    "                   ,row.new_cases,row.new_cases_smoothed, row.total_deaths \\\n",
    "                   ,row.new_deaths,row.new_deaths_smoothed, row.total_cases_per_million \\\n",
    "                   ,row.new_cases_per_million, row.new_cases_smoothed_per_million,row.total_deaths_per_million \\\n",
    "                   ,row.new_deaths_per_million,row.new_deaths_smoothed_per_million)\n",
    "connection.commit()"
   ]
  },
  {
   "cell_type": "code",
   "execution_count": null,
   "metadata": {},
   "outputs": [],
   "source": [
    "# initial data load\n",
    "for index, row in covid_vaccination.iterrows():\n",
    "    cursor.execute(\"INSERT INTO [coviddata].[dbo].[covid_vaccination$] \\\n",
    "    (iso_code, continent, location, date,total_vaccinations,people_vaccinated, people_fully_vaccinated \\\n",
    "                   , total_boosters,new_vaccinations, new_vaccinations_smoothed,total_vaccinations_per_hundred \\\n",
    "                   , people_vaccinated_per_hundred,people_fully_vaccinated_per_hundred, total_boosters_per_hundred \\\n",
    "                   , new_vaccinations_smoothed_per_million,new_people_vaccinated_smoothed \\\n",
    "                   , new_people_vaccinated_smoothed_per_hundred) \\\n",
    "                   values(?,?,?,?,?,?,?,?,?,?,?,?,?,?,?,?,?)\" \\\n",
    "                   , row.iso_code, row.continent, row.location, row.date  \\\n",
    "                   , row.total_vaccinations,row.people_vaccinated, row.people_fully_vaccinated  \\\n",
    "                   , row.total_boosters,row.new_vaccinations, row.new_vaccinations_smoothed \\\n",
    "                   ,row.total_vaccinations_per_hundred, row.people_vaccinated_per_hundred \\\n",
    "                   ,row.people_fully_vaccinated_per_hundred, row.total_boosters_per_hundred \\\n",
    "                   , row.new_vaccinations_smoothed_per_million,row.new_people_vaccinated_smoothed \\\n",
    "                   , row.new_people_vaccinated_smoothed_per_hundred)\n",
    "connection.commit()"
   ]
  },
  {
   "cell_type": "code",
   "execution_count": 21,
   "metadata": {},
   "outputs": [
    {
     "data": {
      "text/plain": [
       "<pyodbc.Cursor at 0x1d450337130>"
      ]
     },
     "execution_count": 21,
     "metadata": {},
     "output_type": "execute_result"
    }
   ],
   "source": [
    "## truncate temp table\n",
    "\n",
    "cursor.execute(\"drop table if exists [coviddata].[dbo].[covid_death_t$]\")\n",
    "cursor.execute(\"drop table if exists [coviddata].[dbo].[covid_vaccination_t$]\")"
   ]
  },
  {
   "cell_type": "code",
   "execution_count": null,
   "metadata": {},
   "outputs": [],
   "source": [
    "#create temp table\n",
    "\n",
    "for index, row in covid_death.iterrows():\n",
    "    cursor.execute(\"select * into ##covid_death_t from ?\",covid_death)\n",
    "\n",
    "connection.commit()"
   ]
  },
  {
   "cell_type": "code",
   "execution_count": null,
   "metadata": {},
   "outputs": [],
   "source": [
    "#create temp table\n",
    "\n",
    "for index, row in covid_vaccination.iterrows():\n",
    "    cursor.execute(\"select * into ##covid_vaccination_t from ?\",covid_vaccination)\n",
    "\n",
    "connection.commit()"
   ]
  },
  {
   "cell_type": "code",
   "execution_count": null,
   "metadata": {},
   "outputs": [],
   "source": []
  },
  {
   "cell_type": "code",
   "execution_count": null,
   "metadata": {},
   "outputs": [],
   "source": [
    "## for coming iterations of updating change, insert difference\n",
    "cursor.execute(\n",
    "\"insert into [coviddata].[dbo].[covid_death$](iso_code, continent, location, date \\\n",
    "    , total_cases, new_cases,new_cases_smoothed, total_deaths, new_deaths \\\n",
    "    ,new_deaths_smoothed, total_cases_per_million,new_cases_per_million \\\n",
    "    , new_cases_smoothed_per_million,total_deaths_per_million, new_deaths_per_million,new_deaths_smoothed_per_million) \\\n",
    "(select * from [coviddata].[dbo].[covid_death$] as a \\\n",
    "except \\\n",
    "select * from ##[coviddata].[dbo].[covid_death_t$] as b) \\\n",
    ")\"\n",
    ")\n",
    "\n",
    "cursor.execute(\n",
    "\"insert into [coviddata].[dbo].[covid_vaccination$](iso_code, continent \\\n",
    ", location, date, total_cases, new_cases,new_cases_smoothed \\\n",
    ", total_deaths, new_deaths,new_deaths_smoothed, total_cases_per_million  \\\n",
    ",new_cases_per_million, new_cases_smoothed_per_million,total_deaths_per_million  \\\n",
    ", new_deaths_per_million,new_deaths_smoothed_per_million) \\\n",
    "(select * from [coviddata].[dbo].[covid_vaccination$] as a  \\\n",
    "except \\\n",
    "select * from ##[coviddata].[dbo].[covid_vaccination_t$] as b) \\\n",
    ")\"\n",
    ")"
   ]
  },
  {
   "cell_type": "code",
   "execution_count": null,
   "metadata": {},
   "outputs": [],
   "source": [
    "cursor.execute('SELECT top 5 * FROM [coviddata].[dbo].[covid_vaccination$]')"
   ]
  },
  {
   "cell_type": "code",
   "execution_count": null,
   "metadata": {},
   "outputs": [],
   "source": [
    "result = cursor.fetchall() # retrieve previous statement\n",
    "print(result)"
   ]
  },
  {
   "cell_type": "code",
   "execution_count": null,
   "metadata": {},
   "outputs": [],
   "source": [
    "connection.close()\n",
    "cursor.close()"
   ]
  },
  {
   "cell_type": "code",
   "execution_count": null,
   "metadata": {},
   "outputs": [],
   "source": []
  }
 ],
 "metadata": {
  "kernelspec": {
   "display_name": "Python 3.8.1 64-bit",
   "language": "python",
   "name": "python38164bit2c1687f2b73645c4a6a3d2d9ac2c947f"
  },
  "language_info": {
   "codemirror_mode": {
    "name": "ipython",
    "version": 3
   },
   "file_extension": ".py",
   "mimetype": "text/x-python",
   "name": "python",
   "nbconvert_exporter": "python",
   "pygments_lexer": "ipython3",
   "version": "3.8.5"
  }
 },
 "nbformat": 4,
 "nbformat_minor": 4
}
