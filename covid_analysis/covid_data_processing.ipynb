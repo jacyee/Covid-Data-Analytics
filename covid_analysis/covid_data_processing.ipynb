{
 "cells": [
  {
   "cell_type": "code",
   "execution_count": null,
   "metadata": {},
   "outputs": [],
   "source": [
    "import pyodbc\n",
    "import requests\n",
    "from bs4 import BeautifulSoup as bs\n",
    "import pandas as pd\n",
    "import json"
   ]
  },
  {
   "cell_type": "code",
   "execution_count": null,
   "metadata": {},
   "outputs": [],
   "source": [
    "r = requests.get(\"https://github.com/owid/covid-19-data/tree/master/public/data\",allow_redirects=True)\n",
    "r = r.content"
   ]
  },
  {
   "cell_type": "code",
   "execution_count": null,
   "metadata": {},
   "outputs": [],
   "source": [
    "# create soup object\n",
    "soup = bs(r,\"html.parser\")"
   ]
  },
  {
   "cell_type": "code",
   "execution_count": null,
   "metadata": {},
   "outputs": [],
   "source": [
    "# export html doc to file stored\n",
    "with open('response.html','wb') as file:\n",
    "    file.write(soup.prettify('utf-8'))"
   ]
  },
  {
   "cell_type": "code",
   "execution_count": null,
   "metadata": {
    "scrolled": true
   },
   "outputs": [],
   "source": [
    "# search & navigate html tree to extract data\n",
    "links = soup.find_all('a',class_=\"js-navigation-open Link--primary\",title='owid-covid-data.csv')"
   ]
  },
  {
   "cell_type": "code",
   "execution_count": null,
   "metadata": {},
   "outputs": [],
   "source": [
    "#extract text\n",
    "link = soup.find('a',class_=\"js-navigation-open Link--primary\",title='owid-covid-data.csv')\n",
    "link.text"
   ]
  },
  {
   "cell_type": "code",
   "execution_count": null,
   "metadata": {},
   "outputs": [],
   "source": [
    "base_url = 'https://raw.githubusercontent.com'"
   ]
  },
  {
   "cell_type": "code",
   "execution_count": null,
   "metadata": {},
   "outputs": [],
   "source": [
    "# extract data from html tree to get attribute value of href file link\n",
    "for i in links:\n",
    "    r_url = repr(i.get('href'))\n",
    "    url_1 = base_url.strip(\"'\")+r_url.strip(\"'\")\n",
    "    url = url_1.strip('/blob')\n",
    "    print(url)"
   ]
  },
  {
   "cell_type": "code",
   "execution_count": null,
   "metadata": {},
   "outputs": [],
   "source": [
    "response= requests.get(\"https://raw.githubusercontent.com/owid/covid-19-data/master/public/data/owid-covid-data.csv\")\n",
    "response.status_code"
   ]
  },
  {
   "cell_type": "code",
   "execution_count": null,
   "metadata": {},
   "outputs": [],
   "source": [
    "open(url.rsplit('/', 1)[1], 'wb').write(response.content)"
   ]
  },
  {
   "cell_type": "code",
   "execution_count": null,
   "metadata": {},
   "outputs": [],
   "source": [
    "url.rsplit('/', 1)[1]"
   ]
  },
  {
   "cell_type": "code",
   "execution_count": null,
   "metadata": {},
   "outputs": [],
   "source": [
    "# r = json.loads(response.content)"
   ]
  },
  {
   "cell_type": "code",
   "execution_count": null,
   "metadata": {},
   "outputs": [],
   "source": [
    "# covid_data=pd.DataFrame.from_dict(r,orient='index')\n",
    "# covid_data.head()"
   ]
  },
  {
   "cell_type": "code",
   "execution_count": null,
   "metadata": {},
   "outputs": [],
   "source": [
    "covid_data = pd.read_csv('owid-covid-data.csv')"
   ]
  },
  {
   "cell_type": "code",
   "execution_count": null,
   "metadata": {},
   "outputs": [],
   "source": [
    "covid_data.columns"
   ]
  },
  {
   "cell_type": "code",
   "execution_count": null,
   "metadata": {},
   "outputs": [],
   "source": [
    "covid_death = covid_data[['iso_code', 'continent', 'location', 'date', 'total_cases', 'new_cases',\n",
    "       'new_cases_smoothed', 'total_deaths', 'new_deaths',\n",
    "       'new_deaths_smoothed', 'total_cases_per_million',\n",
    "       'new_cases_per_million', 'new_cases_smoothed_per_million',\n",
    "       'total_deaths_per_million', 'new_deaths_per_million',\n",
    "       'new_deaths_smoothed_per_million']]\n",
    "covid_death = covid_death.fillna(value=0)\n",
    "covid_death.head()"
   ]
  },
  {
   "cell_type": "code",
   "execution_count": null,
   "metadata": {},
   "outputs": [],
   "source": [
    "covid_vaccination = covid_data[['iso_code', 'continent', 'location', 'date','total_vaccinations',\n",
    "       'people_vaccinated', 'people_fully_vaccinated', 'total_boosters',\n",
    "       'new_vaccinations', 'new_vaccinations_smoothed',\n",
    "       'total_vaccinations_per_hundred', 'people_vaccinated_per_hundred',\n",
    "       'people_fully_vaccinated_per_hundred', 'total_boosters_per_hundred',\n",
    "       'new_vaccinations_smoothed_per_million',\n",
    "       'new_people_vaccinated_smoothed',\n",
    "       'new_people_vaccinated_smoothed_per_hundred']]\n",
    "covid_vaccination = covid_vaccination.fillna(value=0)\n",
    "covid_vaccination.tail().sort_values(by='date', ascending=False)"
   ]
  },
  {
   "cell_type": "code",
   "execution_count": null,
   "metadata": {},
   "outputs": [],
   "source": [
    "connection = pyodbc.connect('Driver={SQL Server};'\n",
    "                      'Server=LAPTOP-E28526DD\\SQLEXPRESS;'\n",
    "                      'Database=coviddata;'\n",
    "                      'Trusted_Connection=yes;')"
   ]
  },
  {
   "cell_type": "code",
   "execution_count": null,
   "metadata": {},
   "outputs": [],
   "source": [
    "cursor = connection.cursor()"
   ]
  },
  {
   "cell_type": "code",
   "execution_count": null,
   "metadata": {},
   "outputs": [],
   "source": [
    "# cursor.execute(\"DROP TABLE IF EXISTS [covid_death$];\")\n",
    "# cursor.execute(\"DROP TABLE IF EXISTS [covid_vaccination$];\")"
   ]
  },
  {
   "cell_type": "code",
   "execution_count": null,
   "metadata": {},
   "outputs": [],
   "source": [
    "# cursor.execute(\"\"\"\n",
    "#   CREATE TABLE covid_death (\n",
    "#     id serial PRIMARY KEY,\n",
    "#     description VARCHAR NOT NULL\n",
    "#   );\n",
    "# \"\"\")"
   ]
  },
  {
   "cell_type": "code",
   "execution_count": null,
   "metadata": {},
   "outputs": [],
   "source": [
    "# initial data load\n",
    "for index, row in covid_death.iterrows():\n",
    "    cursor.execute(\"INSERT INTO [coviddata].[dbo].[covid_death$]\\\n",
    "                   (iso_code, continent, location, date, total_cases, new_cases,new_cases_smoothed, total_deaths, new_deaths\\\n",
    "                   ,new_deaths_smoothed, total_cases_per_million,new_cases_per_million, new_cases_smoothed_per_million\\\n",
    "                   ,total_deaths_per_million, new_deaths_per_million,new_deaths_smoothed_per_million) \\\n",
    "                   values(?,?,?,?,?,?,?,?,?,?,?,?,?,?,?,?)\" \\\n",
    "                   ,row.iso_code, row.continent, row.location, row.date, row.total_cases \\\n",
    "                   ,row.new_cases,row.new_cases_smoothed, row.total_deaths \\\n",
    "                   ,row.new_deaths,row.new_deaths_smoothed, row.total_cases_per_million \\\n",
    "                   ,row.new_cases_per_million, row.new_cases_smoothed_per_million,row.total_deaths_per_million \\\n",
    "                   ,row.new_deaths_per_million,row.new_deaths_smoothed_per_million)\n",
    "connection.commit()"
   ]
  },
  {
   "cell_type": "code",
   "execution_count": null,
   "metadata": {},
   "outputs": [],
   "source": [
    "# initial data load\n",
    "for index, row in covid_vaccination.iterrows():\n",
    "    cursor.execute(\"INSERT INTO [coviddata].[dbo].[covid_vaccination$] \\\n",
    "    (iso_code, continent, location, date,total_vaccinations,people_vaccinated, people_fully_vaccinated \\\n",
    "                   , total_boosters,new_vaccinations, new_vaccinations_smoothed,total_vaccinations_per_hundred \\\n",
    "                   , people_vaccinated_per_hundred,people_fully_vaccinated_per_hundred, total_boosters_per_hundred \\\n",
    "                   , new_vaccinations_smoothed_per_million,new_people_vaccinated_smoothed \\\n",
    "                   , new_people_vaccinated_smoothed_per_hundred) \\\n",
    "                   values(?,?,?,?,?,?,?,?,?,?,?,?,?,?,?,?,?)\" \\\n",
    "                   , row.iso_code, row.continent, row.location, row.date  \\\n",
    "                   , row.total_vaccinations,row.people_vaccinated, row.people_fully_vaccinated  \\\n",
    "                   , row.total_boosters,row.new_vaccinations, row.new_vaccinations_smoothed \\\n",
    "                   ,row.total_vaccinations_per_hundred, row.people_vaccinated_per_hundred \\\n",
    "                   ,row.people_fully_vaccinated_per_hundred, row.total_boosters_per_hundred \\\n",
    "                   , row.new_vaccinations_smoothed_per_million,row.new_people_vaccinated_smoothed \\\n",
    "                   , row.new_people_vaccinated_smoothed_per_hundred)\n",
    "connection.commit()"
   ]
  },
  {
   "cell_type": "code",
   "execution_count": null,
   "metadata": {},
   "outputs": [],
   "source": [
    "## truncate & create temp table\n",
    "\n",
    "cursor.execute(\"truncate table [coviddata].[dbo].[covid_death_t$]\")\n",
    "\n",
    "for index, row in covid_death.iterrows():\n",
    "    cursor.execute(\"\n",
    "               select iso_code, continent, location, date, total_cases, new_cases,new_cases_smoothed, total_deaths, new_deaths \\\n",
    "                   ,new_deaths_smoothed, total_cases_per_million,new_cases_per_million, new_cases_smoothed_per_million \\\n",
    "                   ,total_deaths_per_million, new_deaths_per_million,new_deaths_smoothed_per_million \\\n",
    "                into #[coviddata].[dbo].[covid_death_t$] \n",
    "                from covid_death\n",
    "               \")\n",
    "connection.commit()"
   ]
  },
  {
   "cell_type": "code",
   "execution_count": null,
   "metadata": {},
   "outputs": [],
   "source": [
    "## truncate & create temp table\n",
    "\n",
    "cursor.execute(\"truncate table [coviddata].[dbo].[covid_vaccination_t$]\")\n",
    "\n",
    "for index, row in covid_vaccination.iterrows():\n",
    "    cursor.execute(\"\n",
    "               select iso_code, continent, location, date,total_vaccinations,people_vaccinated\n",
    "               , people_fully_vaccinated, total_boosters,new_vaccinations, new_vaccinations_smoothed\n",
    "               ,total_vaccinations_per_hundred, people_vaccinated_per_hundred\n",
    "               ,people_fully_vaccinated_per_hundred, total_boosters_per_hundred\n",
    "               , new_vaccinations_smoothed_per_million,new_people_vaccinated_smoothed\n",
    "               , new_people_vaccinated_smoothed_per_hundred\n",
    "    into #[coviddata].[dbo].[covid_vaccination_t$]\n",
    "    from covid_vaccination\n",
    "               \")\n",
    "connection.commit()"
   ]
  },
  {
   "cell_type": "code",
   "execution_count": null,
   "metadata": {},
   "outputs": [],
   "source": [
    "## for coming iterations of updating change, insert difference\n",
    "cursor.execute(\n",
    "\"insert into [coviddata].[dbo].[covid_death$](iso_code, continent, location, date \\\n",
    "    , total_cases, new_cases,new_cases_smoothed, total_deaths, new_deaths \\\n",
    "    ,new_deaths_smoothed, total_cases_per_million,new_cases_per_million \\\n",
    "    , new_cases_smoothed_per_million,total_deaths_per_million, new_deaths_per_million,new_deaths_smoothed_per_million) \\\n",
    "(select * from [coviddata].[dbo].[covid_death$] as a \\\n",
    "except \\\n",
    "select * from [coviddata].[dbo].[covid_death_t$] as b) \\\n",
    ")\"\n",
    ")\n",
    "\n",
    "cursor.execute(\n",
    "\"insert into [coviddata].[dbo].[covid_vaccination$](iso_code, continent \\\n",
    ", location, date, total_cases, new_cases,new_cases_smoothed \\\n",
    ", total_deaths, new_deaths,new_deaths_smoothed, total_cases_per_million  \\\n",
    ",new_cases_per_million, new_cases_smoothed_per_million,total_deaths_per_million  \\\n",
    ", new_deaths_per_million,new_deaths_smoothed_per_million) \\\n",
    "(select * from [coviddata].[dbo].[covid_vaccination$] as a  \\\n",
    "except \\\n",
    "select * from [coviddata].[dbo].[covid_vaccination_t$] as b) \\\n",
    ")\"\n",
    ")"
   ]
  },
  {
   "cell_type": "code",
   "execution_count": null,
   "metadata": {},
   "outputs": [],
   "source": []
  },
  {
   "cell_type": "code",
   "execution_count": null,
   "metadata": {},
   "outputs": [],
   "source": [
    "cursor.execute('SELECT top 5 * FROM [coviddata].[dbo].[covid_vaccination$]')"
   ]
  },
  {
   "cell_type": "code",
   "execution_count": null,
   "metadata": {},
   "outputs": [],
   "source": [
    "result = cursor.fetchall() # retrieve previous statement\n",
    "print(result)"
   ]
  },
  {
   "cell_type": "code",
   "execution_count": null,
   "metadata": {},
   "outputs": [],
   "source": [
    "connection.close()\n",
    "cursor.close()"
   ]
  },
  {
   "cell_type": "code",
   "execution_count": null,
   "metadata": {},
   "outputs": [],
   "source": []
  }
 ],
 "metadata": {
  "kernelspec": {
   "display_name": "Python 3.8.1 64-bit",
   "language": "python",
   "name": "python38164bit2c1687f2b73645c4a6a3d2d9ac2c947f"
  },
  "language_info": {
   "codemirror_mode": {
    "name": "ipython",
    "version": 3
   },
   "file_extension": ".py",
   "mimetype": "text/x-python",
   "name": "python",
   "nbconvert_exporter": "python",
   "pygments_lexer": "ipython3",
   "version": "3.8.5"
  }
 },
 "nbformat": 4,
 "nbformat_minor": 4
}
