{
 "cells": [
  {
   "cell_type": "code",
   "execution_count": 1,
   "metadata": {},
   "outputs": [],
   "source": [
    "import pyodbc\n",
    "import requests\n",
    "from bs4 import BeautifulSoup as bs\n",
    "import pandas as pd\n",
    "import json\n",
    "from datetime import date,datetime\n",
    "import numpy as np"
   ]
  },
  {
   "cell_type": "code",
   "execution_count": 2,
   "metadata": {},
   "outputs": [],
   "source": [
    "r = requests.get(\"https://github.com/owid/covid-19-data/tree/master/public/data\",allow_redirects=True)\n",
    "r = r.content"
   ]
  },
  {
   "cell_type": "code",
   "execution_count": 3,
   "metadata": {},
   "outputs": [],
   "source": [
    "# create soup object\n",
    "soup = bs(r,\"html.parser\")"
   ]
  },
  {
   "cell_type": "code",
   "execution_count": 4,
   "metadata": {},
   "outputs": [],
   "source": [
    "# export html doc to file stored\n",
    "with open('response.html','wb') as file:\n",
    "    file.write(soup.prettify('utf-8'))"
   ]
  },
  {
   "cell_type": "code",
   "execution_count": 5,
   "metadata": {
    "scrolled": true
   },
   "outputs": [],
   "source": [
    "# search & navigate html tree to extract data\n",
    "links = soup.find_all('a',class_=\"js-navigation-open Link--primary\",title='owid-covid-data.csv')"
   ]
  },
  {
   "cell_type": "code",
   "execution_count": 6,
   "metadata": {},
   "outputs": [
    {
     "data": {
      "text/plain": [
       "'owid-covid-data.csv'"
      ]
     },
     "execution_count": 6,
     "metadata": {},
     "output_type": "execute_result"
    }
   ],
   "source": [
    "#extract text\n",
    "link = soup.find('a',class_=\"js-navigation-open Link--primary\",title='owid-covid-data.csv')\n",
    "link.text"
   ]
  },
  {
   "cell_type": "code",
   "execution_count": 7,
   "metadata": {},
   "outputs": [],
   "source": [
    "base_url = 'https://raw.githubusercontent.com'"
   ]
  },
  {
   "cell_type": "code",
   "execution_count": 8,
   "metadata": {},
   "outputs": [
    {
     "name": "stdout",
     "output_type": "stream",
     "text": [
      "https://raw.githubusercontent.com/owid/covid-19-data/blob/master/public/data/owid-covid-data.csv\n"
     ]
    }
   ],
   "source": [
    "# extract data from html tree to get attribute value of href file link\n",
    "for i in links:\n",
    "    r_url = repr(i.get('href'))\n",
    "    url_1 = base_url.strip(\"'\")+r_url.strip(\"'\")\n",
    "    url = url_1.strip('/blob')\n",
    "    print(url)"
   ]
  },
  {
   "cell_type": "code",
   "execution_count": 9,
   "metadata": {},
   "outputs": [
    {
     "data": {
      "text/plain": [
       "200"
      ]
     },
     "execution_count": 9,
     "metadata": {},
     "output_type": "execute_result"
    }
   ],
   "source": [
    "response= requests.get(\"https://raw.githubusercontent.com/owid/covid-19-data/master/public/data/owid-covid-data.csv\")\n",
    "response.status_code"
   ]
  },
  {
   "cell_type": "code",
   "execution_count": 10,
   "metadata": {},
   "outputs": [
    {
     "data": {
      "text/plain": [
       "42149365"
      ]
     },
     "execution_count": 10,
     "metadata": {},
     "output_type": "execute_result"
    }
   ],
   "source": [
    "open(url.rsplit('/', 1)[1], 'wb').write(response.content)"
   ]
  },
  {
   "cell_type": "code",
   "execution_count": 11,
   "metadata": {},
   "outputs": [
    {
     "data": {
      "text/plain": [
       "'owid-covid-data.csv'"
      ]
     },
     "execution_count": 11,
     "metadata": {},
     "output_type": "execute_result"
    }
   ],
   "source": [
    "url.rsplit('/', 1)[1]"
   ]
  },
  {
   "cell_type": "code",
   "execution_count": 12,
   "metadata": {},
   "outputs": [],
   "source": [
    "# r = json.loads(response.content)"
   ]
  },
  {
   "cell_type": "code",
   "execution_count": 13,
   "metadata": {},
   "outputs": [],
   "source": [
    "# covid_data=pd.DataFrame.from_dict(r,orient='index')\n",
    "# covid_data.head()"
   ]
  },
  {
   "cell_type": "code",
   "execution_count": 14,
   "metadata": {},
   "outputs": [],
   "source": [
    "covid_data = pd.read_csv('owid-covid-data.csv')"
   ]
  },
  {
   "cell_type": "code",
   "execution_count": 15,
   "metadata": {},
   "outputs": [
    {
     "data": {
      "text/plain": [
       "Index(['iso_code', 'continent', 'location', 'date', 'total_cases', 'new_cases',\n",
       "       'new_cases_smoothed', 'total_deaths', 'new_deaths',\n",
       "       'new_deaths_smoothed', 'total_cases_per_million',\n",
       "       'new_cases_per_million', 'new_cases_smoothed_per_million',\n",
       "       'total_deaths_per_million', 'new_deaths_per_million',\n",
       "       'new_deaths_smoothed_per_million', 'reproduction_rate', 'icu_patients',\n",
       "       'icu_patients_per_million', 'hosp_patients',\n",
       "       'hosp_patients_per_million', 'weekly_icu_admissions',\n",
       "       'weekly_icu_admissions_per_million', 'weekly_hosp_admissions',\n",
       "       'weekly_hosp_admissions_per_million', 'new_tests', 'total_tests',\n",
       "       'total_tests_per_thousand', 'new_tests_per_thousand',\n",
       "       'new_tests_smoothed', 'new_tests_smoothed_per_thousand',\n",
       "       'positive_rate', 'tests_per_case', 'tests_units', 'total_vaccinations',\n",
       "       'people_vaccinated', 'people_fully_vaccinated', 'total_boosters',\n",
       "       'new_vaccinations', 'new_vaccinations_smoothed',\n",
       "       'total_vaccinations_per_hundred', 'people_vaccinated_per_hundred',\n",
       "       'people_fully_vaccinated_per_hundred', 'total_boosters_per_hundred',\n",
       "       'new_vaccinations_smoothed_per_million',\n",
       "       'new_people_vaccinated_smoothed',\n",
       "       'new_people_vaccinated_smoothed_per_hundred', 'stringency_index',\n",
       "       'population', 'population_density', 'median_age', 'aged_65_older',\n",
       "       'aged_70_older', 'gdp_per_capita', 'extreme_poverty',\n",
       "       'cardiovasc_death_rate', 'diabetes_prevalence', 'female_smokers',\n",
       "       'male_smokers', 'handwashing_facilities', 'hospital_beds_per_thousand',\n",
       "       'life_expectancy', 'human_development_index',\n",
       "       'excess_mortality_cumulative_absolute', 'excess_mortality_cumulative',\n",
       "       'excess_mortality', 'excess_mortality_cumulative_per_million'],\n",
       "      dtype='object')"
      ]
     },
     "execution_count": 15,
     "metadata": {},
     "output_type": "execute_result"
    }
   ],
   "source": [
    "covid_data.columns"
   ]
  },
  {
   "cell_type": "code",
   "execution_count": 16,
   "metadata": {},
   "outputs": [
    {
     "data": {
      "text/html": [
       "<div>\n",
       "<style scoped>\n",
       "    .dataframe tbody tr th:only-of-type {\n",
       "        vertical-align: middle;\n",
       "    }\n",
       "\n",
       "    .dataframe tbody tr th {\n",
       "        vertical-align: top;\n",
       "    }\n",
       "\n",
       "    .dataframe thead th {\n",
       "        text-align: right;\n",
       "    }\n",
       "</style>\n",
       "<table border=\"1\" class=\"dataframe\">\n",
       "  <thead>\n",
       "    <tr style=\"text-align: right;\">\n",
       "      <th></th>\n",
       "      <th>iso_code</th>\n",
       "      <th>continent</th>\n",
       "      <th>location</th>\n",
       "      <th>date</th>\n",
       "      <th>total_cases</th>\n",
       "      <th>new_cases</th>\n",
       "      <th>new_cases_smoothed</th>\n",
       "      <th>total_deaths</th>\n",
       "      <th>new_deaths</th>\n",
       "      <th>new_deaths_smoothed</th>\n",
       "      <th>total_cases_per_million</th>\n",
       "      <th>new_cases_per_million</th>\n",
       "      <th>new_cases_smoothed_per_million</th>\n",
       "      <th>total_deaths_per_million</th>\n",
       "      <th>new_deaths_per_million</th>\n",
       "      <th>new_deaths_smoothed_per_million</th>\n",
       "    </tr>\n",
       "  </thead>\n",
       "  <tbody>\n",
       "    <tr>\n",
       "      <th>150394</th>\n",
       "      <td>ZWE</td>\n",
       "      <td>Africa</td>\n",
       "      <td>Zimbabwe</td>\n",
       "      <td>2021-12-27</td>\n",
       "      <td>205449.0</td>\n",
       "      <td>1098.0</td>\n",
       "      <td>1481.429</td>\n",
       "      <td>4908.0</td>\n",
       "      <td>17.0</td>\n",
       "      <td>14.714</td>\n",
       "      <td>13612.952</td>\n",
       "      <td>72.753</td>\n",
       "      <td>98.159</td>\n",
       "      <td>325.202</td>\n",
       "      <td>1.126</td>\n",
       "      <td>0.975</td>\n",
       "    </tr>\n",
       "    <tr>\n",
       "      <th>150393</th>\n",
       "      <td>ZWE</td>\n",
       "      <td>Africa</td>\n",
       "      <td>Zimbabwe</td>\n",
       "      <td>2021-12-26</td>\n",
       "      <td>204351.0</td>\n",
       "      <td>605.0</td>\n",
       "      <td>1811.143</td>\n",
       "      <td>4891.0</td>\n",
       "      <td>6.0</td>\n",
       "      <td>15.571</td>\n",
       "      <td>13540.199</td>\n",
       "      <td>40.087</td>\n",
       "      <td>120.005</td>\n",
       "      <td>324.075</td>\n",
       "      <td>0.398</td>\n",
       "      <td>1.032</td>\n",
       "    </tr>\n",
       "    <tr>\n",
       "      <th>150392</th>\n",
       "      <td>ZWE</td>\n",
       "      <td>Africa</td>\n",
       "      <td>Zimbabwe</td>\n",
       "      <td>2021-12-25</td>\n",
       "      <td>203746.0</td>\n",
       "      <td>1010.0</td>\n",
       "      <td>2025.571</td>\n",
       "      <td>4885.0</td>\n",
       "      <td>14.0</td>\n",
       "      <td>15.143</td>\n",
       "      <td>13500.112</td>\n",
       "      <td>66.922</td>\n",
       "      <td>134.213</td>\n",
       "      <td>323.678</td>\n",
       "      <td>0.928</td>\n",
       "      <td>1.003</td>\n",
       "    </tr>\n",
       "    <tr>\n",
       "      <th>150391</th>\n",
       "      <td>ZWE</td>\n",
       "      <td>Africa</td>\n",
       "      <td>Zimbabwe</td>\n",
       "      <td>2021-12-24</td>\n",
       "      <td>202736.0</td>\n",
       "      <td>1392.0</td>\n",
       "      <td>1881.286</td>\n",
       "      <td>4871.0</td>\n",
       "      <td>16.0</td>\n",
       "      <td>13.143</td>\n",
       "      <td>13433.190</td>\n",
       "      <td>92.233</td>\n",
       "      <td>124.653</td>\n",
       "      <td>322.750</td>\n",
       "      <td>1.060</td>\n",
       "      <td>0.871</td>\n",
       "    </tr>\n",
       "    <tr>\n",
       "      <th>150390</th>\n",
       "      <td>ZWE</td>\n",
       "      <td>Africa</td>\n",
       "      <td>Zimbabwe</td>\n",
       "      <td>2021-12-23</td>\n",
       "      <td>201344.0</td>\n",
       "      <td>1940.0</td>\n",
       "      <td>2755.286</td>\n",
       "      <td>4855.0</td>\n",
       "      <td>27.0</td>\n",
       "      <td>13.714</td>\n",
       "      <td>13340.957</td>\n",
       "      <td>128.543</td>\n",
       "      <td>182.564</td>\n",
       "      <td>321.690</td>\n",
       "      <td>1.789</td>\n",
       "      <td>0.909</td>\n",
       "    </tr>\n",
       "  </tbody>\n",
       "</table>\n",
       "</div>"
      ],
      "text/plain": [
       "       iso_code continent  location        date  total_cases  new_cases  \\\n",
       "150394      ZWE    Africa  Zimbabwe  2021-12-27     205449.0     1098.0   \n",
       "150393      ZWE    Africa  Zimbabwe  2021-12-26     204351.0      605.0   \n",
       "150392      ZWE    Africa  Zimbabwe  2021-12-25     203746.0     1010.0   \n",
       "150391      ZWE    Africa  Zimbabwe  2021-12-24     202736.0     1392.0   \n",
       "150390      ZWE    Africa  Zimbabwe  2021-12-23     201344.0     1940.0   \n",
       "\n",
       "        new_cases_smoothed  total_deaths  new_deaths  new_deaths_smoothed  \\\n",
       "150394            1481.429        4908.0        17.0               14.714   \n",
       "150393            1811.143        4891.0         6.0               15.571   \n",
       "150392            2025.571        4885.0        14.0               15.143   \n",
       "150391            1881.286        4871.0        16.0               13.143   \n",
       "150390            2755.286        4855.0        27.0               13.714   \n",
       "\n",
       "        total_cases_per_million  new_cases_per_million  \\\n",
       "150394                13612.952                 72.753   \n",
       "150393                13540.199                 40.087   \n",
       "150392                13500.112                 66.922   \n",
       "150391                13433.190                 92.233   \n",
       "150390                13340.957                128.543   \n",
       "\n",
       "        new_cases_smoothed_per_million  total_deaths_per_million  \\\n",
       "150394                          98.159                   325.202   \n",
       "150393                         120.005                   324.075   \n",
       "150392                         134.213                   323.678   \n",
       "150391                         124.653                   322.750   \n",
       "150390                         182.564                   321.690   \n",
       "\n",
       "        new_deaths_per_million  new_deaths_smoothed_per_million  \n",
       "150394                   1.126                            0.975  \n",
       "150393                   0.398                            1.032  \n",
       "150392                   0.928                            1.003  \n",
       "150391                   1.060                            0.871  \n",
       "150390                   1.789                            0.909  "
      ]
     },
     "execution_count": 16,
     "metadata": {},
     "output_type": "execute_result"
    }
   ],
   "source": [
    "covid_death = covid_data[['iso_code', 'continent', 'location', 'date', 'total_cases', 'new_cases',\n",
    "       'new_cases_smoothed', 'total_deaths', 'new_deaths',\n",
    "       'new_deaths_smoothed', 'total_cases_per_million',\n",
    "       'new_cases_per_million', 'new_cases_smoothed_per_million',\n",
    "       'total_deaths_per_million', 'new_deaths_per_million',\n",
    "       'new_deaths_smoothed_per_million']]\n",
    "covid_death = covid_death.fillna(value=0)\n",
    "covid_death.tail().sort_values(by='date', ascending=False)"
   ]
  },
  {
   "cell_type": "code",
   "execution_count": 17,
   "metadata": {},
   "outputs": [
    {
     "data": {
      "text/html": [
       "<div>\n",
       "<style scoped>\n",
       "    .dataframe tbody tr th:only-of-type {\n",
       "        vertical-align: middle;\n",
       "    }\n",
       "\n",
       "    .dataframe tbody tr th {\n",
       "        vertical-align: top;\n",
       "    }\n",
       "\n",
       "    .dataframe thead th {\n",
       "        text-align: right;\n",
       "    }\n",
       "</style>\n",
       "<table border=\"1\" class=\"dataframe\">\n",
       "  <thead>\n",
       "    <tr style=\"text-align: right;\">\n",
       "      <th></th>\n",
       "      <th>iso_code</th>\n",
       "      <th>continent</th>\n",
       "      <th>location</th>\n",
       "      <th>date</th>\n",
       "      <th>total_vaccinations</th>\n",
       "      <th>people_vaccinated</th>\n",
       "      <th>people_fully_vaccinated</th>\n",
       "      <th>total_boosters</th>\n",
       "      <th>new_vaccinations</th>\n",
       "      <th>new_vaccinations_smoothed</th>\n",
       "      <th>total_vaccinations_per_hundred</th>\n",
       "      <th>people_vaccinated_per_hundred</th>\n",
       "      <th>people_fully_vaccinated_per_hundred</th>\n",
       "      <th>total_boosters_per_hundred</th>\n",
       "      <th>new_vaccinations_smoothed_per_million</th>\n",
       "      <th>new_people_vaccinated_smoothed</th>\n",
       "      <th>new_people_vaccinated_smoothed_per_hundred</th>\n",
       "    </tr>\n",
       "  </thead>\n",
       "  <tbody>\n",
       "    <tr>\n",
       "      <th>150394</th>\n",
       "      <td>ZWE</td>\n",
       "      <td>Africa</td>\n",
       "      <td>Zimbabwe</td>\n",
       "      <td>2021-12-27</td>\n",
       "      <td>7218438.0</td>\n",
       "      <td>4105296.0</td>\n",
       "      <td>3113142.0</td>\n",
       "      <td>0.0</td>\n",
       "      <td>3798.0</td>\n",
       "      <td>11918.0</td>\n",
       "      <td>47.83</td>\n",
       "      <td>27.20</td>\n",
       "      <td>20.63</td>\n",
       "      <td>0.0</td>\n",
       "      <td>790.0</td>\n",
       "      <td>6425.0</td>\n",
       "      <td>0.043</td>\n",
       "    </tr>\n",
       "    <tr>\n",
       "      <th>150393</th>\n",
       "      <td>ZWE</td>\n",
       "      <td>Africa</td>\n",
       "      <td>Zimbabwe</td>\n",
       "      <td>2021-12-26</td>\n",
       "      <td>7214640.0</td>\n",
       "      <td>4103288.0</td>\n",
       "      <td>3111352.0</td>\n",
       "      <td>0.0</td>\n",
       "      <td>5591.0</td>\n",
       "      <td>12994.0</td>\n",
       "      <td>47.80</td>\n",
       "      <td>27.19</td>\n",
       "      <td>20.62</td>\n",
       "      <td>0.0</td>\n",
       "      <td>861.0</td>\n",
       "      <td>7018.0</td>\n",
       "      <td>0.047</td>\n",
       "    </tr>\n",
       "    <tr>\n",
       "      <th>150392</th>\n",
       "      <td>ZWE</td>\n",
       "      <td>Africa</td>\n",
       "      <td>Zimbabwe</td>\n",
       "      <td>2021-12-25</td>\n",
       "      <td>7209049.0</td>\n",
       "      <td>4100069.0</td>\n",
       "      <td>3108980.0</td>\n",
       "      <td>0.0</td>\n",
       "      <td>8273.0</td>\n",
       "      <td>13872.0</td>\n",
       "      <td>47.77</td>\n",
       "      <td>27.17</td>\n",
       "      <td>20.60</td>\n",
       "      <td>0.0</td>\n",
       "      <td>919.0</td>\n",
       "      <td>7436.0</td>\n",
       "      <td>0.049</td>\n",
       "    </tr>\n",
       "    <tr>\n",
       "      <th>150391</th>\n",
       "      <td>ZWE</td>\n",
       "      <td>Africa</td>\n",
       "      <td>Zimbabwe</td>\n",
       "      <td>2021-12-24</td>\n",
       "      <td>7200776.0</td>\n",
       "      <td>4095685.0</td>\n",
       "      <td>3105091.0</td>\n",
       "      <td>0.0</td>\n",
       "      <td>12648.0</td>\n",
       "      <td>15484.0</td>\n",
       "      <td>47.71</td>\n",
       "      <td>27.14</td>\n",
       "      <td>20.57</td>\n",
       "      <td>0.0</td>\n",
       "      <td>1026.0</td>\n",
       "      <td>8135.0</td>\n",
       "      <td>0.054</td>\n",
       "    </tr>\n",
       "    <tr>\n",
       "      <th>150390</th>\n",
       "      <td>ZWE</td>\n",
       "      <td>Africa</td>\n",
       "      <td>Zimbabwe</td>\n",
       "      <td>2021-12-23</td>\n",
       "      <td>7188128.0</td>\n",
       "      <td>4089315.0</td>\n",
       "      <td>3098813.0</td>\n",
       "      <td>0.0</td>\n",
       "      <td>20518.0</td>\n",
       "      <td>18522.0</td>\n",
       "      <td>47.63</td>\n",
       "      <td>27.10</td>\n",
       "      <td>20.53</td>\n",
       "      <td>0.0</td>\n",
       "      <td>1227.0</td>\n",
       "      <td>9432.0</td>\n",
       "      <td>0.062</td>\n",
       "    </tr>\n",
       "  </tbody>\n",
       "</table>\n",
       "</div>"
      ],
      "text/plain": [
       "       iso_code continent  location        date  total_vaccinations  \\\n",
       "150394      ZWE    Africa  Zimbabwe  2021-12-27           7218438.0   \n",
       "150393      ZWE    Africa  Zimbabwe  2021-12-26           7214640.0   \n",
       "150392      ZWE    Africa  Zimbabwe  2021-12-25           7209049.0   \n",
       "150391      ZWE    Africa  Zimbabwe  2021-12-24           7200776.0   \n",
       "150390      ZWE    Africa  Zimbabwe  2021-12-23           7188128.0   \n",
       "\n",
       "        people_vaccinated  people_fully_vaccinated  total_boosters  \\\n",
       "150394          4105296.0                3113142.0             0.0   \n",
       "150393          4103288.0                3111352.0             0.0   \n",
       "150392          4100069.0                3108980.0             0.0   \n",
       "150391          4095685.0                3105091.0             0.0   \n",
       "150390          4089315.0                3098813.0             0.0   \n",
       "\n",
       "        new_vaccinations  new_vaccinations_smoothed  \\\n",
       "150394            3798.0                    11918.0   \n",
       "150393            5591.0                    12994.0   \n",
       "150392            8273.0                    13872.0   \n",
       "150391           12648.0                    15484.0   \n",
       "150390           20518.0                    18522.0   \n",
       "\n",
       "        total_vaccinations_per_hundred  people_vaccinated_per_hundred  \\\n",
       "150394                           47.83                          27.20   \n",
       "150393                           47.80                          27.19   \n",
       "150392                           47.77                          27.17   \n",
       "150391                           47.71                          27.14   \n",
       "150390                           47.63                          27.10   \n",
       "\n",
       "        people_fully_vaccinated_per_hundred  total_boosters_per_hundred  \\\n",
       "150394                                20.63                         0.0   \n",
       "150393                                20.62                         0.0   \n",
       "150392                                20.60                         0.0   \n",
       "150391                                20.57                         0.0   \n",
       "150390                                20.53                         0.0   \n",
       "\n",
       "        new_vaccinations_smoothed_per_million  new_people_vaccinated_smoothed  \\\n",
       "150394                                  790.0                          6425.0   \n",
       "150393                                  861.0                          7018.0   \n",
       "150392                                  919.0                          7436.0   \n",
       "150391                                 1026.0                          8135.0   \n",
       "150390                                 1227.0                          9432.0   \n",
       "\n",
       "        new_people_vaccinated_smoothed_per_hundred  \n",
       "150394                                       0.043  \n",
       "150393                                       0.047  \n",
       "150392                                       0.049  \n",
       "150391                                       0.054  \n",
       "150390                                       0.062  "
      ]
     },
     "execution_count": 17,
     "metadata": {},
     "output_type": "execute_result"
    }
   ],
   "source": [
    "covid_vaccination = covid_data[['iso_code', 'continent', 'location', 'date','total_vaccinations',\n",
    "       'people_vaccinated', 'people_fully_vaccinated', 'total_boosters',\n",
    "       'new_vaccinations', 'new_vaccinations_smoothed',\n",
    "       'total_vaccinations_per_hundred', 'people_vaccinated_per_hundred',\n",
    "       'people_fully_vaccinated_per_hundred', 'total_boosters_per_hundred',\n",
    "       'new_vaccinations_smoothed_per_million',\n",
    "       'new_people_vaccinated_smoothed',\n",
    "       'new_people_vaccinated_smoothed_per_hundred']]\n",
    "covid_vaccination = covid_vaccination.fillna(value=0)\n",
    "covid_vaccination.tail().sort_values(by='date', ascending=False)"
   ]
  },
  {
   "cell_type": "code",
   "execution_count": 18,
   "metadata": {},
   "outputs": [],
   "source": [
    "connection = pyodbc.connect('Driver={SQL Server};'\n",
    "                      'Server=LAPTOP-E28526DD\\SQLEXPRESS;'\n",
    "                      'Database=coviddata;'\n",
    "                      'Trusted_Connection=yes;')"
   ]
  },
  {
   "cell_type": "code",
   "execution_count": 19,
   "metadata": {},
   "outputs": [],
   "source": [
    "cursor = connection.cursor()"
   ]
  },
  {
   "cell_type": "code",
   "execution_count": null,
   "metadata": {},
   "outputs": [],
   "source": [
    "# cursor.execute(\"DROP TABLE IF EXISTS [covid_death$];\")\n",
    "# cursor.execute(\"DROP TABLE IF EXISTS [covid_vaccination$];\")"
   ]
  },
  {
   "cell_type": "code",
   "execution_count": null,
   "metadata": {},
   "outputs": [],
   "source": [
    "# cursor.execute(\"\"\"\n",
    "#   CREATE TABLE covid_death (\n",
    "#     id serial PRIMARY KEY,\n",
    "#     description VARCHAR NOT NULL\n",
    "#   );\n",
    "# \"\"\")"
   ]
  },
  {
   "cell_type": "code",
   "execution_count": null,
   "metadata": {},
   "outputs": [],
   "source": [
    "# # initial data load\n",
    "# for index, row in covid_death.iterrows():\n",
    "#     cursor.execute(\"INSERT INTO [coviddata].[dbo].[covid_death$]\\\n",
    "#                    (iso_code, continent, location, date, total_cases, new_cases,new_cases_smoothed, total_deaths, new_deaths\\\n",
    "#                    ,new_deaths_smoothed, total_cases_per_million,new_cases_per_million, new_cases_smoothed_per_million\\\n",
    "#                    ,total_deaths_per_million, new_deaths_per_million,new_deaths_smoothed_per_million) \\\n",
    "#                    values(?,?,?,?,?,?,?,?,?,?,?,?,?,?,?,?)\" \\\n",
    "#                    ,row.iso_code, row.continent, row.location, row.date, row.total_cases \\\n",
    "#                    ,row.new_cases,row.new_cases_smoothed, row.total_deaths \\\n",
    "#                    ,row.new_deaths,row.new_deaths_smoothed, row.total_cases_per_million \\\n",
    "#                    ,row.new_cases_per_million, row.new_cases_smoothed_per_million,row.total_deaths_per_million \\\n",
    "#                    ,row.new_deaths_per_million,row.new_deaths_smoothed_per_million)\n",
    "# connection.commit()"
   ]
  },
  {
   "cell_type": "code",
   "execution_count": null,
   "metadata": {},
   "outputs": [],
   "source": [
    "# # initial data load\n",
    "# for index, row in covid_vaccination.iterrows():\n",
    "#     cursor.execute(\"INSERT INTO [coviddata].[dbo].[covid_vaccination$] \\\n",
    "#     (iso_code, continent, location, date,total_vaccinations,people_vaccinated, people_fully_vaccinated \\\n",
    "#                    , total_boosters,new_vaccinations, new_vaccinations_smoothed,total_vaccinations_per_hundred \\\n",
    "#                    , people_vaccinated_per_hundred,people_fully_vaccinated_per_hundred, total_boosters_per_hundred \\\n",
    "#                    , new_vaccinations_smoothed_per_million,new_people_vaccinated_smoothed \\\n",
    "#                    , new_people_vaccinated_smoothed_per_hundred) \\\n",
    "#                    values(?,?,?,?,?,?,?,?,?,?,?,?,?,?,?,?,?)\" \\\n",
    "#                    , row.iso_code, row.continent, row.location, row.date  \\\n",
    "#                    , row.total_vaccinations,row.people_vaccinated, row.people_fully_vaccinated  \\\n",
    "#                    , row.total_boosters,row.new_vaccinations, row.new_vaccinations_smoothed \\\n",
    "#                    ,row.total_vaccinations_per_hundred, row.people_vaccinated_per_hundred \\\n",
    "#                    ,row.people_fully_vaccinated_per_hundred, row.total_boosters_per_hundred \\\n",
    "#                    , row.new_vaccinations_smoothed_per_million,row.new_people_vaccinated_smoothed \\\n",
    "#                    , row.new_people_vaccinated_smoothed_per_hundred)\n",
    "# connection.commit()"
   ]
  },
  {
   "cell_type": "code",
   "execution_count": 20,
   "metadata": {},
   "outputs": [
    {
     "name": "stdout",
     "output_type": "stream",
     "text": [
      "2021-12-24 00:00:00\n"
     ]
    }
   ],
   "source": [
    "# initiate last_update var\n",
    "last_update = datetime.strptime('2021-12-24',\"%Y-%m-%d\")\n",
    "print(last_update)"
   ]
  },
  {
   "cell_type": "code",
   "execution_count": 23,
   "metadata": {},
   "outputs": [],
   "source": [
    "# convert date col to datetime type\n",
    "covid_death.date = covid_death.date.apply(lambda x:datetime.strptime(x,\"%Y-%m-%d\"))\n",
    "covid_vaccination.date = covid_vaccination.date.apply(lambda x:datetime.strptime(x,\"%Y-%m-%d\"))"
   ]
  },
  {
   "cell_type": "code",
   "execution_count": 27,
   "metadata": {},
   "outputs": [],
   "source": [
    "# compare data diff from last update\n",
    "covid_death = covid_death[covid_death.date>last_update]\n",
    "covid_vaccination = covid_vaccination[covid_vaccination.date>last_update]"
   ]
  },
  {
   "cell_type": "code",
   "execution_count": 26,
   "metadata": {},
   "outputs": [],
   "source": [
    "## insert diff from last_update\n",
    "for index, row in covid_death.iterrows():\n",
    "    cursor.execute(\"INSERT INTO [coviddata].[dbo].[covid_death$]\\\n",
    "                   (iso_code, continent, location, date, total_cases, new_cases,new_cases_smoothed, total_deaths, new_deaths\\\n",
    "                   ,new_deaths_smoothed, total_cases_per_million,new_cases_per_million, new_cases_smoothed_per_million\\\n",
    "                   ,total_deaths_per_million, new_deaths_per_million,new_deaths_smoothed_per_million) \\\n",
    "                   values(?,?,?,?,?,?,?,?,?,?,?,?,?,?,?,?)\" \\\n",
    "                   ,row.iso_code, row.continent, row.location, row.date, row.total_cases \\\n",
    "                   ,row.new_cases,row.new_cases_smoothed, row.total_deaths \\\n",
    "                   ,row.new_deaths,row.new_deaths_smoothed, row.total_cases_per_million \\\n",
    "                   ,row.new_cases_per_million, row.new_cases_smoothed_per_million,row.total_deaths_per_million \\\n",
    "                   ,row.new_deaths_per_million,row.new_deaths_smoothed_per_million)\n",
    "\n",
    "connection.commit()"
   ]
  },
  {
   "cell_type": "code",
   "execution_count": 28,
   "metadata": {},
   "outputs": [],
   "source": [
    "for index, row in covid_vaccination.iterrows():\n",
    "    cursor.execute(\"INSERT INTO [coviddata].[dbo].[covid_vaccination$] \\\n",
    "    (iso_code, continent, location, date,total_vaccinations,people_vaccinated, people_fully_vaccinated \\\n",
    "                   , total_boosters,new_vaccinations, new_vaccinations_smoothed,total_vaccinations_per_hundred \\\n",
    "                   , people_vaccinated_per_hundred,people_fully_vaccinated_per_hundred, total_boosters_per_hundred \\\n",
    "                   , new_vaccinations_smoothed_per_million,new_people_vaccinated_smoothed \\\n",
    "                   , new_people_vaccinated_smoothed_per_hundred) \\\n",
    "                   values(?,?,?,?,?,?,?,?,?,?,?,?,?,?,?,?,?)\" \\\n",
    "                   , row.iso_code, row.continent, row.location, row.date  \\\n",
    "                   , row.total_vaccinations,row.people_vaccinated, row.people_fully_vaccinated  \\\n",
    "                   , row.total_boosters,row.new_vaccinations, row.new_vaccinations_smoothed \\\n",
    "                   ,row.total_vaccinations_per_hundred, row.people_vaccinated_per_hundred \\\n",
    "                   ,row.people_fully_vaccinated_per_hundred, row.total_boosters_per_hundred \\\n",
    "                   , row.new_vaccinations_smoothed_per_million,row.new_people_vaccinated_smoothed \\\n",
    "                   , row.new_people_vaccinated_smoothed_per_hundred)\n",
    "connection.commit()"
   ]
  },
  {
   "cell_type": "code",
   "execution_count": 31,
   "metadata": {},
   "outputs": [
    {
     "name": "stdout",
     "output_type": "stream",
     "text": [
      "2021-12-28 19:08:10.873897\n"
     ]
    }
   ],
   "source": [
    "#update last_update\n",
    "last_update = datetime.today()\n",
    "print(last_update)"
   ]
  },
  {
   "cell_type": "code",
   "execution_count": 29,
   "metadata": {},
   "outputs": [
    {
     "data": {
      "text/plain": [
       "<pyodbc.Cursor at 0x2cdf247bbb0>"
      ]
     },
     "execution_count": 29,
     "metadata": {},
     "output_type": "execute_result"
    }
   ],
   "source": [
    "cursor.execute('SELECT top 5 * FROM [coviddata].[dbo].[covid_vaccination$]')"
   ]
  },
  {
   "cell_type": "code",
   "execution_count": 30,
   "metadata": {},
   "outputs": [
    {
     "name": "stdout",
     "output_type": "stream",
     "text": [
      "[('AFG', 'Asia', 'Afghanistan', datetime.datetime(2020, 2, 24, 0, 0), None, None, None, None, None, None, None, None, None, '0', '0', '0', '0', '0', '0', '0', '0', '0', '0', '0', '0', '0', None, None, None, None, None, None, None, None, None, None, None, None, None, None, None, None, None, None, None), ('AFG', 'Asia', 'Afghanistan', datetime.datetime(2020, 2, 25, 0, 0), None, None, None, None, None, None, None, None, None, '0', '0', '0', '0', '0', '0', '0', '0', '0', '0', '0', '0', '0', None, None, None, None, None, None, None, None, None, None, None, None, None, None, None, None, None, None, None), ('AFG', 'Asia', 'Afghanistan', datetime.datetime(2020, 2, 26, 0, 0), None, None, None, None, None, None, None, None, None, '0', '0', '0', '0', '0', '0', '0', '0', '0', '0', '0', '0', '0', None, None, None, None, None, None, None, None, None, None, None, None, None, None, None, None, None, None, None), ('AFG', 'Asia', 'Afghanistan', datetime.datetime(2020, 2, 27, 0, 0), None, None, None, None, None, None, None, None, None, '0', '0', '0', '0', '0', '0', '0', '0', '0', '0', '0', '0', '0', None, None, None, None, None, None, None, None, None, None, None, None, None, None, None, None, None, None, None), ('AFG', 'Asia', 'Afghanistan', datetime.datetime(2020, 2, 28, 0, 0), None, None, None, None, None, None, None, None, None, '0', '0', '0', '0', '0', '0', '0', '0', '0', '0', '0', '0', '0', None, None, None, None, None, None, None, None, None, None, None, None, None, None, None, None, None, None, None)]\n"
     ]
    }
   ],
   "source": [
    "result = cursor.fetchall() # retrieve previous statement\n",
    "print(result)"
   ]
  },
  {
   "cell_type": "code",
   "execution_count": null,
   "metadata": {},
   "outputs": [],
   "source": [
    "connection.close()\n",
    "cursor.close()"
   ]
  },
  {
   "cell_type": "code",
   "execution_count": null,
   "metadata": {},
   "outputs": [],
   "source": []
  }
 ],
 "metadata": {
  "kernelspec": {
   "display_name": "Python 3.8.1 64-bit",
   "language": "python",
   "name": "python38164bit2c1687f2b73645c4a6a3d2d9ac2c947f"
  },
  "language_info": {
   "codemirror_mode": {
    "name": "ipython",
    "version": 3
   },
   "file_extension": ".py",
   "mimetype": "text/x-python",
   "name": "python",
   "nbconvert_exporter": "python",
   "pygments_lexer": "ipython3",
   "version": "3.8.5"
  }
 },
 "nbformat": 4,
 "nbformat_minor": 4
}
