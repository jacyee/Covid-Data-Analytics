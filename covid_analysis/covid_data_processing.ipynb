{
 "cells": [
  {
   "cell_type": "code",
   "execution_count": 1,
   "metadata": {},
   "outputs": [],
   "source": [
    "import pyodbc\n",
    "import requests\n",
    "from bs4 import BeautifulSoup as bs\n",
    "import pandas as pd\n",
    "import json"
   ]
  },
  {
   "cell_type": "code",
   "execution_count": 2,
   "metadata": {},
   "outputs": [],
   "source": [
    "r = requests.get(\"https://github.com/owid/covid-19-data/tree/master/public/data\",allow_redirects=True)\n",
    "r = r.content"
   ]
  },
  {
   "cell_type": "code",
   "execution_count": 3,
   "metadata": {},
   "outputs": [],
   "source": [
    "# create soup object\n",
    "soup = bs(r,\"html.parser\")"
   ]
  },
  {
   "cell_type": "code",
   "execution_count": 4,
   "metadata": {},
   "outputs": [],
   "source": [
    "# export html doc to file stored\n",
    "with open('response.html','wb') as file:\n",
    "    file.write(soup.prettify('utf-8'))"
   ]
  },
  {
   "cell_type": "code",
   "execution_count": 5,
   "metadata": {
    "scrolled": true
   },
   "outputs": [],
   "source": [
    "# search & navigate html tree to extract data\n",
    "links = soup.find_all('a',class_=\"js-navigation-open Link--primary\",title='owid-covid-data.csv')"
   ]
  },
  {
   "cell_type": "code",
   "execution_count": 6,
   "metadata": {},
   "outputs": [
    {
     "data": {
      "text/plain": [
       "'owid-covid-data.csv'"
      ]
     },
     "execution_count": 6,
     "metadata": {},
     "output_type": "execute_result"
    }
   ],
   "source": [
    "#extract text\n",
    "link = soup.find('a',class_=\"js-navigation-open Link--primary\",title='owid-covid-data.csv')\n",
    "link.text"
   ]
  },
  {
   "cell_type": "code",
   "execution_count": 7,
   "metadata": {},
   "outputs": [],
   "source": [
    "base_url = 'https://raw.githubusercontent.com'"
   ]
  },
  {
   "cell_type": "code",
   "execution_count": 8,
   "metadata": {},
   "outputs": [
    {
     "name": "stdout",
     "output_type": "stream",
     "text": [
      "https://raw.githubusercontent.com/owid/covid-19-data/blob/master/public/data/owid-covid-data.csv\n"
     ]
    }
   ],
   "source": [
    "# extract data from html tree to get attribute value of href file link\n",
    "for i in links:\n",
    "    r_url = repr(i.get('href'))\n",
    "    url_1 = base_url.strip(\"'\")+r_url.strip(\"'\")\n",
    "    url = url_1.strip('/blob')\n",
    "    print(url)"
   ]
  },
  {
   "cell_type": "code",
   "execution_count": 9,
   "metadata": {},
   "outputs": [
    {
     "data": {
      "text/plain": [
       "200"
      ]
     },
     "execution_count": 9,
     "metadata": {},
     "output_type": "execute_result"
    }
   ],
   "source": [
    "response= requests.get(\"https://raw.githubusercontent.com/owid/covid-19-data/master/public/data/owid-covid-data.csv\")\n",
    "response.status_code"
   ]
  },
  {
   "cell_type": "code",
   "execution_count": 10,
   "metadata": {},
   "outputs": [
    {
     "data": {
      "text/plain": [
       "41582136"
      ]
     },
     "execution_count": 10,
     "metadata": {},
     "output_type": "execute_result"
    }
   ],
   "source": [
    "open(url.rsplit('/', 1)[1], 'wb').write(response.content)"
   ]
  },
  {
   "cell_type": "code",
   "execution_count": 11,
   "metadata": {},
   "outputs": [
    {
     "data": {
      "text/plain": [
       "'owid-covid-data.csv'"
      ]
     },
     "execution_count": 11,
     "metadata": {},
     "output_type": "execute_result"
    }
   ],
   "source": [
    "url.rsplit('/', 1)[1]"
   ]
  },
  {
   "cell_type": "code",
   "execution_count": 12,
   "metadata": {},
   "outputs": [],
   "source": [
    "# r = json.loads(response.content)"
   ]
  },
  {
   "cell_type": "code",
   "execution_count": 13,
   "metadata": {},
   "outputs": [],
   "source": [
    "# covid_data=pd.DataFrame.from_dict(r,orient='index')\n",
    "# covid_data.head()"
   ]
  },
  {
   "cell_type": "code",
   "execution_count": 14,
   "metadata": {},
   "outputs": [],
   "source": [
    "covid_data = pd.read_csv('owid-covid-data.csv')"
   ]
  },
  {
   "cell_type": "code",
   "execution_count": 15,
   "metadata": {},
   "outputs": [
    {
     "data": {
      "text/plain": [
       "Index(['iso_code', 'continent', 'location', 'date', 'total_cases', 'new_cases',\n",
       "       'new_cases_smoothed', 'total_deaths', 'new_deaths',\n",
       "       'new_deaths_smoothed', 'total_cases_per_million',\n",
       "       'new_cases_per_million', 'new_cases_smoothed_per_million',\n",
       "       'total_deaths_per_million', 'new_deaths_per_million',\n",
       "       'new_deaths_smoothed_per_million', 'reproduction_rate', 'icu_patients',\n",
       "       'icu_patients_per_million', 'hosp_patients',\n",
       "       'hosp_patients_per_million', 'weekly_icu_admissions',\n",
       "       'weekly_icu_admissions_per_million', 'weekly_hosp_admissions',\n",
       "       'weekly_hosp_admissions_per_million', 'new_tests', 'total_tests',\n",
       "       'total_tests_per_thousand', 'new_tests_per_thousand',\n",
       "       'new_tests_smoothed', 'new_tests_smoothed_per_thousand',\n",
       "       'positive_rate', 'tests_per_case', 'tests_units', 'total_vaccinations',\n",
       "       'people_vaccinated', 'people_fully_vaccinated', 'total_boosters',\n",
       "       'new_vaccinations', 'new_vaccinations_smoothed',\n",
       "       'total_vaccinations_per_hundred', 'people_vaccinated_per_hundred',\n",
       "       'people_fully_vaccinated_per_hundred', 'total_boosters_per_hundred',\n",
       "       'new_vaccinations_smoothed_per_million',\n",
       "       'new_people_vaccinated_smoothed',\n",
       "       'new_people_vaccinated_smoothed_per_hundred', 'stringency_index',\n",
       "       'population', 'population_density', 'median_age', 'aged_65_older',\n",
       "       'aged_70_older', 'gdp_per_capita', 'extreme_poverty',\n",
       "       'cardiovasc_death_rate', 'diabetes_prevalence', 'female_smokers',\n",
       "       'male_smokers', 'handwashing_facilities', 'hospital_beds_per_thousand',\n",
       "       'life_expectancy', 'human_development_index',\n",
       "       'excess_mortality_cumulative_absolute', 'excess_mortality_cumulative',\n",
       "       'excess_mortality', 'excess_mortality_cumulative_per_million'],\n",
       "      dtype='object')"
      ]
     },
     "execution_count": 15,
     "metadata": {},
     "output_type": "execute_result"
    }
   ],
   "source": [
    "covid_data.columns"
   ]
  },
  {
   "cell_type": "code",
   "execution_count": 16,
   "metadata": {},
   "outputs": [
    {
     "data": {
      "text/html": [
       "<div>\n",
       "<style scoped>\n",
       "    .dataframe tbody tr th:only-of-type {\n",
       "        vertical-align: middle;\n",
       "    }\n",
       "\n",
       "    .dataframe tbody tr th {\n",
       "        vertical-align: top;\n",
       "    }\n",
       "\n",
       "    .dataframe thead th {\n",
       "        text-align: right;\n",
       "    }\n",
       "</style>\n",
       "<table border=\"1\" class=\"dataframe\">\n",
       "  <thead>\n",
       "    <tr style=\"text-align: right;\">\n",
       "      <th></th>\n",
       "      <th>iso_code</th>\n",
       "      <th>continent</th>\n",
       "      <th>location</th>\n",
       "      <th>date</th>\n",
       "      <th>total_cases</th>\n",
       "      <th>new_cases</th>\n",
       "      <th>new_cases_smoothed</th>\n",
       "      <th>total_deaths</th>\n",
       "      <th>new_deaths</th>\n",
       "      <th>new_deaths_smoothed</th>\n",
       "      <th>total_cases_per_million</th>\n",
       "      <th>new_cases_per_million</th>\n",
       "      <th>new_cases_smoothed_per_million</th>\n",
       "      <th>total_deaths_per_million</th>\n",
       "      <th>new_deaths_per_million</th>\n",
       "      <th>new_deaths_smoothed_per_million</th>\n",
       "    </tr>\n",
       "  </thead>\n",
       "  <tbody>\n",
       "    <tr>\n",
       "      <th>0</th>\n",
       "      <td>AFG</td>\n",
       "      <td>Asia</td>\n",
       "      <td>Afghanistan</td>\n",
       "      <td>2020-02-24</td>\n",
       "      <td>5.0</td>\n",
       "      <td>5.0</td>\n",
       "      <td>0.0</td>\n",
       "      <td>0.0</td>\n",
       "      <td>0.0</td>\n",
       "      <td>0.0</td>\n",
       "      <td>0.126</td>\n",
       "      <td>0.126</td>\n",
       "      <td>0.0</td>\n",
       "      <td>0.0</td>\n",
       "      <td>0.0</td>\n",
       "      <td>0.0</td>\n",
       "    </tr>\n",
       "    <tr>\n",
       "      <th>1</th>\n",
       "      <td>AFG</td>\n",
       "      <td>Asia</td>\n",
       "      <td>Afghanistan</td>\n",
       "      <td>2020-02-25</td>\n",
       "      <td>5.0</td>\n",
       "      <td>0.0</td>\n",
       "      <td>0.0</td>\n",
       "      <td>0.0</td>\n",
       "      <td>0.0</td>\n",
       "      <td>0.0</td>\n",
       "      <td>0.126</td>\n",
       "      <td>0.000</td>\n",
       "      <td>0.0</td>\n",
       "      <td>0.0</td>\n",
       "      <td>0.0</td>\n",
       "      <td>0.0</td>\n",
       "    </tr>\n",
       "    <tr>\n",
       "      <th>2</th>\n",
       "      <td>AFG</td>\n",
       "      <td>Asia</td>\n",
       "      <td>Afghanistan</td>\n",
       "      <td>2020-02-26</td>\n",
       "      <td>5.0</td>\n",
       "      <td>0.0</td>\n",
       "      <td>0.0</td>\n",
       "      <td>0.0</td>\n",
       "      <td>0.0</td>\n",
       "      <td>0.0</td>\n",
       "      <td>0.126</td>\n",
       "      <td>0.000</td>\n",
       "      <td>0.0</td>\n",
       "      <td>0.0</td>\n",
       "      <td>0.0</td>\n",
       "      <td>0.0</td>\n",
       "    </tr>\n",
       "    <tr>\n",
       "      <th>3</th>\n",
       "      <td>AFG</td>\n",
       "      <td>Asia</td>\n",
       "      <td>Afghanistan</td>\n",
       "      <td>2020-02-27</td>\n",
       "      <td>5.0</td>\n",
       "      <td>0.0</td>\n",
       "      <td>0.0</td>\n",
       "      <td>0.0</td>\n",
       "      <td>0.0</td>\n",
       "      <td>0.0</td>\n",
       "      <td>0.126</td>\n",
       "      <td>0.000</td>\n",
       "      <td>0.0</td>\n",
       "      <td>0.0</td>\n",
       "      <td>0.0</td>\n",
       "      <td>0.0</td>\n",
       "    </tr>\n",
       "    <tr>\n",
       "      <th>4</th>\n",
       "      <td>AFG</td>\n",
       "      <td>Asia</td>\n",
       "      <td>Afghanistan</td>\n",
       "      <td>2020-02-28</td>\n",
       "      <td>5.0</td>\n",
       "      <td>0.0</td>\n",
       "      <td>0.0</td>\n",
       "      <td>0.0</td>\n",
       "      <td>0.0</td>\n",
       "      <td>0.0</td>\n",
       "      <td>0.126</td>\n",
       "      <td>0.000</td>\n",
       "      <td>0.0</td>\n",
       "      <td>0.0</td>\n",
       "      <td>0.0</td>\n",
       "      <td>0.0</td>\n",
       "    </tr>\n",
       "  </tbody>\n",
       "</table>\n",
       "</div>"
      ],
      "text/plain": [
       "  iso_code continent     location        date  total_cases  new_cases  \\\n",
       "0      AFG      Asia  Afghanistan  2020-02-24          5.0        5.0   \n",
       "1      AFG      Asia  Afghanistan  2020-02-25          5.0        0.0   \n",
       "2      AFG      Asia  Afghanistan  2020-02-26          5.0        0.0   \n",
       "3      AFG      Asia  Afghanistan  2020-02-27          5.0        0.0   \n",
       "4      AFG      Asia  Afghanistan  2020-02-28          5.0        0.0   \n",
       "\n",
       "   new_cases_smoothed  total_deaths  new_deaths  new_deaths_smoothed  \\\n",
       "0                 0.0           0.0         0.0                  0.0   \n",
       "1                 0.0           0.0         0.0                  0.0   \n",
       "2                 0.0           0.0         0.0                  0.0   \n",
       "3                 0.0           0.0         0.0                  0.0   \n",
       "4                 0.0           0.0         0.0                  0.0   \n",
       "\n",
       "   total_cases_per_million  new_cases_per_million  \\\n",
       "0                    0.126                  0.126   \n",
       "1                    0.126                  0.000   \n",
       "2                    0.126                  0.000   \n",
       "3                    0.126                  0.000   \n",
       "4                    0.126                  0.000   \n",
       "\n",
       "   new_cases_smoothed_per_million  total_deaths_per_million  \\\n",
       "0                             0.0                       0.0   \n",
       "1                             0.0                       0.0   \n",
       "2                             0.0                       0.0   \n",
       "3                             0.0                       0.0   \n",
       "4                             0.0                       0.0   \n",
       "\n",
       "   new_deaths_per_million  new_deaths_smoothed_per_million  \n",
       "0                     0.0                              0.0  \n",
       "1                     0.0                              0.0  \n",
       "2                     0.0                              0.0  \n",
       "3                     0.0                              0.0  \n",
       "4                     0.0                              0.0  "
      ]
     },
     "execution_count": 16,
     "metadata": {},
     "output_type": "execute_result"
    }
   ],
   "source": [
    "covid_death = covid_data[['iso_code', 'continent', 'location', 'date', 'total_cases', 'new_cases',\n",
    "       'new_cases_smoothed', 'total_deaths', 'new_deaths',\n",
    "       'new_deaths_smoothed', 'total_cases_per_million',\n",
    "       'new_cases_per_million', 'new_cases_smoothed_per_million',\n",
    "       'total_deaths_per_million', 'new_deaths_per_million',\n",
    "       'new_deaths_smoothed_per_million']]\n",
    "covid_death = covid_death.fillna(value=0)\n",
    "covid_death.head()"
   ]
  },
  {
   "cell_type": "code",
   "execution_count": 17,
   "metadata": {},
   "outputs": [
    {
     "data": {
      "text/html": [
       "<div>\n",
       "<style scoped>\n",
       "    .dataframe tbody tr th:only-of-type {\n",
       "        vertical-align: middle;\n",
       "    }\n",
       "\n",
       "    .dataframe tbody tr th {\n",
       "        vertical-align: top;\n",
       "    }\n",
       "\n",
       "    .dataframe thead th {\n",
       "        text-align: right;\n",
       "    }\n",
       "</style>\n",
       "<table border=\"1\" class=\"dataframe\">\n",
       "  <thead>\n",
       "    <tr style=\"text-align: right;\">\n",
       "      <th></th>\n",
       "      <th>iso_code</th>\n",
       "      <th>continent</th>\n",
       "      <th>location</th>\n",
       "      <th>date</th>\n",
       "      <th>total_vaccinations</th>\n",
       "      <th>people_vaccinated</th>\n",
       "      <th>people_fully_vaccinated</th>\n",
       "      <th>total_boosters</th>\n",
       "      <th>new_vaccinations</th>\n",
       "      <th>new_vaccinations_smoothed</th>\n",
       "      <th>total_vaccinations_per_hundred</th>\n",
       "      <th>people_vaccinated_per_hundred</th>\n",
       "      <th>people_fully_vaccinated_per_hundred</th>\n",
       "      <th>total_boosters_per_hundred</th>\n",
       "      <th>new_vaccinations_smoothed_per_million</th>\n",
       "      <th>new_people_vaccinated_smoothed</th>\n",
       "      <th>new_people_vaccinated_smoothed_per_hundred</th>\n",
       "    </tr>\n",
       "  </thead>\n",
       "  <tbody>\n",
       "    <tr>\n",
       "      <th>148561</th>\n",
       "      <td>ZWE</td>\n",
       "      <td>Africa</td>\n",
       "      <td>Zimbabwe</td>\n",
       "      <td>2021-12-19</td>\n",
       "      <td>7123684.0</td>\n",
       "      <td>4054165.0</td>\n",
       "      <td>3069519.0</td>\n",
       "      <td>0.0</td>\n",
       "      <td>11738.0</td>\n",
       "      <td>27121.0</td>\n",
       "      <td>47.20</td>\n",
       "      <td>26.86</td>\n",
       "      <td>20.34</td>\n",
       "      <td>0.0</td>\n",
       "      <td>1797.0</td>\n",
       "      <td>13899.0</td>\n",
       "      <td>0.092</td>\n",
       "    </tr>\n",
       "    <tr>\n",
       "      <th>148560</th>\n",
       "      <td>ZWE</td>\n",
       "      <td>Africa</td>\n",
       "      <td>Zimbabwe</td>\n",
       "      <td>2021-12-18</td>\n",
       "      <td>7111946.0</td>\n",
       "      <td>4048019.0</td>\n",
       "      <td>3063927.0</td>\n",
       "      <td>0.0</td>\n",
       "      <td>19555.0</td>\n",
       "      <td>28607.0</td>\n",
       "      <td>47.12</td>\n",
       "      <td>26.82</td>\n",
       "      <td>20.30</td>\n",
       "      <td>0.0</td>\n",
       "      <td>1895.0</td>\n",
       "      <td>14744.0</td>\n",
       "      <td>0.098</td>\n",
       "    </tr>\n",
       "    <tr>\n",
       "      <th>148559</th>\n",
       "      <td>ZWE</td>\n",
       "      <td>Africa</td>\n",
       "      <td>Zimbabwe</td>\n",
       "      <td>2021-12-17</td>\n",
       "      <td>7092391.0</td>\n",
       "      <td>4038743.0</td>\n",
       "      <td>3053648.0</td>\n",
       "      <td>0.0</td>\n",
       "      <td>33917.0</td>\n",
       "      <td>27618.0</td>\n",
       "      <td>46.99</td>\n",
       "      <td>26.76</td>\n",
       "      <td>20.23</td>\n",
       "      <td>0.0</td>\n",
       "      <td>1830.0</td>\n",
       "      <td>14384.0</td>\n",
       "      <td>0.095</td>\n",
       "    </tr>\n",
       "    <tr>\n",
       "      <th>148558</th>\n",
       "      <td>ZWE</td>\n",
       "      <td>Africa</td>\n",
       "      <td>Zimbabwe</td>\n",
       "      <td>2021-12-16</td>\n",
       "      <td>7058474.0</td>\n",
       "      <td>4023289.0</td>\n",
       "      <td>3035185.0</td>\n",
       "      <td>0.0</td>\n",
       "      <td>45074.0</td>\n",
       "      <td>26738.0</td>\n",
       "      <td>46.77</td>\n",
       "      <td>26.66</td>\n",
       "      <td>20.11</td>\n",
       "      <td>0.0</td>\n",
       "      <td>1772.0</td>\n",
       "      <td>14047.0</td>\n",
       "      <td>0.093</td>\n",
       "    </tr>\n",
       "    <tr>\n",
       "      <th>148557</th>\n",
       "      <td>ZWE</td>\n",
       "      <td>Africa</td>\n",
       "      <td>Zimbabwe</td>\n",
       "      <td>2021-12-15</td>\n",
       "      <td>7013400.0</td>\n",
       "      <td>4000022.0</td>\n",
       "      <td>3013378.0</td>\n",
       "      <td>0.0</td>\n",
       "      <td>33000.0</td>\n",
       "      <td>25508.0</td>\n",
       "      <td>46.47</td>\n",
       "      <td>26.50</td>\n",
       "      <td>19.97</td>\n",
       "      <td>0.0</td>\n",
       "      <td>1690.0</td>\n",
       "      <td>13044.0</td>\n",
       "      <td>0.086</td>\n",
       "    </tr>\n",
       "  </tbody>\n",
       "</table>\n",
       "</div>"
      ],
      "text/plain": [
       "       iso_code continent  location        date  total_vaccinations  \\\n",
       "148561      ZWE    Africa  Zimbabwe  2021-12-19           7123684.0   \n",
       "148560      ZWE    Africa  Zimbabwe  2021-12-18           7111946.0   \n",
       "148559      ZWE    Africa  Zimbabwe  2021-12-17           7092391.0   \n",
       "148558      ZWE    Africa  Zimbabwe  2021-12-16           7058474.0   \n",
       "148557      ZWE    Africa  Zimbabwe  2021-12-15           7013400.0   \n",
       "\n",
       "        people_vaccinated  people_fully_vaccinated  total_boosters  \\\n",
       "148561          4054165.0                3069519.0             0.0   \n",
       "148560          4048019.0                3063927.0             0.0   \n",
       "148559          4038743.0                3053648.0             0.0   \n",
       "148558          4023289.0                3035185.0             0.0   \n",
       "148557          4000022.0                3013378.0             0.0   \n",
       "\n",
       "        new_vaccinations  new_vaccinations_smoothed  \\\n",
       "148561           11738.0                    27121.0   \n",
       "148560           19555.0                    28607.0   \n",
       "148559           33917.0                    27618.0   \n",
       "148558           45074.0                    26738.0   \n",
       "148557           33000.0                    25508.0   \n",
       "\n",
       "        total_vaccinations_per_hundred  people_vaccinated_per_hundred  \\\n",
       "148561                           47.20                          26.86   \n",
       "148560                           47.12                          26.82   \n",
       "148559                           46.99                          26.76   \n",
       "148558                           46.77                          26.66   \n",
       "148557                           46.47                          26.50   \n",
       "\n",
       "        people_fully_vaccinated_per_hundred  total_boosters_per_hundred  \\\n",
       "148561                                20.34                         0.0   \n",
       "148560                                20.30                         0.0   \n",
       "148559                                20.23                         0.0   \n",
       "148558                                20.11                         0.0   \n",
       "148557                                19.97                         0.0   \n",
       "\n",
       "        new_vaccinations_smoothed_per_million  new_people_vaccinated_smoothed  \\\n",
       "148561                                 1797.0                         13899.0   \n",
       "148560                                 1895.0                         14744.0   \n",
       "148559                                 1830.0                         14384.0   \n",
       "148558                                 1772.0                         14047.0   \n",
       "148557                                 1690.0                         13044.0   \n",
       "\n",
       "        new_people_vaccinated_smoothed_per_hundred  \n",
       "148561                                       0.092  \n",
       "148560                                       0.098  \n",
       "148559                                       0.095  \n",
       "148558                                       0.093  \n",
       "148557                                       0.086  "
      ]
     },
     "execution_count": 17,
     "metadata": {},
     "output_type": "execute_result"
    }
   ],
   "source": [
    "covid_vaccination = covid_data[['iso_code', 'continent', 'location', 'date','total_vaccinations',\n",
    "       'people_vaccinated', 'people_fully_vaccinated', 'total_boosters',\n",
    "       'new_vaccinations', 'new_vaccinations_smoothed',\n",
    "       'total_vaccinations_per_hundred', 'people_vaccinated_per_hundred',\n",
    "       'people_fully_vaccinated_per_hundred', 'total_boosters_per_hundred',\n",
    "       'new_vaccinations_smoothed_per_million',\n",
    "       'new_people_vaccinated_smoothed',\n",
    "       'new_people_vaccinated_smoothed_per_hundred']]\n",
    "covid_vaccination = covid_vaccination.fillna(value=0)\n",
    "covid_vaccination.tail().sort_values(by='date', ascending=False)"
   ]
  },
  {
   "cell_type": "code",
   "execution_count": 18,
   "metadata": {},
   "outputs": [],
   "source": [
    "connection = pyodbc.connect('Driver={SQL Server};'\n",
    "                      'Server=LAPTOP-E28526DD\\SQLEXPRESS;'\n",
    "                      'Database=coviddata;'\n",
    "                      'Trusted_Connection=yes;')"
   ]
  },
  {
   "cell_type": "code",
   "execution_count": 19,
   "metadata": {},
   "outputs": [],
   "source": [
    "cursor = connection.cursor()"
   ]
  },
  {
   "cell_type": "code",
   "execution_count": 20,
   "metadata": {},
   "outputs": [],
   "source": [
    "for index, row in covid_death.iterrows():\n",
    "    cursor.execute(\"INSERT INTO [coviddata].[dbo].[covid_death$](iso_code, continent, location, date, total_cases, new_cases,new_cases_smoothed, total_deaths, new_deaths,new_deaths_smoothed, total_cases_per_million,new_cases_per_million, new_cases_smoothed_per_million,total_deaths_per_million, new_deaths_per_million,new_deaths_smoothed_per_million) values(?,?,?,?,?,?,?,?,?,?,?,?,?,?,?,?)\", row.iso_code, row.continent, row.location, row.date, row.total_cases, row.new_cases,row.new_cases_smoothed, row.total_deaths, row.new_deaths,row.new_deaths_smoothed, row.total_cases_per_million,row.new_cases_per_million, row.new_cases_smoothed_per_million,row.total_deaths_per_million, row.new_deaths_per_million,row.new_deaths_smoothed_per_million)"
   ]
  },
  {
   "cell_type": "code",
   "execution_count": 21,
   "metadata": {},
   "outputs": [],
   "source": [
    "connection.commit()"
   ]
  },
  {
   "cell_type": "code",
   "execution_count": 22,
   "metadata": {},
   "outputs": [],
   "source": [
    "for index, row in covid_vaccination.iterrows():\n",
    "    cursor.execute(\"INSERT INTO [coviddata].[dbo].[covid_vaccination$](iso_code, continent, location, date,total_vaccinations,people_vaccinated, people_fully_vaccinated, total_boosters,new_vaccinations, new_vaccinations_smoothed,total_vaccinations_per_hundred, people_vaccinated_per_hundred,people_fully_vaccinated_per_hundred, total_boosters_per_hundred, new_vaccinations_smoothed_per_million,new_people_vaccinated_smoothed, new_people_vaccinated_smoothed_per_hundred) values(?,?,?,?,?,?,?,?,?,?,?,?,?,?,?,?,?)\", row.iso_code, row.continent, row.location, row.date,row.total_vaccinations,row.people_vaccinated, row.people_fully_vaccinated, row.total_boosters,row.new_vaccinations, row.new_vaccinations_smoothed,row.total_vaccinations_per_hundred, row.people_vaccinated_per_hundred,row.people_fully_vaccinated_per_hundred, row.total_boosters_per_hundred, row.new_vaccinations_smoothed_per_million,row.new_people_vaccinated_smoothed, row.new_people_vaccinated_smoothed_per_hundred)"
   ]
  },
  {
   "cell_type": "code",
   "execution_count": 23,
   "metadata": {},
   "outputs": [],
   "source": [
    "connection.commit()"
   ]
  },
  {
   "cell_type": "code",
   "execution_count": null,
   "metadata": {},
   "outputs": [],
   "source": [
    "## create temp table for new updated rows\n",
    "\n",
    "for index, row in covid_death.iterrows():\n",
    "    cursor.execute(\"INSERT INTO [coviddata].[dbo].[covid_death_t$](iso_code, continent, location, date, total_cases, new_cases,new_cases_smoothed, total_deaths, new_deaths,new_deaths_smoothed, total_cases_per_million,new_cases_per_million, new_cases_smoothed_per_million,total_deaths_per_million, new_deaths_per_million,new_deaths_smoothed_per_million) values(?,?,?,?,?,?,?,?,?,?,?,?,?,?,?,?)\", row.iso_code, row.continent, row.location, row.date, row.total_cases, row.new_cases,row.new_cases_smoothed, row.total_deaths, row.new_deaths,row.new_deaths_smoothed, row.total_cases_per_million,row.new_cases_per_million, row.new_cases_smoothed_per_million,row.total_deaths_per_million, row.new_deaths_per_million,row.new_deaths_smoothed_per_million)\n",
    "\n",
    "for index, row in covid_vaccination.iterrows():\n",
    "    cursor.execute(\"INSERT INTO [coviddata].[dbo].[covid_vaccination_t$](iso_code, continent, location, date,total_vaccinations,people_vaccinated, people_fully_vaccinated, total_boosters,new_vaccinations, new_vaccinations_smoothed,total_vaccinations_per_hundred, people_vaccinated_per_hundred,people_fully_vaccinated_per_hundred, total_boosters_per_hundred, new_vaccinations_smoothed_per_million,new_people_vaccinated_smoothed, new_people_vaccinated_smoothed_per_hundred) values(?,?,?,?,?,?,?,?,?,?,?,?,?,?,?,?,?)\", row.iso_code, row.continent, row.location, row.date,row.total_vaccinations,row.people_vaccinated, row.people_fully_vaccinated, row.total_boosters,row.new_vaccinations, row.new_vaccinations_smoothed,row.total_vaccinations_per_hundred, row.people_vaccinated_per_hundred,row.people_fully_vaccinated_per_hundred, row.total_boosters_per_hundred, row.new_vaccinations_smoothed_per_million,row.new_people_vaccinated_smoothed, row.new_people_vaccinated_smoothed_per_hundred)"
   ]
  },
  {
   "cell_type": "code",
   "execution_count": null,
   "metadata": {},
   "outputs": [],
   "source": [
    "connection.commit()"
   ]
  },
  {
   "cell_type": "code",
   "execution_count": null,
   "metadata": {},
   "outputs": [],
   "source": [
    "## for coming iterations of updating change, insert difference\n",
    "cursor.execute(\n",
    "insert into [coviddata].[dbo].[covid_death$](iso_code, continent, location, date, total_cases, new_cases,new_cases_smoothed, total_deaths, new_deaths,new_deaths_smoothed, total_cases_per_million,new_cases_per_million, new_cases_smoothed_per_million,total_deaths_per_million, new_deaths_per_million,new_deaths_smoothed_per_million)\n",
    "(select * from [coviddata].[dbo].[covid_death$] as a\n",
    "except\n",
    "select * from [coviddata].[dbo].[covid_death_t$] as b)\n",
    ")\n",
    "\n",
    "cursor.execute(\n",
    "insert into [coviddata].[dbo].[covid_vaccination$](iso_code, continent, location, date, total_cases, new_cases,new_cases_smoothed, total_deaths, new_deaths,new_deaths_smoothed, total_cases_per_million,new_cases_per_million, new_cases_smoothed_per_million,total_deaths_per_million, new_deaths_per_million,new_deaths_smoothed_per_million)\n",
    "(select * from [coviddata].[dbo].[covid_vaccination$] as a\n",
    "except\n",
    "select * from [coviddata].[dbo].[covid_vaccination_t$] as b)\n",
    ")"
   ]
  },
  {
   "cell_type": "code",
   "execution_count": 24,
   "metadata": {},
   "outputs": [
    {
     "data": {
      "text/plain": [
       "<pyodbc.Cursor at 0x1708c86b630>"
      ]
     },
     "execution_count": 24,
     "metadata": {},
     "output_type": "execute_result"
    }
   ],
   "source": [
    "cursor.execute('SELECT top 5 * FROM [coviddata].[dbo].[covid_vaccination$]')"
   ]
  },
  {
   "cell_type": "code",
   "execution_count": 25,
   "metadata": {},
   "outputs": [],
   "source": [
    "cursor.close()"
   ]
  },
  {
   "cell_type": "code",
   "execution_count": null,
   "metadata": {},
   "outputs": [],
   "source": []
  }
 ],
 "metadata": {
  "kernelspec": {
   "display_name": "Python 3.8.1 64-bit",
   "language": "python",
   "name": "python38164bit2c1687f2b73645c4a6a3d2d9ac2c947f"
  },
  "language_info": {
   "codemirror_mode": {
    "name": "ipython",
    "version": 3
   },
   "file_extension": ".py",
   "mimetype": "text/x-python",
   "name": "python",
   "nbconvert_exporter": "python",
   "pygments_lexer": "ipython3",
   "version": "3.8.5"
  }
 },
 "nbformat": 4,
 "nbformat_minor": 4
}
